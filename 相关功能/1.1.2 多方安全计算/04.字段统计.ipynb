{
 "cells": [
  {
   "cell_type": "markdown",
   "id": "46c2e26cf08613f8",
   "metadata": {},
   "source": [
    "# 1 数据读取"
   ]
  },
  {
   "cell_type": "markdown",
   "id": "71e56fb9f25b3953",
   "metadata": {},
   "source": [
    "#### 将DataFrame数据按行和列分别分割保存为csv数据文件来模拟各方持有的数据情况，读取csv数据分别为HDataFrame和VDataFrame类型变量"
   ]
  },
  {
   "cell_type": "markdown",
   "id": "b3ef593085bc0875",
   "metadata": {},
   "source": [
    "## 1.1 初始化"
   ]
  },
  {
   "cell_type": "code",
   "execution_count": 1,
   "id": "initial_id",
   "metadata": {
    "ExecuteTime": {
     "end_time": "2024-07-22T06:18:36.403147Z",
     "start_time": "2024-07-22T06:18:31.952957Z"
    }
   },
   "outputs": [
    {
     "name": "stderr",
     "output_type": "stream",
     "text": [
      "2024-08-13 18:04:59,819\tINFO worker.py:1540 -- Connecting to existing Ray cluster at address: ecm-02:6379...\n",
      "2024-08-13 18:04:59,835\tINFO worker.py:1724 -- Connected to Ray cluster.\n",
      "2024-08-13 18:04:59.861 INFO api.py:233 [bob] -- [Anonymous_job] Started rayfed with {'CLUSTER_ADDRESSES': {'alice': 'ecm-01:16307', 'bob': '0.0.0.0:16307'}, 'CURRENT_PARTY_NAME': 'bob', 'TLS_CONFIG': {'ca_cert': '/home/beng003/certificate/alice_ca.crt', 'cert': '/home/beng003/certificate/bob_server_cert.crt', 'key': '/home/beng003/certificate/bob_server_key.key'}}\n"
     ]
    },
    {
     "name": "stdout",
     "output_type": "stream",
     "text": [
      "The version of SecretFlow: 1.8.0b0\n"
     ]
    },
    {
     "name": "stderr",
     "output_type": "stream",
     "text": [
      "2024-08-13 18:05:00.840 INFO barriers.py:284 [bob] -- [Anonymous_job] Succeeded to create receiver proxy actor.\n",
      "\u001b[36m(ReceiverProxyActor pid=189371)\u001b[0m 2024-08-13 18:05:00.836 INFO grpc_proxy.py:359 [bob] -- [Anonymous_job] ReceiverProxy binding port 16307, options: (('grpc.enable_retries', 1), ('grpc.so_reuseport', 0), ('grpc.max_send_message_length', 524288000), ('grpc.max_receive_message_length', 524288000), ('grpc.service_config', '{\"methodConfig\": [{\"name\": [{\"service\": \"GrpcService\"}], \"retryPolicy\": {\"maxAttempts\": 5, \"initialBackoff\": \"5s\", \"maxBackoff\": \"30s\", \"backoffMultiplier\": 2, \"retryableStatusCodes\": [\"UNAVAILABLE\"]}}]}'))...\n",
      "\u001b[36m(ReceiverProxyActor pid=189371)\u001b[0m 2024-08-13 18:05:00.839 INFO grpc_proxy.py:379 [bob] -- [Anonymous_job] Successfully start Grpc service with credentials.\n",
      "2024-08-13 18:05:01.804 INFO barriers.py:333 [bob] -- [Anonymous_job] SenderProxyActor has successfully created.\n",
      "2024-08-13 18:05:01.805 INFO barriers.py:520 [bob] -- [Anonymous_job] Try ping ['alice'] at 0 attemp, up to 3600 attemps.\n",
      "\u001b[33m(raylet)\u001b[0m [2024-08-13 18:05:04,575 E 132390 132414] (raylet) file_system_monitor.cc:111: /tmp/ray/session_2024-08-13_17-11-20_281145_132313 is over 95% full, available space: 4234997760; capacity: 105089261568. Object creation will fail if spilling is required.\n",
      "2024-08-13 18:05:04.808 INFO barriers.py:520 [bob] -- [Anonymous_job] Try ping ['alice'] at 1 attemp, up to 3600 attemps.\n",
      "2024-08-13 18:05:07.812 INFO barriers.py:520 [bob] -- [Anonymous_job] Try ping ['alice'] at 2 attemp, up to 3600 attemps.\n",
      "2024-08-13 18:05:10.817 INFO barriers.py:520 [bob] -- [Anonymous_job] Try ping ['alice'] at 3 attemp, up to 3600 attemps.\n",
      "2024-08-13 18:05:13.821 INFO barriers.py:520 [bob] -- [Anonymous_job] Try ping ['alice'] at 4 attemp, up to 3600 attemps.\n"
     ]
    },
    {
     "name": "stdout",
     "output_type": "stream",
     "text": [
      "*****************************************************Bob SPU\n"
     ]
    },
    {
     "name": "stderr",
     "output_type": "stream",
     "text": [
      "\u001b[33m(raylet)\u001b[0m [2024-08-13 18:05:14,582 E 132390 132414] (raylet) file_system_monitor.cc:111: /tmp/ray/session_2024-08-13_17-11-20_281145_132313 is over 95% full, available space: 4231237632; capacity: 105089261568. Object creation will fail if spilling is required.\n",
      "\u001b[33m(raylet)\u001b[0m [2024-08-13 18:05:24,593 E 132390 132414] (raylet) file_system_monitor.cc:111: /tmp/ray/session_2024-08-13_17-11-20_281145_132313 is over 95% full, available space: 4234907648; capacity: 105089261568. Object creation will fail if spilling is required.\n",
      "\u001b[33m(raylet)\u001b[0m [2024-08-13 18:05:34,600 E 132390 132414] (raylet) file_system_monitor.cc:111: /tmp/ray/session_2024-08-13_17-11-20_281145_132313 is over 95% full, available space: 4231053312; capacity: 105089261568. Object creation will fail if spilling is required.\n",
      "\u001b[33m(raylet)\u001b[0m [2024-08-13 18:05:44,607 E 132390 132414] (raylet) file_system_monitor.cc:111: /tmp/ray/session_2024-08-13_17-11-20_281145_132313 is over 95% full, available space: 4233773056; capacity: 105089261568. Object creation will fail if spilling is required.\n"
     ]
    },
    {
     "name": "stderr",
     "output_type": "stream",
     "text": [
      "\u001b[33m(raylet)\u001b[0m [2024-08-13 18:05:54,616 E 132390 132414] (raylet) file_system_monitor.cc:111: /tmp/ray/session_2024-08-13_17-11-20_281145_132313 is over 95% full, available space: 4234764288; capacity: 105089261568. Object creation will fail if spilling is required.\n",
      "\u001b[33m(raylet)\u001b[0m [2024-08-13 18:06:04,624 E 132390 132414] (raylet) file_system_monitor.cc:111: /tmp/ray/session_2024-08-13_17-11-20_281145_132313 is over 95% full, available space: 4230946816; capacity: 105089261568. Object creation will fail if spilling is required.\n",
      "\u001b[36m(_run pid=135102)\u001b[0m INFO:jax._src.xla_bridge:Unable to initialize backend 'cuda': \n",
      "\u001b[36m(_run pid=135102)\u001b[0m INFO:jax._src.xla_bridge:Unable to initialize backend 'rocm': module 'jaxlib.xla_extension' has no attribute 'GpuAllocatorConfig'\n",
      "\u001b[36m(_run pid=135102)\u001b[0m INFO:jax._src.xla_bridge:Unable to initialize backend 'tpu': INTERNAL: Failed to open libtpu.so: libtpu.so: cannot open shared object file: No such file or directory\n",
      "\u001b[33m(raylet)\u001b[0m [2024-08-13 18:06:14,631 E 132390 132414] (raylet) file_system_monitor.cc:111: /tmp/ray/session_2024-08-13_17-11-20_281145_132313 is over 95% full, available space: 4234633216; capacity: 105089261568. Object creation will fail if spilling is required.\n"
     ]
    }
   ],
   "source": [
    "import secretflow as sf\n",
    "\n",
    "# Check the version of your SecretFlow\n",
    "print(\"The version of SecretFlow: {}\".format(sf.__version__))\n",
    "\n",
    "# In case you have a running secretflow runtime already.\n",
    "sf.shutdown()\n",
    "\n",
    "pyu_port = 16307\n",
    "spu_port = 11666\n",
    "\n",
    "cluster_config = {\n",
    "    \"parties\": {\n",
    "        \"alice\": {\n",
    "            # replace with alice's real address.\n",
    "            \"address\": \"ecm-01:\" + str(pyu_port),\n",
    "            \"listen_addr\": \"0.0.0.0:\" + str(pyu_port),\n",
    "        },\n",
    "        \"bob\": {\n",
    "            # replace with bob's real address.\n",
    "            \"address\": \"ecm-02:\" + str(pyu_port),\n",
    "            \"listen_addr\": \"0.0.0.0:\" + str(pyu_port),\n",
    "        },\n",
    "    },\n",
    "    \"self_party\": \"bob\",\n",
    "}\n",
    "\n",
    "tls_config = {\n",
    "    \"ca_cert\": \"/home/beng003/certificate/alice_ca.crt\",\n",
    "    \"cert\": \"/home/beng003/certificate/bob_server_cert.crt\",\n",
    "    \"key\": \"/home/beng003/certificate/bob_server_key.key\",\n",
    "}\n",
    "\n",
    "\n",
    "sf.init(address=\"ecm-02:6379\", cluster_config=cluster_config, tls_config=tls_config)\n",
    "alice, bob = sf.PYU(\"alice\"), sf.PYU(\"bob\")\n",
    "\n",
    "\n",
    "from secretflow.data.horizontal import read_csv\n",
    "from secretflow.security.aggregation import SecureAggregator\n",
    "from secretflow.security.compare import SPUComparator\n",
    "from secretflow.utils.simulation.datasets import load_dermatology\n",
    "\n",
    "# aggr = SecureAggregator(alice, [alice, bob])\n",
    "\n",
    "\n",
    "import spu\n",
    "\n",
    "cluster_def = {\n",
    "    \"nodes\": [\n",
    "        {\n",
    "            \"party\": \"alice\",\n",
    "            # The address for other peers.\n",
    "            \"address\": \"ecm-01:\" + str(spu_port),\n",
    "            # The listen address of this node.\n",
    "            # Optional. Address will be used if listen_address is empty.\n",
    "            \"listen_address\": \"0.0.0.0:\" + str(spu_port),\n",
    "        },\n",
    "        {\n",
    "            \"party\": \"bob\",\n",
    "            \"address\": \"ecm-02:\" + str(spu_port),\n",
    "            \"listen_address\": \"0.0.0.0:\" + str(spu_port),\n",
    "        },\n",
    "    ],\n",
    "    \"runtime_config\": {\n",
    "        \"protocol\": spu.spu_pb2.SEMI2K,\n",
    "        \"field\": spu.spu_pb2.FM128,\n",
    "        \"sigmoid_mode\": spu.spu_pb2.RuntimeConfig.SIGMOID_REAL,\n",
    "    },\n",
    "}\n",
    "\n",
    "# link_desc = {\n",
    "#     \"connect_retry_times\": 20,\n",
    "#     \"connect_retry_interval_ms\": 5000,\n",
    "#     \"recv_timeout_ms\": 25000,\n",
    "#     \"http_max_payload_size\": 1048576,\n",
    "#     \"http_timeout_ms\": 10000,\n",
    "#     \"throttle_window_size\": 1024,\n",
    "# }\n",
    "\n",
    "link_desc = {\n",
    "    \"recv_timeout_ms\": 6000,\n",
    "}\n",
    "\n",
    "print(\"*****************************************************Bob SPU\")\n",
    "spu_device = sf.SPU(cluster_def=cluster_def, link_desc=link_desc)"
   ]
  },
  {
   "cell_type": "markdown",
   "id": "6b28d05a693b1cce",
   "metadata": {},
   "source": [
    "## 1.2 查看Dataframe数据"
   ]
  },
  {
   "cell_type": "code",
   "execution_count": 2,
   "id": "7b48ce0c147f2fd1",
   "metadata": {
    "ExecuteTime": {
     "end_time": "2024-07-22T06:18:39.270289Z",
     "start_time": "2024-07-22T06:18:39.192506Z"
    }
   },
   "outputs": [
    {
     "data": {
      "text/html": [
       "<div>\n",
       "<style scoped>\n",
       "    .dataframe tbody tr th:only-of-type {\n",
       "        vertical-align: middle;\n",
       "    }\n",
       "\n",
       "    .dataframe tbody tr th {\n",
       "        vertical-align: top;\n",
       "    }\n",
       "\n",
       "    .dataframe thead th {\n",
       "        text-align: right;\n",
       "    }\n",
       "</style>\n",
       "<table border=\"1\" class=\"dataframe\">\n",
       "  <thead>\n",
       "    <tr style=\"text-align: right;\">\n",
       "      <th></th>\n",
       "      <th>sepal length (cm)</th>\n",
       "      <th>sepal width (cm)</th>\n",
       "      <th>petal length (cm)</th>\n",
       "      <th>petal width (cm)</th>\n",
       "      <th>target</th>\n",
       "      <th>uid</th>\n",
       "    </tr>\n",
       "  </thead>\n",
       "  <tbody>\n",
       "    <tr>\n",
       "      <th>0</th>\n",
       "      <td>5.1</td>\n",
       "      <td>3.5</td>\n",
       "      <td>1.4</td>\n",
       "      <td>0.2</td>\n",
       "      <td>0</td>\n",
       "      <td>0</td>\n",
       "    </tr>\n",
       "    <tr>\n",
       "      <th>1</th>\n",
       "      <td>4.9</td>\n",
       "      <td>3.0</td>\n",
       "      <td>1.4</td>\n",
       "      <td>0.2</td>\n",
       "      <td>0</td>\n",
       "      <td>1</td>\n",
       "    </tr>\n",
       "    <tr>\n",
       "      <th>2</th>\n",
       "      <td>4.7</td>\n",
       "      <td>3.2</td>\n",
       "      <td>1.3</td>\n",
       "      <td>0.2</td>\n",
       "      <td>0</td>\n",
       "      <td>2</td>\n",
       "    </tr>\n",
       "    <tr>\n",
       "      <th>3</th>\n",
       "      <td>4.6</td>\n",
       "      <td>3.1</td>\n",
       "      <td>1.5</td>\n",
       "      <td>0.2</td>\n",
       "      <td>0</td>\n",
       "      <td>3</td>\n",
       "    </tr>\n",
       "    <tr>\n",
       "      <th>4</th>\n",
       "      <td>5.0</td>\n",
       "      <td>3.6</td>\n",
       "      <td>1.4</td>\n",
       "      <td>0.2</td>\n",
       "      <td>0</td>\n",
       "      <td>4</td>\n",
       "    </tr>\n",
       "    <tr>\n",
       "      <th>...</th>\n",
       "      <td>...</td>\n",
       "      <td>...</td>\n",
       "      <td>...</td>\n",
       "      <td>...</td>\n",
       "      <td>...</td>\n",
       "      <td>...</td>\n",
       "    </tr>\n",
       "    <tr>\n",
       "      <th>145</th>\n",
       "      <td>6.7</td>\n",
       "      <td>3.0</td>\n",
       "      <td>5.2</td>\n",
       "      <td>2.3</td>\n",
       "      <td>2</td>\n",
       "      <td>145</td>\n",
       "    </tr>\n",
       "    <tr>\n",
       "      <th>146</th>\n",
       "      <td>6.3</td>\n",
       "      <td>2.5</td>\n",
       "      <td>5.0</td>\n",
       "      <td>1.9</td>\n",
       "      <td>2</td>\n",
       "      <td>146</td>\n",
       "    </tr>\n",
       "    <tr>\n",
       "      <th>147</th>\n",
       "      <td>6.5</td>\n",
       "      <td>3.0</td>\n",
       "      <td>5.2</td>\n",
       "      <td>2.0</td>\n",
       "      <td>2</td>\n",
       "      <td>147</td>\n",
       "    </tr>\n",
       "    <tr>\n",
       "      <th>148</th>\n",
       "      <td>6.2</td>\n",
       "      <td>3.4</td>\n",
       "      <td>5.4</td>\n",
       "      <td>2.3</td>\n",
       "      <td>2</td>\n",
       "      <td>148</td>\n",
       "    </tr>\n",
       "    <tr>\n",
       "      <th>149</th>\n",
       "      <td>5.9</td>\n",
       "      <td>3.0</td>\n",
       "      <td>5.1</td>\n",
       "      <td>1.8</td>\n",
       "      <td>2</td>\n",
       "      <td>149</td>\n",
       "    </tr>\n",
       "  </tbody>\n",
       "</table>\n",
       "<p>150 rows × 6 columns</p>\n",
       "</div>"
      ],
      "text/plain": [
       "     sepal length (cm)  sepal width (cm)  petal length (cm)  petal width (cm)  \\\n",
       "0                  5.1               3.5                1.4               0.2   \n",
       "1                  4.9               3.0                1.4               0.2   \n",
       "2                  4.7               3.2                1.3               0.2   \n",
       "3                  4.6               3.1                1.5               0.2   \n",
       "4                  5.0               3.6                1.4               0.2   \n",
       "..                 ...               ...                ...               ...   \n",
       "145                6.7               3.0                5.2               2.3   \n",
       "146                6.3               2.5                5.0               1.9   \n",
       "147                6.5               3.0                5.2               2.0   \n",
       "148                6.2               3.4                5.4               2.3   \n",
       "149                5.9               3.0                5.1               1.8   \n",
       "\n",
       "     target  uid  \n",
       "0         0    0  \n",
       "1         0    1  \n",
       "2         0    2  \n",
       "3         0    3  \n",
       "4         0    4  \n",
       "..      ...  ...  \n",
       "145       2  145  \n",
       "146       2  146  \n",
       "147       2  147  \n",
       "148       2  148  \n",
       "149       2  149  \n",
       "\n",
       "[150 rows x 6 columns]"
      ]
     },
     "execution_count": 2,
     "metadata": {},
     "output_type": "execute_result"
    }
   ],
   "source": [
    "import pandas as pd\n",
    "from sklearn.datasets import load_iris\n",
    "\n",
    "iris = load_iris(as_frame=True)\n",
    "data = pd.concat([iris.data, iris.target], axis=1)\n",
    "data[\"uid\"] = data.index\n",
    "data"
   ]
  },
  {
   "cell_type": "markdown",
   "id": "62f2ad19a58b8dc9",
   "metadata": {},
   "source": [
    "## 1.3 数据横向分割（每个参与方持有一定数量的完整数据）"
   ]
  },
  {
   "cell_type": "code",
   "execution_count": 3,
   "id": "f247da7a2c6a6c23",
   "metadata": {
    "ExecuteTime": {
     "end_time": "2024-07-22T06:18:43.363352Z",
     "start_time": "2024-07-22T06:18:43.349638Z"
    }
   },
   "outputs": [],
   "source": [
    "# Horizontal partitioning.\n",
    "h_alice, h_bob = data.iloc[:75, :], data.iloc[75:, :]\n",
    "\n",
    "# Save to temporary files.\n",
    "import os\n",
    "\n",
    "temp_dir = \"/home/beng003/python_project/sf-test/data/\"\n",
    "\n",
    "h_alice_path = os.path.join(temp_dir, 'h_alice.csv')\n",
    "h_bob_path = os.path.join(temp_dir, 'h_bob.csv')\n",
    "h_alice.to_csv(h_alice_path, index=False)\n",
    "h_bob.to_csv(h_bob_path, index=False)"
   ]
  },
  {
   "cell_type": "markdown",
   "id": "2d534d87c6e9c5fd",
   "metadata": {},
   "source": [
    "## 1.4 数据纵向分割（每个参与方持有一定数量的特征数据）"
   ]
  },
  {
   "cell_type": "code",
   "execution_count": 4,
   "id": "2935aa0fcb7e245a",
   "metadata": {
    "ExecuteTime": {
     "end_time": "2024-07-22T06:18:45.536637Z",
     "start_time": "2024-07-22T06:18:45.528825Z"
    }
   },
   "outputs": [],
   "source": [
    "import numpy as np\n",
    "\n",
    "# Vertical partitioning.\n",
    "v_alice, v_bob = (\n",
    "    data.iloc[:, np.r_[0:3, -1]],\n",
    "    data.iloc[:, 3:],\n",
    ")\n",
    "\n",
    "# Save to temporary files.\n",
    "v_alice_path = os.path.join(temp_dir, 'v_alice.csv')\n",
    "v_bob_path = os.path.join(temp_dir, 'v_bob.csv')\n",
    "v_alice.to_csv(v_alice_path, index=False)\n",
    "v_bob.to_csv(v_bob_path, index=False)"
   ]
  },
  {
   "cell_type": "markdown",
   "id": "874cb19bed7de0f4",
   "metadata": {},
   "source": [
    "## 1.5 读取横向分割的csv数据"
   ]
  },
  {
   "cell_type": "code",
   "execution_count": 5,
   "id": "7c05e2b7a5cc1629",
   "metadata": {
    "ExecuteTime": {
     "end_time": "2024-07-22T06:19:17.076915Z",
     "start_time": "2024-07-22T06:19:13.153797Z"
    }
   },
   "outputs": [
    {
     "name": "stderr",
     "output_type": "stream",
     "text": [
      "2024-08-13 18:05:36.620 INFO proxy.py:187 [bob] -- [Anonymous_job] Create proxy actor <class 'secretflow.device.proxy.Actor_Masker'> with party alice.\n",
      "2024-08-13 18:05:36.621 INFO proxy.py:187 [bob] -- [Anonymous_job] Create proxy actor <class 'secretflow.device.proxy.Actor_Masker'> with party bob.\n",
      "2024-08-13 18:05:39.707 INFO proxy.py:187 [bob] -- [Anonymous_job] Create proxy actor <class 'secretflow.device.proxy.ActorPartitionAgent'> with party alice.\n",
      "2024-08-13 18:05:39.708 INFO proxy.py:187 [bob] -- [Anonymous_job] Create proxy actor <class 'secretflow.device.proxy.ActorPartitionAgent'> with party bob.\n"
     ]
    }
   ],
   "source": [
    "\n",
    "from secretflow.data.horizontal import read_csv as h_read_csv\n",
    "from secretflow.security.aggregation import SecureAggregator\n",
    "from secretflow.security import SecureAggregator\n",
    "from secretflow.security.compare import SPUComparator\n",
    "\n",
    "# The aggregator and comparator are respectively used to aggregate\n",
    "# or compare data in subsequent data analysis operations.\n",
    "aggr = SecureAggregator(device=alice, participants=[alice, bob])\n",
    "\n",
    "comp = SPUComparator(spu_device)\n",
    "hdf = h_read_csv(\n",
    "    {alice: h_alice_path, bob: h_bob_path},\n",
    "    aggregator=aggr,\n",
    "    comparator=comp,\n",
    ")\n",
    "\n",
    "hdf.drop(columns=[\"uid\"], inplace=True)"
   ]
  },
  {
   "cell_type": "markdown",
   "id": "e7edfbdbfdeacd61",
   "metadata": {},
   "source": [
    "## 1.6 读取纵向分割的csv数据"
   ]
  },
  {
   "cell_type": "code",
   "execution_count": 6,
   "id": "471d108e5c69bd9e",
   "metadata": {
    "ExecuteTime": {
     "end_time": "2024-07-19T11:39:27.765821Z",
     "start_time": "2024-07-19T11:39:24.981532Z"
    }
   },
   "outputs": [
    {
     "name": "stderr",
     "output_type": "stream",
     "text": [
      "2024-08-13 18:05:51.187 INFO proxy.py:187 [bob] -- [Anonymous_job] Create proxy actor <class 'secretflow.device.proxy.ActorPartitionAgent'> with party alice.\n",
      "2024-08-13 18:05:51.189 INFO proxy.py:187 [bob] -- [Anonymous_job] Create proxy actor <class 'secretflow.device.proxy.ActorPartitionAgent'> with party bob.\n"
     ]
    },
    {
     "name": "stdout",
     "output_type": "stream",
     "text": [
      "\u001b[36m(SPURuntime(device_id=None, party=bob) pid=189755)\u001b[0m [2024-08-13 18:05:51.172] [info] [launch.cc:164] LEGACY PSI config: {\"psi_type\":\"ECDH_PSI_2PC\",\"broadcast_result\":true,\"input_params\":{\"path\":\"/home/beng003/python_project/sf-test/data/v_bob.csv\",\"select_fields\":[\"uid\"],\"precheck\":true},\"output_params\":{\"path\":\"/home/beng003/python_project/sf-test/data/v_bob.csv.psi_output_45157\",\"need_sort\":true},\"curve_type\":\"CURVE_25519\",\"bucket_size\":1048576}\n",
      "\u001b[36m(SPURuntime(device_id=None, party=bob) pid=189755)\u001b[0m [2024-08-13 18:05:51.172] [info] [bucket_psi.cc:400] bucket size set to 1048576\n",
      "\u001b[36m(SPURuntime(device_id=None, party=bob) pid=189755)\u001b[0m [2024-08-13 18:05:51.175] [info] [bucket_psi.cc:252] Begin sanity check for input file: /home/beng003/python_project/sf-test/data/v_bob.csv, precheck_switch:true\n",
      "\u001b[36m(SPURuntime(device_id=None, party=bob) pid=189755)\u001b[0m [2024-08-13 18:05:51.177] [info] [csv_checker.cc:135] Executing duplicated scripts: LC_ALL=C sort --parallel=8 --buffer-size=1G --stable selected-keys.4b6a4bd0-d009-4159-a199-87e0970088c1 | LC_ALL=C uniq -d > duplicate-keys.4b6a4bd0-d009-4159-a199-87e0970088c1\n",
      "\u001b[36m(SPURuntime(device_id=None, party=bob) pid=189755)\u001b[0m [2024-08-13 18:05:51.182] [info] [bucket_psi.cc:265] End sanity check for input file: /home/beng003/python_project/sf-test/data/v_bob.csv, size=150\n",
      "\u001b[36m(SPURuntime(device_id=None, party=bob) pid=189755)\u001b[0m [2024-08-13 18:05:51.182] [info] [bucket_psi.cc:327] Skip doing psi, because dataset has been aligned!\n",
      "\u001b[36m(SPURuntime(device_id=None, party=bob) pid=189755)\u001b[0m [2024-08-13 18:05:51.182] [info] [bucket_psi.cc:382] Begin post filtering, indices.size=150, should_sort=true\n",
      "\u001b[36m(SPURuntime(device_id=None, party=bob) pid=189755)\u001b[0m [2024-08-13 18:05:51.182] [info] [bucket_psi.cc:390] End post filtering, in=/home/beng003/python_project/sf-test/data/v_bob.csv, out=/home/beng003/python_project/sf-test/data/v_bob.csv.psi_output_45157\n"
     ]
    }
   ],
   "source": [
    "from secretflow.data.vertical import read_csv as v_read_csv\n",
    "\n",
    "vdf = v_read_csv(\n",
    "    {alice: v_alice_path, bob: v_bob_path},\n",
    "    spu=spu_device,\n",
    "    keys=\"uid\",\n",
    "    drop_keys=\"uid\",\n",
    "    psi_protocl=\"ECDH_PSI_2PC\",\n",
    ")"
   ]
  },
  {
   "cell_type": "code",
   "execution_count": 7,
   "id": "0d39c45a",
   "metadata": {},
   "outputs": [],
   "source": [
    "from typing import Union\n",
    "import pandas as pd\n",
    "from secretflow.data.horizontal import HDataFrame\n",
    "from secretflow.data.vertical import VDataFrame\n",
    "\n",
    "def table_statistics_vh(\n",
    "    table: Union[pd.DataFrame, VDataFrame, HDataFrame]\n",
    ") -> pd.DataFrame:\n",
    "    \"\"\"Get table statistics for a pd.DataFrame, VDataFrame or HDataFrame.\n",
    "\n",
    "    Args:\n",
    "        table: Union[pd.DataFrame, VDataFrame, HDataFrame]\n",
    "    Returns:\n",
    "    \"\"\"\n",
    "    assert isinstance(\n",
    "        table, (pd.DataFrame, VDataFrame, HDataFrame)\n",
    "    ), \"table must be a pd.DataFrame, VDataFrame or HDataFrame\"\n",
    "    index = table.columns\n",
    "    result = pd.DataFrame(index=index)\n",
    "    result[\"datatype\"] = table.dtypes\n",
    "    result[\"total_count\"] = table.shape[0]\n",
    "    result[\"count(non-NA count)\"] = table.count()\n",
    "    result[\"count_na(NA count)\"] = table.isna().sum()\n",
    "    result[\"na_ratio\"] = table.isna().sum() / table.shape[0]\n",
    "    result[\"min\"] = table.min(numeric_only=True)\n",
    "    result[\"max\"] = table.max(numeric_only=True)\n",
    "    result[\"mean\"] = table.mean(numeric_only=True)\n",
    "\n",
    "    result[\"sum\"] = table.sum(numeric_only=True)\n",
    "\n",
    "    return result"
   ]
  },
  {
   "cell_type": "code",
   "execution_count": 8,
   "id": "5aa56e32",
   "metadata": {},
   "outputs": [
    {
     "data": {
      "text/html": [
       "<div>\n",
       "<style scoped>\n",
       "    .dataframe tbody tr th:only-of-type {\n",
       "        vertical-align: middle;\n",
       "    }\n",
       "\n",
       "    .dataframe tbody tr th {\n",
       "        vertical-align: top;\n",
       "    }\n",
       "\n",
       "    .dataframe thead th {\n",
       "        text-align: right;\n",
       "    }\n",
       "</style>\n",
       "<table border=\"1\" class=\"dataframe\">\n",
       "  <thead>\n",
       "    <tr style=\"text-align: right;\">\n",
       "      <th></th>\n",
       "      <th>datatype</th>\n",
       "      <th>total_count</th>\n",
       "      <th>count(non-NA count)</th>\n",
       "      <th>count_na(NA count)</th>\n",
       "      <th>na_ratio</th>\n",
       "      <th>min</th>\n",
       "      <th>max</th>\n",
       "      <th>mean</th>\n",
       "      <th>sum</th>\n",
       "    </tr>\n",
       "  </thead>\n",
       "  <tbody>\n",
       "    <tr>\n",
       "      <th>sepal length (cm)</th>\n",
       "      <td>float64</td>\n",
       "      <td>150</td>\n",
       "      <td>150</td>\n",
       "      <td>0</td>\n",
       "      <td>0.0</td>\n",
       "      <td>4.3</td>\n",
       "      <td>7.9</td>\n",
       "      <td>5.843333</td>\n",
       "      <td>876.5</td>\n",
       "    </tr>\n",
       "    <tr>\n",
       "      <th>sepal width (cm)</th>\n",
       "      <td>float64</td>\n",
       "      <td>150</td>\n",
       "      <td>150</td>\n",
       "      <td>0</td>\n",
       "      <td>0.0</td>\n",
       "      <td>2.0</td>\n",
       "      <td>4.4</td>\n",
       "      <td>3.057333</td>\n",
       "      <td>458.6</td>\n",
       "    </tr>\n",
       "    <tr>\n",
       "      <th>petal length (cm)</th>\n",
       "      <td>float64</td>\n",
       "      <td>150</td>\n",
       "      <td>150</td>\n",
       "      <td>0</td>\n",
       "      <td>0.0</td>\n",
       "      <td>1.0</td>\n",
       "      <td>6.9</td>\n",
       "      <td>3.758000</td>\n",
       "      <td>563.7</td>\n",
       "    </tr>\n",
       "    <tr>\n",
       "      <th>petal width (cm)</th>\n",
       "      <td>float64</td>\n",
       "      <td>150</td>\n",
       "      <td>150</td>\n",
       "      <td>0</td>\n",
       "      <td>0.0</td>\n",
       "      <td>0.1</td>\n",
       "      <td>2.5</td>\n",
       "      <td>1.199333</td>\n",
       "      <td>179.9</td>\n",
       "    </tr>\n",
       "    <tr>\n",
       "      <th>target</th>\n",
       "      <td>int64</td>\n",
       "      <td>150</td>\n",
       "      <td>150</td>\n",
       "      <td>0</td>\n",
       "      <td>0.0</td>\n",
       "      <td>0.0</td>\n",
       "      <td>2.0</td>\n",
       "      <td>1.000000</td>\n",
       "      <td>150.0</td>\n",
       "    </tr>\n",
       "  </tbody>\n",
       "</table>\n",
       "</div>"
      ],
      "text/plain": [
       "                  datatype  total_count  count(non-NA count)  \\\n",
       "sepal length (cm)  float64          150                  150   \n",
       "sepal width (cm)   float64          150                  150   \n",
       "petal length (cm)  float64          150                  150   \n",
       "petal width (cm)   float64          150                  150   \n",
       "target               int64          150                  150   \n",
       "\n",
       "                   count_na(NA count)  na_ratio  min  max      mean    sum  \n",
       "sepal length (cm)                   0       0.0  4.3  7.9  5.843333  876.5  \n",
       "sepal width (cm)                    0       0.0  2.0  4.4  3.057333  458.6  \n",
       "petal length (cm)                   0       0.0  1.0  6.9  3.758000  563.7  \n",
       "petal width (cm)                    0       0.0  0.1  2.5  1.199333  179.9  \n",
       "target                              0       0.0  0.0  2.0  1.000000  150.0  "
      ]
     },
     "execution_count": 8,
     "metadata": {},
     "output_type": "execute_result"
    }
   ],
   "source": [
    "# from secretflow.stats.table_statistics import table_statistics\n",
    "\n",
    "pd.set_option(\"display.max_rows\", None)\n",
    "data_stats = table_statistics_vh(vdf)\n",
    "data_stats"
   ]
  },
  {
   "cell_type": "code",
   "execution_count": 9,
   "id": "8b90139f",
   "metadata": {},
   "outputs": [
    {
     "data": {
      "text/html": [
       "<div>\n",
       "<style scoped>\n",
       "    .dataframe tbody tr th:only-of-type {\n",
       "        vertical-align: middle;\n",
       "    }\n",
       "\n",
       "    .dataframe tbody tr th {\n",
       "        vertical-align: top;\n",
       "    }\n",
       "\n",
       "    .dataframe thead th {\n",
       "        text-align: right;\n",
       "    }\n",
       "</style>\n",
       "<table border=\"1\" class=\"dataframe\">\n",
       "  <thead>\n",
       "    <tr style=\"text-align: right;\">\n",
       "      <th></th>\n",
       "      <th>datatype</th>\n",
       "      <th>total_count</th>\n",
       "      <th>count(non-NA count)</th>\n",
       "      <th>count_na(NA count)</th>\n",
       "      <th>na_ratio</th>\n",
       "      <th>min</th>\n",
       "      <th>max</th>\n",
       "      <th>mean</th>\n",
       "      <th>sum</th>\n",
       "    </tr>\n",
       "  </thead>\n",
       "  <tbody>\n",
       "    <tr>\n",
       "      <th>sepal length (cm)</th>\n",
       "      <td>float64</td>\n",
       "      <td>150</td>\n",
       "      <td>150</td>\n",
       "      <td>0</td>\n",
       "      <td>0.0</td>\n",
       "      <td>4.3</td>\n",
       "      <td>7.9</td>\n",
       "      <td>5.843333</td>\n",
       "      <td>876.499996</td>\n",
       "    </tr>\n",
       "    <tr>\n",
       "      <th>sepal width (cm)</th>\n",
       "      <td>float64</td>\n",
       "      <td>150</td>\n",
       "      <td>150</td>\n",
       "      <td>0</td>\n",
       "      <td>0.0</td>\n",
       "      <td>2.0</td>\n",
       "      <td>4.4</td>\n",
       "      <td>3.057333</td>\n",
       "      <td>458.599998</td>\n",
       "    </tr>\n",
       "    <tr>\n",
       "      <th>petal length (cm)</th>\n",
       "      <td>float64</td>\n",
       "      <td>150</td>\n",
       "      <td>150</td>\n",
       "      <td>0</td>\n",
       "      <td>0.0</td>\n",
       "      <td>1.0</td>\n",
       "      <td>6.9</td>\n",
       "      <td>3.758000</td>\n",
       "      <td>563.699997</td>\n",
       "    </tr>\n",
       "    <tr>\n",
       "      <th>petal width (cm)</th>\n",
       "      <td>float64</td>\n",
       "      <td>150</td>\n",
       "      <td>150</td>\n",
       "      <td>0</td>\n",
       "      <td>0.0</td>\n",
       "      <td>0.1</td>\n",
       "      <td>2.5</td>\n",
       "      <td>1.199333</td>\n",
       "      <td>179.899998</td>\n",
       "    </tr>\n",
       "    <tr>\n",
       "      <th>target</th>\n",
       "      <td>int64</td>\n",
       "      <td>150</td>\n",
       "      <td>150</td>\n",
       "      <td>0</td>\n",
       "      <td>0.0</td>\n",
       "      <td>0.0</td>\n",
       "      <td>2.0</td>\n",
       "      <td>1.000000</td>\n",
       "      <td>150.000000</td>\n",
       "    </tr>\n",
       "  </tbody>\n",
       "</table>\n",
       "</div>"
      ],
      "text/plain": [
       "                  datatype  total_count  count(non-NA count)  \\\n",
       "sepal length (cm)  float64          150                  150   \n",
       "sepal width (cm)   float64          150                  150   \n",
       "petal length (cm)  float64          150                  150   \n",
       "petal width (cm)   float64          150                  150   \n",
       "target               int64          150                  150   \n",
       "\n",
       "                   count_na(NA count)  na_ratio  min  max      mean  \\\n",
       "sepal length (cm)                   0       0.0  4.3  7.9  5.843333   \n",
       "sepal width (cm)                    0       0.0  2.0  4.4  3.057333   \n",
       "petal length (cm)                   0       0.0  1.0  6.9  3.758000   \n",
       "petal width (cm)                    0       0.0  0.1  2.5  1.199333   \n",
       "target                              0       0.0  0.0  2.0  1.000000   \n",
       "\n",
       "                          sum  \n",
       "sepal length (cm)  876.499996  \n",
       "sepal width (cm)   458.599998  \n",
       "petal length (cm)  563.699997  \n",
       "petal width (cm)   179.899998  \n",
       "target             150.000000  "
      ]
     },
     "execution_count": 9,
     "metadata": {},
     "output_type": "execute_result"
    }
   ],
   "source": [
    "table_statistics_vh(hdf)"
   ]
  },
  {
   "cell_type": "code",
   "execution_count": 10,
   "id": "1da40dae",
   "metadata": {},
   "outputs": [
    {
     "name": "stderr",
     "output_type": "stream",
     "text": [
      "2024-08-13 18:06:18.564 INFO api.py:342 [bob] -- [Anonymous_job] Shutdowning rayfed intendedly...\n",
      "2024-08-13 18:06:18.565 INFO api.py:356 [bob] -- [Anonymous_job] Wait for data sending.\n",
      "2024-08-13 18:06:18.567 INFO message_queue.py:72 [bob] -- [Anonymous_job] Notify message polling thread[DataSendingQueueThread] to exit.\n",
      "2024-08-13 18:06:18.614 INFO message_queue.py:102 [bob] -- [Anonymous_job] The message polling thread[DataSendingQueueThread] was exited.\n",
      "2024-08-13 18:06:18.615 INFO message_queue.py:72 [bob] -- [Anonymous_job] Notify message polling thread[ErrorSendingQueueThread] to exit.\n",
      "2024-08-13 18:06:18.658 INFO message_queue.py:102 [bob] -- [Anonymous_job] The message polling thread[ErrorSendingQueueThread] was exited.\n",
      "2024-08-13 18:06:18.660 INFO barriers.py:469 [bob] -- [Anonymous_job] Stop sender proxy actor...\n",
      "2024-08-13 18:06:18.662 INFO barriers.py:473 [bob] -- [Anonymous_job] Sender proxy actor stoped.\n",
      "2024-08-13 18:06:18.663 INFO api.py:384 [bob] -- [Anonymous_job] Shutdowned rayfed.\n"
     ]
    }
   ],
   "source": [
    "sf.shutdown()"
   ]
  }
 ],
 "metadata": {
  "kernelspec": {
   "display_name": "Python 3 (ipykernel)",
   "language": "python",
   "name": "python3"
  },
  "language_info": {
   "codemirror_mode": {
    "name": "ipython",
    "version": 3
   },
   "file_extension": ".py",
   "mimetype": "text/x-python",
   "name": "python",
   "nbconvert_exporter": "python",
   "pygments_lexer": "ipython3",
   "version": "3.10.14"
  }
 },
 "nbformat": 4,
 "nbformat_minor": 5
}
