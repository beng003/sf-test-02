{
 "cells": [
  {
   "cell_type": "markdown",
   "id": "83e1596d-8ca1-40ae-9681-7254c563ff7e",
   "metadata": {},
   "source": [
    "# 特征工程\n",
    "\n",
    "> 本页面中的代码仅供参考，部署模式存在安全问题，请 **不要** 作为生产代码使用。\n",
    "\n",
    "推荐使用 [jupyter](https://jupyter.org/) 运行本教程。\n",
    "\n",
    "Secretflow 提供了多种工具来分析数据集，以提高机器学习结果的质量。\n",
    "\n",
    "## 0 初始化\n",
    "\n",
    "初始化Secretflow，并创建alice/bob两个计算参与方兼数据提供方。\n",
    "\n",
    "> 使用前请先了解Secretflow的数据集设定 [DataFrame](https://www.secretflow.org.cn/zh-CN/docs/secretflow/v1.8.0b0/user_guide/preprocessing/DataFrame)。"
   ]
  },
  {
   "cell_type": "code",
   "id": "9ad74320-2c3a-4c86-aea4-6688d96d2230",
   "metadata": {
    "ExecuteTime": {
     "end_time": "2024-07-21T06:25:20.580170Z",
     "start_time": "2024-07-21T06:25:16.252519Z"
    }
   },
   "source": [
    "import secretflow as sf\n",
    "\n",
    "# In case you have a running secretflow runtime already.\n",
    "sf.shutdown()\n",
    "\n",
    "sf.init(['alice', 'bob'], address='local')\n",
    "alice = sf.PYU('alice')\n",
    "bob = sf.PYU('bob')\n",
    "\n",
    "spu = sf.SPU(sf.utils.testing.cluster_def(['alice', 'bob']))"
   ],
   "outputs": [
    {
     "name": "stderr",
     "output_type": "stream",
     "text": [
      "/home/beng003/anaconda/envs/sf/lib/python3.10/subprocess.py:1796: RuntimeWarning: os.fork() was called. os.fork() is incompatible with multithreaded code, and JAX is multithreaded, so this will likely lead to a deadlock.\n",
      "  self.pid = _posixsubprocess.fork_exec(\n",
      "2024-07-21 14:25:19,720\tINFO worker.py:1724 -- Started a local Ray instance.\n"
     ]
    }
   ],
   "execution_count": 1
  },
  {
   "cell_type": "markdown",
   "id": "86168ad6-2fe0-4410-b59c-fd65cbe8ea9b",
   "metadata": {},
   "source": [
    "## 准备Demo数据\n",
    "\n",
    "使用一组线性拟合数据作为示例。"
   ]
  },
  {
   "cell_type": "code",
   "id": "9d7d70b8-2d12-40c0-891e-d42cbd567cab",
   "metadata": {
    "ExecuteTime": {
     "end_time": "2024-07-21T06:25:29.745333Z",
     "start_time": "2024-07-21T06:25:27.572967Z"
    }
   },
   "source": [
    "from secretflow.utils.simulation.datasets import load_linear\n",
    "\n",
    "vdf = load_linear(parts={alice: (1, 4), bob: (18, 22)})\n",
    "\n",
    "label_data = vdf[\"y\"]\n",
    "vdf = vdf.drop(columns=\"y\")\n",
    "\n",
    "print(f\"orig ds in alice:\\n {sf.reveal(vdf.partitions[alice].data)}\")\n",
    "print(f\"orig ds in bob:\\n {sf.reveal(vdf.partitions[bob].data)}\")"
   ],
   "outputs": [
    {
     "name": "stderr",
     "output_type": "stream",
     "text": [
      "INFO:root:Create proxy actor <class 'secretflow.device.proxy.ActorPartitionAgent'> with party alice.\n",
      "INFO:root:Create proxy actor <class 'secretflow.device.proxy.ActorPartitionAgent'> with party bob.\n"
     ]
    },
    {
     "name": "stdout",
     "output_type": "stream",
     "text": [
      "orig ds in alice:\n",
      "             x1        x2        x3\n",
      "0    -0.514226  0.730010 -0.730391\n",
      "1    -0.725537  0.482244 -0.823223\n",
      "2     0.608353 -0.071102 -0.775098\n",
      "3    -0.686642  0.160470  0.914477\n",
      "4    -0.198111  0.212909  0.950474\n",
      "...        ...       ...       ...\n",
      "9995 -0.367246 -0.296454  0.558596\n",
      "9996  0.010913  0.629268 -0.384093\n",
      "9997 -0.238097  0.904069 -0.344859\n",
      "9998  0.453686 -0.375173  0.899238\n",
      "9999 -0.776015 -0.772112  0.012110\n",
      "\n",
      "[10000 rows x 3 columns]\n",
      "orig ds in bob:\n",
      "            x18       x19       x20\n",
      "0     0.810261  0.048303  0.937679\n",
      "1     0.312728  0.526637  0.589773\n",
      "2     0.039087 -0.753417  0.516735\n",
      "3    -0.855979  0.250944  0.979465\n",
      "4    -0.238805  0.243109 -0.121446\n",
      "...        ...       ...       ...\n",
      "9995 -0.847253  0.069960  0.786748\n",
      "9996 -0.502486 -0.076290 -0.604832\n",
      "9997 -0.424209  0.434947  0.998955\n",
      "9998  0.914291 -0.473056  0.616257\n",
      "9999 -0.602927 -0.021368  0.885519\n",
      "\n",
      "[10000 rows x 3 columns]\n"
     ]
    }
   ],
   "execution_count": 2
  },
  {
   "cell_type": "markdown",
   "id": "b346a56c-6a5b-4b59-8c36-99344febdb51",
   "metadata": {
    "tags": []
   },
   "source": [
    "## 1 皮尔逊积矩相关系数\n",
    "\n",
    "皮尔逊积矩相关系数可以用来探查两个变量X/Y之间的线性相关性的强度。\n",
    "\n",
    "两个变量之间的皮尔逊积矩相关系数定义为两个变量的协方差除以其标准差的乘积：\n",
    "\n",
    "$$ \\rho_{X,Y}=\\frac{cov(X, Y)}{\\sigma_X \\sigma_Y}=\\frac{(X-\\mu_X)(Y-\\mu_Y)}{\\sigma_X \\sigma_Y} $$\n",
    "\n",
    "$$ \\mu_X= \\mathbb{E}(X), \\sigma_X^2=\\mathbb{E}[(X-\\mathbb{E}(X))^2]=\\mathbb{E}(X^2)-\\mathbb{E}^2(X) $$\n",
    "\n",
    "数据集中样本（特征）的皮尔逊积矩相关系数，通常用小写字母 r 表示：\n",
    "\n",
    "$$ r=\\frac{\\sum^n_{i=1}(X_i-\\bar{X})(Y_i-\\bar{Y})}{\\sqrt{\\sum^n_{i=1}(X_i-\\bar{X})^2} \\sqrt{\\sum^n_{i=1}(Y_i-\\bar{Y})^2}} $$\n",
    "\n",
    "其值介于-1与1之间。 𝑟>0*r*>0 对应两者正相关，反之为负相关； ∣𝑟∣∣*r*∣ 越大，相关程度越大。\n",
    "\n",
    "### SSVertPearsonR\n",
    "\n",
    "SecretFlow 的 `SSVertPearsonR` 模块可以用于探查垂直划分数据集的皮尔逊积矩相关系数，计算过程使用秘密分享协议保护。\n",
    "\n",
    "SSVertPearsonR会首先标准化数据集，这样一来所有特征的均值为0方差为1，可以将计算简化为：\n",
    "\n",
    "$$ r=\\frac{1}{n-1}X^TX $$\n",
    "\n"
   ]
  },
  {
   "cell_type": "code",
   "id": "b8c94841-73b3-4eb8-913d-af2f29c15ee2",
   "metadata": {
    "ExecuteTime": {
     "end_time": "2024-07-21T06:28:40.686694Z",
     "start_time": "2024-07-21T06:28:40.485754Z"
    }
   },
   "source": [
    "from secretflow.stats import SSVertPearsonR\n",
    "\n",
    "v_pearsonr = SSVertPearsonR(spu)\n",
    "corr = v_pearsonr.pearsonr(vdf)\n",
    "print(f\"corr: \\n {corr}\")"
   ],
   "outputs": [
    {
     "name": "stdout",
     "output_type": "stream",
     "text": [
      "corr: \n",
      " [[ 1.0001000e+00  2.4262429e-03 -5.3907027e-03 -7.7360502e-04\n",
      "  -7.4419454e-03 -1.0678579e-02]\n",
      " [ 2.4262429e-03  1.0001000e+00 -5.4155029e-03 -2.0672032e-03\n",
      "   4.3277428e-03  3.7399144e-03]\n",
      " [-5.3907027e-03 -5.4155029e-03  1.0001000e+00  6.2504560e-03\n",
      "  -3.7937090e-03  7.3285382e-03]\n",
      " [-7.7360502e-04 -2.0672032e-03  6.2504560e-03  1.0001000e+00\n",
      "  -1.0416691e-02  1.0044558e-02]\n",
      " [-7.4419454e-03  4.3277428e-03 -3.7937090e-03 -1.0416691e-02\n",
      "   1.0001000e+00 -1.3045982e-02]\n",
      " [-1.0678579e-02  3.7399144e-03  7.3285382e-03  1.0044558e-02\n",
      "  -1.3045982e-02  1.0001000e+00]]\n"
     ]
    }
   ],
   "execution_count": 4
  },
  {
   "cell_type": "markdown",
   "id": "a404fe97",
   "metadata": {},
   "source": [
    "## 2 方差扩大因子\n",
    "\n",
    "方差扩大因子 (VIF) 用于探查变量之间的多重共线性。在一个线性统计模型中，一个系数的方差扩大因子等于多元模型中该系数方差与一元模型中该系数方差的商，简单来说，就是解释变量（特征）之间存在多重共线性时的方差与不存在多重共线性时的方差之比。\n",
    "\n",
    "### SSVertVIF\n",
    "\n",
    "SecretFlow 的 `SSVertVIF` 模块可以用于探查垂直划分数据集的方差扩大因子，计算过程使用秘密分享协议保护。\n",
    "\n",
    "第j个特征的vif值为：$$ VIF_j = (X^TX)^{-1}_{jj}(n-1)var(X_j) $$\n",
    "\n",
    "注意：\n",
    "\n",
    "在秘密分享协议下计算矩阵逆开销非常大，所以这里使用牛顿迭代进行近似。\n",
    "\n",
    "当输入数据集中存在完全线性相关时， $X^TX$ 矩阵不满秩， $X^TX$ 矩阵逆的解析解不存在。\n",
    "\n",
    "statsmodels在完全线性相关列上计算的VIF为INF，意为无限大的相关性。而我们提供的模块会输出一个很大的值(>>1000)，也能正确的表示这些列之间存在很强的相关性。\n",
    "\n",
    "对于常量列，statsmodels的结果是NAN，我们的模块依然是很大的值(>>1000)，表明这个列在建模前需要被剔除。\n",
    "\n",
    "所以本模块的结果虽然无法和statemodels这类明文计算的结果完全一致，但依然能正确的反映出特征间的相关性。"
   ]
  },
  {
   "cell_type": "code",
   "id": "2ea2c73d",
   "metadata": {
    "ExecuteTime": {
     "end_time": "2024-07-21T06:29:27.156354Z",
     "start_time": "2024-07-21T06:29:26.480953Z"
    }
   },
   "source": [
    "from secretflow.stats import SSVertVIF\n",
    "\n",
    "v_vif = SSVertVIF(spu)\n",
    "vif = v_vif.vif(vdf)\n",
    "print(f\"vif: \\n{vif}\")"
   ],
   "outputs": [
    {
     "name": "stderr",
     "output_type": "stream",
     "text": [
      "INFO:jax._src.xla_bridge:Unable to initialize backend 'cuda': \n",
      "INFO:jax._src.xla_bridge:Unable to initialize backend 'rocm': module 'jaxlib.xla_extension' has no attribute 'GpuAllocatorConfig'\n",
      "INFO:jax._src.xla_bridge:Unable to initialize backend 'tpu': INTERNAL: Failed to open libtpu.so: libtpu.so: cannot open shared object file: No such file or directory\n"
     ]
    },
    {
     "name": "stdout",
     "output_type": "stream",
     "text": [
      "vif: \n",
      "[1.0000659 0.9999169 1.0000659 1.0000659 1.0002149 1.000364 ]\n"
     ]
    }
   ],
   "execution_count": 5
  },
  {
   "cell_type": "markdown",
   "id": "d0c396a9",
   "metadata": {},
   "source": [
    "## 3 线性模型/广义线性模型系数显著检验\n",
    "\n",
    "线性/逻辑回归变量显著性检验用于判断特征（解释变量）是否显著，即自变量是否能有效预测因变量的变化，从而判断对应的解释变量是否应被包含在模型中。\n",
    "\n",
    "### 线性回归系数显著检验\n",
    "\n",
    "对线性回归 $y=Xw$ （X包含常数项），使用t检验来对回归项系数检验其值是否为零。\n",
    "\n",
    "其中：\n",
    "$$ \\hat{ω}=(X^T X)^{-1} X^T y=ω+(X^T X)^{-1} X^T ε $$\n",
    "$$ E(\\hat{ω})=ω $$\n",
    "$$ Var(\\hat{ω} )=σ^2 (X^T X)^{-1} $$\n",
    "\n",
    "在最小二乘法5条假设都成立的情况下，统计量：\n",
    "$$ t_j=\\frac{\\hat{ω}_j- ω_j}{s.e.(ω_j )}=\\frac{\\hat{ω}_j - ω_j}{\\sqrt{\\hat{σ}^2 (X^T X)_{jj}^{-1}}}  \\sim t_{n-k} $$\n",
    "其中，n为样本量，k为特征数\n",
    "\n",
    "检验的原假设和备择假设为：\n",
    "$$ \\begin{aligned}\n",
    "& H_0:ω_j=0 (j=1,2,⋯,k) \\\\ & H_1:ω_j≠0\n",
    "\\end{aligned} $$\n",
    "\n",
    "将检验的原假设带入 $t_j$：\n",
    "\n",
    "$$ t_j=\\frac{\\hat{ω}_j}{s.e.(ω_j )}=\\frac{\\hat{ω}_j}{\\sqrt{\\hat{σ}^2 (X^T X)_{jj}^{-1}}}  \\sim t_{n-k} $$\n",
    "\n",
    "### 逻辑回归系数显著检验\n",
    "\n",
    "对于逻辑回归\n",
    "$$ P(y=1|x)=π(x)=1/(1+e^{-ωx} ) \\\\\n",
    "P(y=0|x)=1-π(x)=1/(1+e^{ωx} ) $$\n",
    "\n",
    "检验的原假设和备择假设为：\n",
    "$$ \\begin{aligned}\n",
    "& H_0:ω_j=0 (j=1,2,⋯,k) \\\\\n",
    "& H_1:ω_j≠0\n",
    "\\end{aligned} $$\n",
    "\n",
    "Wald test $Wald=(\\hat{ω}_k/SE(\\hat{ω}_k ) )^2$ 符合自由度为1的卡方分布\n",
    "\n",
    "Where $SE(\\hat{ω}_k )$ 是 $ω_k$, 的标准误差, 为方差协方差矩阵的对角元素的平方根：\n",
    "$$ SE(\\hat{ω}_k )={Cov(\\hat{ω}_{kk})}^{1/2} $$\n",
    "\n",
    "模型参数的方差和协方差矩阵，为对数似然函数的Hessian矩阵的逆在 $\\hat{ω}$处的值： :\n",
    "$$ Cov(\\hat{ω}) =H^{-1}=\\frac{∂^2 l(ω)}{∂ω^2}|_{\\hat{ω}} $$\n",
    "\n",
    "其中：\n",
    "$$ H_{kr}=\\frac{∂^2l(ω)}{∂ω_k ∂ω_r}=∑_{i=1}^mx_{ik}π(x_i)[π(x_i )-1]x_{ir} $$\n",
    "\n",
    "Hessian矩阵表示为 $H=X^T A X$, A is a n*n matrix, where:\n",
    "$$ \\begin{aligned}\n",
    "& A_{ii} = π(x_{i})[π(x_{i}) - 1] \\\\\n",
    "& A_{ij} = 0 , i≠j\n",
    "\\end{aligned} $$\n",
    "\n",
    "Available:\n",
    "$$ \\begin{aligned}\n",
    "Wald & = (\\hat{ω}_k/SE(\\hat{ω}_k ) )^2 \\\\    \n",
    "& = \\hat{ω}_k^2 /Cov(\\hat{ω}_{kk}) \\\\\n",
    "& = \\hat{ω}_k^2 / H^{-1}_{kk} \\\\\n",
    "& = \\hat{ω}_k^2 / (X^T \\Lambda X )^{-1}_{kk}\n",
    "\\end{aligned} $$\n",
    "\n",
    "### SSPValue\n",
    "\n",
    "SecretFlow 的 `SSPValue` 模块可以用于探查模型的P-Value，计算过程使用秘密分享协议保护。\n",
    "\n",
    "线性回归模型：\n",
    "\n",
    "  * calculate prediction residuals $\\hat{ε}=Xω - y$\n",
    "  * calculate $\\hat{σ}^2=\\hat{ε}^T\\hat{ε} /(n-k)$\n",
    "  * get $(X^T X)^{-1}$ by Newton iteration\n",
    "  * $t^2= ω^2 / \\hat{σ}^2(X^T X)_{jj}^{-1}$ \n",
    "  * $p =2 * (1 - t_{n-k}.cdf(|t|))$\n",
    "\n",
    "逻辑回归模型：\n",
    "\n",
    "  * calculate $H=X^TAX$\n",
    "  * get $H^{-1}$ by Newton iteration\n",
    "  * calculate $z^2=ω^2/H^{-1}_{kk}$\n",
    "  * $p = 2 * (1 - norm.cdf(|z|))$"
   ]
  },
  {
   "cell_type": "code",
   "id": "b515aba2facdeef9",
   "metadata": {
    "ExecuteTime": {
     "end_time": "2024-07-21T06:58:16.661896Z",
     "start_time": "2024-07-21T06:58:09.407926Z"
    }
   },
   "source": [
    "from secretflow.stats import SSPValue\n",
    "from secretflow.ml.linear.ss_sgd import SSRegression\n",
    "# from secretflow.ml.linear import SSRegression\n",
    "\n",
    "# first, get a LR model\n",
    "model = SSRegression(spu)\n",
    "model.fit(\n",
    "    vdf,\n",
    "    label_data,\n",
    "    3,  # epochs\n",
    "    0.3,  # Learning rate\n",
    "    64,  # batch_size\n",
    "    't1',  # sig_type\n",
    "    'logistic',  # reg_type\n",
    "    'l2',  # penalty\n",
    "    0.5,  # l2_norm\n",
    ")\n",
    "spu_model = model.save_model()\n",
    "\n",
    "sspv = SSPValue(spu)"
   ],
   "outputs": [
    {
     "name": "stderr",
     "output_type": "stream",
     "text": [
      "INFO:root:epoch 1 times: 2.325678825378418s\n",
      "INFO:root:epoch 2 times: 2.3809797763824463s\n",
      "INFO:root:epoch 3 times: 2.3796517848968506s\n"
     ]
    }
   ],
   "execution_count": 25
  },
  {
   "metadata": {
    "ExecuteTime": {
     "end_time": "2024-07-21T06:59:12.826936Z",
     "start_time": "2024-07-21T06:59:12.546378Z"
    }
   },
   "cell_type": "code",
   "source": [
    "# p值计算计算在1.5版本之后进行了修改，VDataframe的数据的p值计算暂时不明\n",
    "pvalues = sspv.z_statistic_p_value(vdf, label_data, model.predict(vdf) ,spu_model, 'Logit', 'Bernoulli')\n",
    "print(f\"logistic pvalue: \\n{pvalues}\")"
   ],
   "id": "6134ca93",
   "outputs": [
    {
     "ename": "AssertionError",
     "evalue": "Only support model fit by sslr/hesslr/glm that training on vertical slice dataset.",
     "output_type": "error",
     "traceback": [
      "\u001B[0;31m---------------------------------------------------------------------------\u001B[0m",
      "\u001B[0;31mAssertionError\u001B[0m                            Traceback (most recent call last)",
      "Cell \u001B[0;32mIn[27], line 1\u001B[0m\n\u001B[0;32m----> 1\u001B[0m pvalues \u001B[38;5;241m=\u001B[39m \u001B[43msspv\u001B[49m\u001B[38;5;241;43m.\u001B[39;49m\u001B[43mz_statistic_p_value\u001B[49m\u001B[43m(\u001B[49m\u001B[43mvdf\u001B[49m\u001B[43m,\u001B[49m\u001B[43m \u001B[49m\u001B[43mlabel_data\u001B[49m\u001B[43m,\u001B[49m\u001B[43m \u001B[49m\u001B[43mmodel\u001B[49m\u001B[38;5;241;43m.\u001B[39;49m\u001B[43mpredict\u001B[49m\u001B[43m(\u001B[49m\u001B[43mvdf\u001B[49m\u001B[43m)\u001B[49m\u001B[43m \u001B[49m\u001B[43m,\u001B[49m\u001B[43mspu_model\u001B[49m\u001B[43m,\u001B[49m\u001B[43m \u001B[49m\u001B[38;5;124;43m'\u001B[39;49m\u001B[38;5;124;43mLogit\u001B[39;49m\u001B[38;5;124;43m'\u001B[39;49m\u001B[43m,\u001B[49m\u001B[43m \u001B[49m\u001B[38;5;124;43m'\u001B[39;49m\u001B[38;5;124;43mBernoulli\u001B[39;49m\u001B[38;5;124;43m'\u001B[39;49m\u001B[43m)\u001B[49m\n\u001B[1;32m      2\u001B[0m \u001B[38;5;28mprint\u001B[39m(\u001B[38;5;124mf\u001B[39m\u001B[38;5;124m\"\u001B[39m\u001B[38;5;124mlogistic pvalue: \u001B[39m\u001B[38;5;130;01m\\n\u001B[39;00m\u001B[38;5;132;01m{\u001B[39;00mpvalues\u001B[38;5;132;01m}\u001B[39;00m\u001B[38;5;124m\"\u001B[39m)\n",
      "File \u001B[0;32m~/anaconda/envs/sf/lib/python3.10/site-packages/secretflow/stats/ss_pvalue_v.py:296\u001B[0m, in \u001B[0;36mPValue.z_statistic_p_value\u001B[0;34m(self, x, y, yhat, weights, link, dist, tweedie_power, y_scale, infeed_elements_limit)\u001B[0m\n\u001B[1;32m    268\u001B[0m \u001B[38;5;28;01mfrom\u001B[39;00m \u001B[38;5;21;01msecretflow\u001B[39;00m\u001B[38;5;21;01m.\u001B[39;00m\u001B[38;5;21;01mml\u001B[39;00m\u001B[38;5;21;01m.\u001B[39;00m\u001B[38;5;21;01mlinear\u001B[39;00m \u001B[38;5;28;01mimport\u001B[39;00m LinearModel, RegType, SSRegression\n\u001B[1;32m    270\u001B[0m \u001B[38;5;250m\u001B[39m\u001B[38;5;124;03m\"\"\"\u001B[39;00m\n\u001B[1;32m    271\u001B[0m \u001B[38;5;124;03mcompute pvalue by z-statistic, use for general linear regression with Non-normal distribution assumption.\u001B[39;00m\n\u001B[1;32m    272\u001B[0m \n\u001B[0;32m   (...)\u001B[0m\n\u001B[1;32m    294\u001B[0m \u001B[38;5;124;03m    PValue\u001B[39;00m\n\u001B[1;32m    295\u001B[0m \u001B[38;5;124;03m\"\"\"\u001B[39;00m\n\u001B[0;32m--> 296\u001B[0m row_number \u001B[38;5;241m=\u001B[39m \u001B[38;5;28;43mself\u001B[39;49m\u001B[38;5;241;43m.\u001B[39;49m\u001B[43m_pre_check\u001B[49m\u001B[43m(\u001B[49m\u001B[43mx\u001B[49m\u001B[43m,\u001B[49m\u001B[43m \u001B[49m\u001B[43my\u001B[49m\u001B[43m,\u001B[49m\u001B[43m \u001B[49m\u001B[43myhat\u001B[49m\u001B[43m,\u001B[49m\u001B[43m \u001B[49m\u001B[43mweights\u001B[49m\u001B[43m,\u001B[49m\u001B[43m \u001B[49m\u001B[43minfeed_elements_limit\u001B[49m\u001B[43m)\u001B[49m\n\u001B[1;32m    298\u001B[0m H \u001B[38;5;241m=\u001B[39m _hessian_matrix(\n\u001B[1;32m    299\u001B[0m     \u001B[38;5;28mself\u001B[39m\u001B[38;5;241m.\u001B[39mspu, x, y, yhat, link, dist, tweedie_power, row_number, y_scale\n\u001B[1;32m    300\u001B[0m )\n\u001B[1;32m    302\u001B[0m y_device \u001B[38;5;241m=\u001B[39m \u001B[38;5;28mlist\u001B[39m(y\u001B[38;5;241m.\u001B[39mpartitions\u001B[38;5;241m.\u001B[39mkeys())[\u001B[38;5;241m0\u001B[39m]\n",
      "File \u001B[0;32m~/anaconda/envs/sf/lib/python3.10/site-packages/secretflow/stats/ss_pvalue_v.py:188\u001B[0m, in \u001B[0;36mPValue._pre_check\u001B[0;34m(self, x, y, yhat, weights, infeed_elements_limit)\u001B[0m\n\u001B[1;32m    186\u001B[0m \u001B[38;5;28;01massert\u001B[39;00m x\u001B[38;5;241m.\u001B[39mshape[\u001B[38;5;241m0\u001B[39m] \u001B[38;5;241m==\u001B[39m y\u001B[38;5;241m.\u001B[39mshape[\u001B[38;5;241m0\u001B[39m], \u001B[38;5;124m\"\u001B[39m\u001B[38;5;124mx/y dataset not aligned\u001B[39m\u001B[38;5;124m\"\u001B[39m\n\u001B[1;32m    187\u001B[0m \u001B[38;5;28;01massert\u001B[39;00m \u001B[38;5;28misinstance\u001B[39m(yhat, SPUObject)\n\u001B[0;32m--> 188\u001B[0m \u001B[38;5;28;01massert\u001B[39;00m \u001B[38;5;28misinstance\u001B[39m(weights, SPUObject), (\n\u001B[1;32m    189\u001B[0m     \u001B[38;5;124m\"\u001B[39m\u001B[38;5;124mOnly support model fit by sslr/hesslr/glm that \u001B[39m\u001B[38;5;124m\"\u001B[39m\n\u001B[1;32m    190\u001B[0m     \u001B[38;5;124m\"\u001B[39m\u001B[38;5;124mtraining on vertical slice dataset.\u001B[39m\u001B[38;5;124m\"\u001B[39m\n\u001B[1;32m    191\u001B[0m )\n\u001B[1;32m    192\u001B[0m \u001B[38;5;28;01massert\u001B[39;00m yhat\u001B[38;5;241m.\u001B[39mdevice \u001B[38;5;241m==\u001B[39m \u001B[38;5;28mself\u001B[39m\u001B[38;5;241m.\u001B[39mspu\n\u001B[1;32m    193\u001B[0m \u001B[38;5;28;01massert\u001B[39;00m weights\u001B[38;5;241m.\u001B[39mdevice \u001B[38;5;241m==\u001B[39m \u001B[38;5;28mself\u001B[39m\u001B[38;5;241m.\u001B[39mspu\n",
      "\u001B[0;31mAssertionError\u001B[0m: Only support model fit by sslr/hesslr/glm that training on vertical slice dataset."
     ]
    }
   ],
   "execution_count": 27
  },
  {
   "metadata": {
    "ExecuteTime": {
     "end_time": "2024-07-21T07:40:16.892296Z",
     "start_time": "2024-07-21T07:40:16.610737Z"
    }
   },
   "cell_type": "code",
   "source": "sf.reveal(model.predict(vdf))",
   "id": "2c0bddfb96c772f9",
   "outputs": [
    {
     "data": {
      "text/plain": [
       "array([[0.33997524],\n",
       "       [0.4914743 ],\n",
       "       [0.3491645 ],\n",
       "       ...,\n",
       "       [0.62684906],\n",
       "       [0.40789217],\n",
       "       [0.49245632]], dtype=float32)"
      ]
     },
     "execution_count": 30,
     "metadata": {},
     "output_type": "execute_result"
    }
   ],
   "execution_count": 30
  },
  {
   "metadata": {},
   "cell_type": "markdown",
   "source": [
    "# secretflow.stats\n",
    "\n",
    "**Classes:**\n",
    "\n",
    "| [`SSVertPearsonR`](https://www.secretflow.org.cn/zh-CN/docs/secretflow/v1.8.0b0/source/secretflow.stats#secretflow.stats.SSVertPearsonR) | [`PearsonR`](https://www.secretflow.org.cn/zh-CN/docs/secretflow/v1.8.0b0/source/secretflow.stats#secretflow.stats.ss_pearsonr_v.PearsonR) 的别名 |\n",
    "| ------------------------------------------------------------ | ------------------------------------------------------------ |\n",
    "| [`SSVertVIF`](https://www.secretflow.org.cn/zh-CN/docs/secretflow/v1.8.0b0/source/secretflow.stats#secretflow.stats.SSVertVIF) | [`VIF`](https://www.secretflow.org.cn/zh-CN/docs/secretflow/v1.8.0b0/source/secretflow.stats#secretflow.stats.ss_vif_v.VIF) 的别名 |\n",
    "| [`SSPValue`](https://www.secretflow.org.cn/zh-CN/docs/secretflow/v1.8.0b0/source/secretflow.stats#secretflow.stats.SSPValue) | [`PValue`](https://www.secretflow.org.cn/zh-CN/docs/secretflow/v1.8.0b0/source/secretflow.stats#secretflow.stats.ss_pvalue_v.PValue) 的别名 |\n",
    "| [`RegressionEval`](https://www.secretflow.org.cn/zh-CN/docs/secretflow/v1.8.0b0/source/secretflow.stats#secretflow.stats.RegressionEval)(y_true, y_pred[, spu_device, ...]) | Statistics Evaluation for a regression model on a dataset.   |\n",
    "| [`BiClassificationEval`](https://www.secretflow.org.cn/zh-CN/docs/secretflow/v1.8.0b0/source/secretflow.stats#secretflow.stats.BiClassificationEval)(y_true, y_score, ...[, ...]) | Statistics Evaluation for a bi-classification model on a dataset. |\n",
    "| [`ScoreCard`](https://www.secretflow.org.cn/zh-CN/docs/secretflow/v1.8.0b0/source/secretflow.stats#secretflow.stats.ScoreCard)(odd_base, scaled_value, pdo[, ...]) | The component provides a mapping procedure from binary regression's probability value to an integer range score. |\n",
    "\n",
    "**Functions:**\n",
    "\n",
    "| [`prediction_bias_eval`](https://www.secretflow.org.cn/zh-CN/docs/secretflow/v1.8.0b0/source/secretflow.stats#module-secretflow.stats.prediction_bias_eval)(prediction, label, ...) | prediction bias = average of predictions - average of labels. |\n",
    "| ------------------------------------------------------------ | ------------------------------------------------------------ |\n",
    "| [`table_statistics`](https://www.secretflow.org.cn/zh-CN/docs/secretflow/v1.8.0b0/source/secretflow.stats#module-secretflow.stats.table_statistics)(table) | Get table statistics for a pd.DataFrame or VDataFrame.       |\n",
    "| [`psi_eval`](https://www.secretflow.org.cn/zh-CN/docs/secretflow/v1.8.0b0/source/secretflow.stats#module-secretflow.stats.psi_eval)(X, Y, split_points) | Calculate population stability index.                        |\n",
    "\n",
    "\n",
    "\n",
    "**RegressionEval(y_true, y_pred[, spu_device, ...])**\n",
    "\n",
    "- **用途:** 评估回归模型在数据集上的性能。\n",
    "- 参数:\n",
    "  - `y_true`: 实际值。\n",
    "  - `y_pred`: 预测值。\n",
    "  - `spu_device`（可选）: 可能是用于指定特殊处理单元设备的参数。\n",
    "- **功能:** 计算回归模型的各种统计评估指标，如均方误差（MSE）、均方根误差（RMSE）等。\n",
    "\n",
    "**BiClassificationEval(y_true, y_score[, ...])**\n",
    "\n",
    "- **用途:** 评估二分类模型在数据集上的性能。\n",
    "- 参数:\n",
    "  - `y_true`: 实际标签。\n",
    "  - `y_score`: 预测的分数或概率。\n",
    "- **功能:** 计算二分类模型的各种统计评估指标，如准确率、召回率、F1分数、ROC曲线和AUC值等。\n",
    "\n",
    "**ScoreCard(odd_base, scaled_value, pdo[, ...])**\n",
    "\n",
    "- **用途:** 提供从二元回归概率值到整数范围评分的映射过程。\n",
    "- 参数:\n",
    "  - `odd_base`: 基础赔率值。\n",
    "  - `scaled_value`: 缩放值。\n",
    "  - `pdo`: 每翻倍赔率分值（Points to Double the Odds）。\n",
    "- **功能:** 用于信用评分模型中，将模型输出的概率转换为可解释的评分卡值，便于业务决策。\n",
    "\n",
    "\n",
    "\n",
    "\n",
    "\n",
    "**prediction_bias_eval(prediction, label, ...)**\n",
    "\n",
    "   - **用途:** 评估预测偏差。\n",
    "   - **功能:** 计算预测值的平均值与实际标签的平均值之间的差异。\n",
    "   - 参数:\n",
    "     - `prediction`: 预测值。\n",
    "     - `label`: 实际标签。\n",
    "\n",
    "**table_statistics(table)**\n",
    "\n",
    "   - **用途:** 获取数据表的统计信息。\n",
    "   - **功能:** 计算和返回一个`pd.DataFrame`或`VDataFrame`的统计数据，如均值、中位数、标准差等。\n",
    "   - 参数:\n",
    "     - `table`: 数据表，可以是`pandas.DataFrame`或`VDataFrame`。\n",
    "\n",
    "   \n",
    "\n",
    "**psi_eval(X, Y, split_points)**\n",
    "\n",
    "   - **用途:** 计算人口稳定性指数（PSI）。\n",
    "   - **功能:** 比较两个分布的变化，通过分段计算PSI值，以评估两个不同时间点的分布是否稳定。\n",
    "   - 参数:\n",
    "     - `X`: 第一个分布的数据。\n",
    "     - `Y`: 第二个分布的数据。\n",
    "     - `split_points`: 分段点，用于将数据分段计算PSI。"
   ],
   "id": "9ad82e4cb0871d22"
  },
  {
   "metadata": {},
   "cell_type": "code",
   "outputs": [],
   "execution_count": null,
   "source": "",
   "id": "37070fe6996eb317"
  }
 ],
 "metadata": {
  "kernelspec": {
   "display_name": "Python 3.8.13 ('py3.8')",
   "language": "python",
   "name": "python3"
  },
  "language_info": {
   "codemirror_mode": {
    "name": "ipython",
    "version": 3
   },
   "file_extension": ".py",
   "mimetype": "text/x-python",
   "name": "python",
   "nbconvert_exporter": "python",
   "pygments_lexer": "ipython3",
   "version": "3.8.13"
  },
  "vscode": {
   "interpreter": {
    "hash": "66d1547304beaba725027c44e57cc46fc747862fe9496520910412a3187eb35f"
   }
  }
 },
 "nbformat": 4,
 "nbformat_minor": 5
}
