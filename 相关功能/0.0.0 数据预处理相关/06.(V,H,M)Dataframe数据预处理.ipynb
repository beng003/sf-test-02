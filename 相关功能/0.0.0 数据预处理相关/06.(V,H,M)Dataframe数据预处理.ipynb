{
 "cells": [
  {
   "metadata": {},
   "cell_type": "markdown",
   "source": [
    "# 数据预处理\n",
    "\n",
    "> 以下代码仅作为示例，请勿在生产环境直接使用。\n",
    "\n",
    "推荐使用 [jupyter](https://jupyter.org/) 运行本教程。\n",
    "\n",
    "隐语提供了多种预处理工具来处理数据。\n",
    "\n",
    "## 1. 前置准备\n",
    "\n",
    "初始化隐语，创建alice和bob两个参与方。\n",
    "\n",
    "> 💡 在使用预处理之前，您可以需要先了解隐语 [DataFrame](https://www.secretflow.org.cn/zh-CN/docs/secretflow/v1.8.0b0/user_guide/preprocessing/DataFrame) 。"
   ],
   "id": "90caa258541c81f2"
  },
  {
   "metadata": {
    "ExecuteTime": {
     "end_time": "2024-07-20T12:23:26.146672Z",
     "start_time": "2024-07-20T12:23:21.917435Z"
    }
   },
   "cell_type": "code",
   "source": [
    "import secretflow as sf\n",
    "\n",
    "# Check the version of your SecretFlow\n",
    "print('The version of SecretFlow: {}'.format(sf.__version__))\n",
    "\n",
    "# In case you have a running secretflow runtime already.\n",
    "sf.shutdown()\n",
    "\n",
    "sf.init(['alice', 'bob'], address='local')\n",
    "alice = sf.PYU('alice')\n",
    "bob = sf.PYU('bob')"
   ],
   "id": "9ad74320-2c3a-4c86-aea4-6688d96d2230",
   "outputs": [
    {
     "name": "stdout",
     "output_type": "stream",
     "text": [
      "The version of SecretFlow: 1.8.0b0\n"
     ]
    },
    {
     "name": "stderr",
     "output_type": "stream",
     "text": [
      "/home/beng003/anaconda/envs/sf/lib/python3.10/subprocess.py:1796: RuntimeWarning: os.fork() was called. os.fork() is incompatible with multithreaded code, and JAX is multithreaded, so this will likely lead to a deadlock.\n",
      "  self.pid = _posixsubprocess.fork_exec(\n",
      "2024-07-20 20:23:25,445\tINFO worker.py:1724 -- Started a local Ray instance.\n"
     ]
    }
   ],
   "execution_count": 78
  },
  {
   "metadata": {},
   "cell_type": "markdown",
   "source": [
    "## 2. 数据准备\n",
    "\n",
    "我们使用 [iris](https://scikit-learn.org/stable/modules/generated/sklearn.datasets.load_iris.html) 作为示例数据集。"
   ],
   "id": "d5e9c99f3e257d8f"
  },
  {
   "metadata": {
    "ExecuteTime": {
     "end_time": "2024-07-20T12:23:28.332427Z",
     "start_time": "2024-07-20T12:23:28.310203Z"
    }
   },
   "cell_type": "code",
   "source": [
    "import pandas as pd\n",
    "from sklearn.datasets import load_iris\n",
    "\n",
    "iris = load_iris(as_frame=True)\n",
    "data = pd.concat([iris.data, iris.target], axis=1)\n",
    "\n",
    "# In order to facilitate the subsequent display,\n",
    "# here we first set some data to None.\n",
    "data.iloc[1, 1] = None\n",
    "data.iloc[100, 1] = None\n",
    "\n",
    "# Restore target to its original name.\n",
    "data['target'] = data['target'].map({0: 'setosa', 1: 'versicolor', 2: 'virginica'})\n",
    "data"
   ],
   "id": "9d7d70b8-2d12-40c0-891e-d42cbd567cab",
   "outputs": [
    {
     "data": {
      "text/plain": [
       "     sepal length (cm)  sepal width (cm)  petal length (cm)  petal width (cm)  \\\n",
       "0                  5.1               3.5                1.4               0.2   \n",
       "1                  4.9               NaN                1.4               0.2   \n",
       "2                  4.7               3.2                1.3               0.2   \n",
       "3                  4.6               3.1                1.5               0.2   \n",
       "4                  5.0               3.6                1.4               0.2   \n",
       "..                 ...               ...                ...               ...   \n",
       "145                6.7               3.0                5.2               2.3   \n",
       "146                6.3               2.5                5.0               1.9   \n",
       "147                6.5               3.0                5.2               2.0   \n",
       "148                6.2               3.4                5.4               2.3   \n",
       "149                5.9               3.0                5.1               1.8   \n",
       "\n",
       "        target  \n",
       "0       setosa  \n",
       "1       setosa  \n",
       "2       setosa  \n",
       "3       setosa  \n",
       "4       setosa  \n",
       "..         ...  \n",
       "145  virginica  \n",
       "146  virginica  \n",
       "147  virginica  \n",
       "148  virginica  \n",
       "149  virginica  \n",
       "\n",
       "[150 rows x 5 columns]"
      ],
      "text/html": [
       "<div>\n",
       "<style scoped>\n",
       "    .dataframe tbody tr th:only-of-type {\n",
       "        vertical-align: middle;\n",
       "    }\n",
       "\n",
       "    .dataframe tbody tr th {\n",
       "        vertical-align: top;\n",
       "    }\n",
       "\n",
       "    .dataframe thead th {\n",
       "        text-align: right;\n",
       "    }\n",
       "</style>\n",
       "<table border=\"1\" class=\"dataframe\">\n",
       "  <thead>\n",
       "    <tr style=\"text-align: right;\">\n",
       "      <th></th>\n",
       "      <th>sepal length (cm)</th>\n",
       "      <th>sepal width (cm)</th>\n",
       "      <th>petal length (cm)</th>\n",
       "      <th>petal width (cm)</th>\n",
       "      <th>target</th>\n",
       "    </tr>\n",
       "  </thead>\n",
       "  <tbody>\n",
       "    <tr>\n",
       "      <th>0</th>\n",
       "      <td>5.1</td>\n",
       "      <td>3.5</td>\n",
       "      <td>1.4</td>\n",
       "      <td>0.2</td>\n",
       "      <td>setosa</td>\n",
       "    </tr>\n",
       "    <tr>\n",
       "      <th>1</th>\n",
       "      <td>4.9</td>\n",
       "      <td>NaN</td>\n",
       "      <td>1.4</td>\n",
       "      <td>0.2</td>\n",
       "      <td>setosa</td>\n",
       "    </tr>\n",
       "    <tr>\n",
       "      <th>2</th>\n",
       "      <td>4.7</td>\n",
       "      <td>3.2</td>\n",
       "      <td>1.3</td>\n",
       "      <td>0.2</td>\n",
       "      <td>setosa</td>\n",
       "    </tr>\n",
       "    <tr>\n",
       "      <th>3</th>\n",
       "      <td>4.6</td>\n",
       "      <td>3.1</td>\n",
       "      <td>1.5</td>\n",
       "      <td>0.2</td>\n",
       "      <td>setosa</td>\n",
       "    </tr>\n",
       "    <tr>\n",
       "      <th>4</th>\n",
       "      <td>5.0</td>\n",
       "      <td>3.6</td>\n",
       "      <td>1.4</td>\n",
       "      <td>0.2</td>\n",
       "      <td>setosa</td>\n",
       "    </tr>\n",
       "    <tr>\n",
       "      <th>...</th>\n",
       "      <td>...</td>\n",
       "      <td>...</td>\n",
       "      <td>...</td>\n",
       "      <td>...</td>\n",
       "      <td>...</td>\n",
       "    </tr>\n",
       "    <tr>\n",
       "      <th>145</th>\n",
       "      <td>6.7</td>\n",
       "      <td>3.0</td>\n",
       "      <td>5.2</td>\n",
       "      <td>2.3</td>\n",
       "      <td>virginica</td>\n",
       "    </tr>\n",
       "    <tr>\n",
       "      <th>146</th>\n",
       "      <td>6.3</td>\n",
       "      <td>2.5</td>\n",
       "      <td>5.0</td>\n",
       "      <td>1.9</td>\n",
       "      <td>virginica</td>\n",
       "    </tr>\n",
       "    <tr>\n",
       "      <th>147</th>\n",
       "      <td>6.5</td>\n",
       "      <td>3.0</td>\n",
       "      <td>5.2</td>\n",
       "      <td>2.0</td>\n",
       "      <td>virginica</td>\n",
       "    </tr>\n",
       "    <tr>\n",
       "      <th>148</th>\n",
       "      <td>6.2</td>\n",
       "      <td>3.4</td>\n",
       "      <td>5.4</td>\n",
       "      <td>2.3</td>\n",
       "      <td>virginica</td>\n",
       "    </tr>\n",
       "    <tr>\n",
       "      <th>149</th>\n",
       "      <td>5.9</td>\n",
       "      <td>3.0</td>\n",
       "      <td>5.1</td>\n",
       "      <td>1.8</td>\n",
       "      <td>virginica</td>\n",
       "    </tr>\n",
       "  </tbody>\n",
       "</table>\n",
       "<p>150 rows × 5 columns</p>\n",
       "</div>"
      ]
     },
     "execution_count": 79,
     "metadata": {},
     "output_type": "execute_result"
    }
   ],
   "execution_count": 79
  },
  {
   "attachments": {},
   "cell_type": "markdown",
   "id": "e109ddee-3998-4c1a-8bb6-797cfe9a31f0",
   "metadata": {},
   "source": [
    "Create a vertical partitioned DataFrame."
   ]
  },
  {
   "cell_type": "code",
   "id": "90206eca-f690-412d-9c09-e70e6830f6ac",
   "metadata": {
    "ExecuteTime": {
     "end_time": "2024-07-20T12:23:32.221720Z",
     "start_time": "2024-07-20T12:23:30.253955Z"
    }
   },
   "source": [
    "import tempfile\n",
    "from secretflow.data.vertical import read_csv as v_read_csv\n",
    "\n",
    "# Vertical partitioning.\n",
    "v_alice, v_bob = data.iloc[:, :2], data.iloc[:, 2:]\n",
    "\n",
    "# Save to temprary files.\n",
    "_, alice_path = tempfile.mkstemp()\n",
    "_, bob_path = tempfile.mkstemp()\n",
    "v_alice.to_csv(alice_path, index=False)\n",
    "v_bob.to_csv(bob_path, index=False)\n",
    "\n",
    "\n",
    "df = v_read_csv({alice: alice_path, bob: bob_path})"
   ],
   "outputs": [
    {
     "name": "stderr",
     "output_type": "stream",
     "text": [
      "INFO:root:Create proxy actor <class 'secretflow.device.proxy.ActorPartitionAgent'> with party alice.\n",
      "INFO:root:Create proxy actor <class 'secretflow.device.proxy.ActorPartitionAgent'> with party bob.\n"
     ]
    }
   ],
   "execution_count": 80
  },
  {
   "attachments": {},
   "cell_type": "markdown",
   "id": "338872d7",
   "metadata": {},
   "source": [
    "You can also create a horizontal partitioned DataFrame, which works the same with vertical partitioning for subsequent steps."
   ]
  },
  {
   "cell_type": "code",
   "execution_count": 4,
   "id": "2fd99e07",
   "metadata": {},
   "outputs": [],
   "source": [
    "# from secretflow.data.horizontal import read_csv as h_read_csv\n",
    "# from secretflow.security.aggregation import PlainAggregator\n",
    "# from secretflow.security.compare import PlainComparator\n",
    "\n",
    "# # Horizontal partitioning.\n",
    "# h_alice, h_bob = data.iloc[:70, :], data.iloc[70:, :]\n",
    "\n",
    "# # Save to temorary files.\n",
    "# _, h_alice_path = tempfile.mkstemp()\n",
    "# _, h_bob_path = tempfile.mkstemp()\n",
    "# h_alice.to_csv(h_alice_path, index=False)\n",
    "# h_bob.to_csv(h_bob_path, index=False)\n",
    "\n",
    "# df = h_read_csv(\n",
    "#     {alice: h_alice_path, bob: h_bob_path},\n",
    "#     aggregator=PlainAggregator(alice),\n",
    "#     comparator=PlainComparator(alice),\n",
    "# )"
   ]
  },
  {
   "metadata": {},
   "cell_type": "markdown",
   "source": [
    "## 3. 预处理\n",
    "\n",
    "隐语提供了缺失值填充、标准化、分类数据编码、离散化等多种预处理功能，其使用方式和sklearn的预处理一致。\n",
    "\n",
    "### 3.1 缺失值填充\n",
    "\n",
    "DataFrame提供了fillna方法，可以和pandas一样对缺失值进行填充。"
   ],
   "id": "8b7b4dc8bbddc2e3"
  },
  {
   "metadata": {
    "ExecuteTime": {
     "end_time": "2024-07-20T12:23:35.153470Z",
     "start_time": "2024-07-20T12:23:35.142386Z"
    }
   },
   "cell_type": "code",
   "source": [
    "# Before filling, the sepal width (cm) is missing in two positions.\n",
    "df.count()['sepal width (cm)']"
   ],
   "id": "f53eb206-7ba5-44ab-9b70-713af21ae28c",
   "outputs": [
    {
     "data": {
      "text/plain": [
       "148"
      ]
     },
     "execution_count": 81,
     "metadata": {},
     "output_type": "execute_result"
    }
   ],
   "execution_count": 81
  },
  {
   "cell_type": "code",
   "id": "b8c94841-73b3-4eb8-913d-af2f29c15ee2",
   "metadata": {
    "ExecuteTime": {
     "end_time": "2024-07-20T12:23:36.453172Z",
     "start_time": "2024-07-20T12:23:36.433326Z"
    }
   },
   "source": [
    "# Fill sepal width (cm) with 10.\n",
    "df.fillna(value={'sepal width (cm)': 10}).count()['sepal width (cm)']"
   ],
   "outputs": [
    {
     "data": {
      "text/plain": [
       "150"
      ]
     },
     "execution_count": 82,
     "metadata": {},
     "output_type": "execute_result"
    }
   ],
   "execution_count": 82
  },
  {
   "metadata": {},
   "cell_type": "markdown",
   "source": [
    "### 3.2 标准化\n",
    "\n",
    "#### 3.2.1 将特征缩放到某个范围(归一化，最小-最大标准化)。\n",
    "\n",
    "隐语提供了 MinMaxScaler 用于把特征缩放到最大和最小值之间。MinMaxScaler的输入和输出形式均为DataFrame。\n",
    "\n",
    "下面是将 sepal length (cm) 缩放到[0, 1]范围的示例。"
   ],
   "id": "31c0c40841e723"
  },
  {
   "metadata": {
    "ExecuteTime": {
     "end_time": "2024-07-20T12:23:54.637115Z",
     "start_time": "2024-07-20T12:23:54.600725Z"
    }
   },
   "cell_type": "code",
   "source": [
    "from secretflow.preprocessing import MinMaxScaler\n",
    "\n",
    "scaler = MinMaxScaler()\n",
    "\n",
    "scaled_sepal_len = scaler.fit_transform(df['sepal length (cm)'])\n",
    "\n",
    "print('Min: ', scaled_sepal_len.min())\n",
    "print('Max: ', scaled_sepal_len.max())"
   ],
   "id": "51043015-d6e8-4461-b205-eeb3a966fe83",
   "outputs": [
    {
     "name": "stdout",
     "output_type": "stream",
     "text": [
      "Min:  sepal length (cm)    0.0\n",
      "dtype: float64\n",
      "Max:  sepal length (cm)    1.0\n",
      "dtype: float64\n"
     ]
    }
   ],
   "execution_count": 84
  },
  {
   "metadata": {},
   "cell_type": "markdown",
   "source": [
    "#### 3.2.2 方差缩放(Z-score标准化)\n",
    "\n",
    "隐语提供了 StandardScaler 进行方差缩放。StandardScaler的输入和输出行为均为DataFrame。\n",
    "\n",
    "下面是一个将 sepal length (cm) 进行方差缩放的例子。"
   ],
   "id": "d56c8b9c2d1904be"
  },
  {
   "metadata": {},
   "cell_type": "markdown",
   "source": [
    "#### class secretflow.preprocessing.StandardScaler(with_mean=True, with_std=True)\n",
    "##### 参数\n",
    "\n",
    "- **`with_mean`** (默认值为 `True`)\n",
    "  - **说明**：是否在缩放之前对数据进行中心化。设置为 `True` 时，数据会先减去均值。设置为 `False` 时，数据不会被中心化（即均值为零）。\n",
    "- **`with_std`** (默认值为 `True`)\n",
    "  - **说明**：是否将数据缩放到单位方差。设置为 `True` 时，会将数据的标准差缩放到 1。设置为 `False` 时，数据的标准差保持不变（即标准差为 1）。\n"
   ],
   "id": "3c5838e1491a7806"
  },
  {
   "metadata": {
    "ExecuteTime": {
     "end_time": "2024-07-20T12:24:06.840529Z",
     "start_time": "2024-07-20T12:24:06.800559Z"
    }
   },
   "cell_type": "code",
   "source": [
    "from secretflow.preprocessing import StandardScaler\n",
    "\n",
    "scaler = StandardScaler()\n",
    "\n",
    "scaled_sepal_len = scaler.fit_transform(df['sepal length (cm)'])\n",
    "\n",
    "print('Min: ', scaled_sepal_len.min())\n",
    "print('Max: ', scaled_sepal_len.max())"
   ],
   "id": "cabf7b70",
   "outputs": [
    {
     "name": "stdout",
     "output_type": "stream",
     "text": [
      "Min:  sepal length (cm)   -1.870024\n",
      "dtype: float64\n",
      "Max:  sepal length (cm)    2.492019\n",
      "dtype: float64\n"
     ]
    }
   ],
   "execution_count": 86
  },
  {
   "metadata": {
    "ExecuteTime": {
     "end_time": "2024-07-20T12:24:09.039526Z",
     "start_time": "2024-07-20T12:24:09.030230Z"
    }
   },
   "cell_type": "code",
   "source": "print(f\"substituted ds in alice:\\n {sf.reveal(scaled_sepal_len.partitions[alice].data)}\")",
   "id": "547887c2614da4ab",
   "outputs": [
    {
     "name": "stdout",
     "output_type": "stream",
     "text": [
      "substituted ds in alice:\n",
      "      sepal length (cm)\n",
      "0            -0.900681\n",
      "1            -1.143017\n",
      "2            -1.385353\n",
      "3            -1.506521\n",
      "4            -1.021849\n",
      "..                 ...\n",
      "145           1.038005\n",
      "146           0.553333\n",
      "147           0.795669\n",
      "148           0.432165\n",
      "149           0.068662\n",
      "\n",
      "[150 rows x 1 columns]\n"
     ]
    }
   ],
   "execution_count": 87
  },
  {
   "metadata": {},
   "cell_type": "markdown",
   "source": [
    "### 3.3 分类特征编码\n",
    "\n",
    "#### 3.3.1 独热编码\n",
    "\n",
    "隐语提供了 OneHotEncoder 用作独热编码。 OneHotEncoder的输入和输出行为均为DataFrame。\n",
    "\n",
    "下面是一个对target列进行独热编码的例子。"
   ],
   "id": "9b0d4c78dee7653c"
  },
  {
   "metadata": {},
   "cell_type": "markdown",
   "source": [
    "#### class secretflow.preprocessing.OneHotEncoder (min_frequency=None, max_categories=None)\n",
    "\n",
    "##### 参数\n",
    "\n",
    "- `min_frequency`\n",
    "\n",
    "  :\n",
    "\n",
    "  - 类型：`int` 或 `float` 或 `None`\n",
    "  - 说明：指定类别的最小频率，低于此频率的类别将被视为不常见。\n",
    "    - 如果为 `int`：较少的类别数将被视为不常见。\n",
    "    - 如果为 `float`：类别数小于 `min_frequency * n_samples` 的类别将被视为不常见。\n",
    "\n",
    "- `max_categories`\n",
    "\n",
    "  :\n",
    "\n",
    "  - 类型：`int` 或 `None`\n",
    "  - 说明：指定每个输入特征的输出特征的上限，考虑不常见类别时。包括不常见类别和常见类别的类别数。如果为 `None`，则没有限制。"
   ],
   "id": "b66354f93728b7c0"
  },
  {
   "metadata": {
    "ExecuteTime": {
     "end_time": "2024-07-20T12:24:25.859810Z",
     "start_time": "2024-07-20T12:24:25.817065Z"
    }
   },
   "cell_type": "code",
   "source": [
    "from secretflow.preprocessing.encoder import OneHotEncoder\n",
    "# from secretflow.preprocessing import OneHotEncoder\n",
    "\n",
    "onehot_encoder = OneHotEncoder()\n",
    "onehot_target = onehot_encoder.fit_transform(df['target'])\n",
    "\n",
    "print('Columns: ', onehot_target.columns)\n",
    "print('Min: \\n', onehot_target.min())\n",
    "print('Max: \\n', onehot_target.max())"
   ],
   "id": "fe2023a4-6e6b-4ed8-892a-78df980e7ded",
   "outputs": [
    {
     "name": "stdout",
     "output_type": "stream",
     "text": [
      "Columns:  ['target_setosa', 'target_versicolor', 'target_virginica']\n",
      "Min: \n",
      " target_setosa        0.0\n",
      "target_versicolor    0.0\n",
      "target_virginica     0.0\n",
      "dtype: float64\n",
      "Max: \n",
      " target_setosa        1.0\n",
      "target_versicolor    1.0\n",
      "target_virginica     1.0\n",
      "dtype: float64\n"
     ]
    }
   ],
   "execution_count": 89
  },
  {
   "attachments": {},
   "cell_type": "markdown",
   "id": "3d2434aa-9f1f-40ed-b513-78c179e24635",
   "metadata": {
    "tags": []
   },
   "source": [
    "#### 3.2.2 标签编码\n",
    "\n",
    "隐语提供了 LabelEncoder 用作将标签列编码至[0, 类别数 - 1]。LabelEncoder的输入输出形式均为DataFrame。\n",
    "\n",
    "下面是一个对target列进行标签编码的例子。"
   ]
  },
  {
   "cell_type": "code",
   "id": "3c55619d-c12a-444d-b3a0-ab05d71dacc4",
   "metadata": {
    "tags": [],
    "ExecuteTime": {
     "end_time": "2024-07-20T12:25:04.700563Z",
     "start_time": "2024-07-20T12:25:04.657848Z"
    }
   },
   "source": [
    "# from secretflow.preprocessing import LabelEncoder\n",
    "from secretflow.preprocessing.encoder import LabelEncoder\n",
    "\n",
    "label_encoder = LabelEncoder()\n",
    "encoded_label = label_encoder.fit_transform(df['target'])\n",
    "\n",
    "print('Columns: ', encoded_label.columns)\n",
    "print('Min: \\n', encoded_label.min())\n",
    "print('Max: \\n', encoded_label.max())"
   ],
   "outputs": [
    {
     "name": "stdout",
     "output_type": "stream",
     "text": [
      "Columns:  ['target']\n",
      "Min: \n",
      " target    0\n",
      "dtype: int64\n",
      "Max: \n",
      " target    2\n",
      "dtype: int64\n"
     ]
    }
   ],
   "execution_count": 91
  },
  {
   "metadata": {},
   "cell_type": "markdown",
   "source": [
    "#### 3.2.3 序数编码(顺序编码)\n",
    "VOrdinalEncoder 是一个用于将分类特征编码为序数（ordinal numbers）的类，类似于 sklearn.preprocessing.OrdinalEncoder，但其输入和输出是联邦数据框（federated dataframe）。当前仅支持垂直序数编码。"
   ],
   "id": "e40f59fcc6cfd409"
  },
  {
   "metadata": {
    "ExecuteTime": {
     "end_time": "2024-07-20T12:25:42.672813Z",
     "start_time": "2024-07-20T12:25:42.640414Z"
    }
   },
   "cell_type": "code",
   "source": [
    "from secretflow.preprocessing.encoder import VOrdinalEncoder\n",
    "oe = VOrdinalEncoder()\n",
    "oe.fit(df['target'])\n",
    "oe_df=oe.transform(df['target'])\n",
    "print(f\"substituted ds in bob:\\n {sf.reveal(oe_df.partitions[bob].data)}\")"
   ],
   "id": "741f62214a03a9e9",
   "outputs": [
    {
     "name": "stdout",
     "output_type": "stream",
     "text": [
      "substituted ds in bob:\n",
      "      target\n",
      "0       0.0\n",
      "1       0.0\n",
      "2       0.0\n",
      "3       0.0\n",
      "4       0.0\n",
      "..      ...\n",
      "145     2.0\n",
      "146     2.0\n",
      "147     2.0\n",
      "148     2.0\n",
      "149     2.0\n",
      "\n",
      "[150 rows x 1 columns]\n"
     ]
    }
   ],
   "execution_count": 93
  },
  {
   "metadata": {},
   "cell_type": "markdown",
   "source": [
    "## 4 离散化\n",
    "\n",
    "隐语提供了 KBinsDiscretizer 用作将连续数据切分成离散值。KBinsDiscretizer的输入输出形式均为DataFrame。\n",
    "\n",
    "下面是一个将 petal length (cm) 切分成5个分桶的例子。"
   ],
   "id": "fe8970dd26101fcd"
  },
  {
   "metadata": {},
   "cell_type": "markdown",
   "source": [
    "#### class secretflow.preprocessing.KBinsDiscretizer(n_bins=5, strategy: str = 'quantile')\n",
    "##### 参数：\n",
    "\n",
    "- `n_bins`：要生成的箱子数量。\n",
    "- `strategy`：分箱策略，可以是 `'uniform'`（均匀分箱）或 `'quantile'`（分位数分箱），注意目前不支持 `'kmeans'`。"
   ],
   "id": "7c8f0c698d400b9d"
  },
  {
   "metadata": {},
   "cell_type": "code",
   "outputs": [
    {
     "name": "stdout",
     "output_type": "stream",
     "text": [
      "Min: \n",
      " petal length (cm)    0.0\n",
      "dtype: float64\n",
      "Max: \n",
      " petal length (cm)    4.0\n",
      "dtype: float64\n"
     ]
    }
   ],
   "execution_count": 10,
   "source": [
    "from secretflow.preprocessing import KBinsDiscretizer\n",
    "\n",
    "estimator = KBinsDiscretizer(n_bins=5)\n",
    "binned_petal_len = estimator.fit_transform(df['petal length (cm)'])\n",
    "\n",
    "print('Min: \\n', binned_petal_len.min())\n",
    "print('Max: \\n', binned_petal_len.max())"
   ],
   "id": "a3408341"
  },
  {
   "metadata": {},
   "cell_type": "markdown",
   "source": [
    "## 5 WOE编码\n",
    "\n",
    "隐语提供了 VertWoeBinning ，可以对特征按照数量或者chimerge方法进行分桶，并计算每个分桶的WOE和IV值。**VertBinSubstitution** 可以把特征值替换成WOE值。\n",
    "\n",
    "下面是一个对特征进行WOE编码的例子。"
   ],
   "id": "343704ae"
  },
  {
   "metadata": {
    "ExecuteTime": {
     "end_time": "2024-07-20T12:26:15.094001Z",
     "start_time": "2024-07-20T12:26:07.831310Z"
    }
   },
   "cell_type": "code",
   "source": [
    "# woe binning use SPU or HEU device to protect label\n",
    "spu = sf.SPU(sf.utils.testing.cluster_def(['alice', 'bob']))\n",
    "\n",
    "# Only support binary classification label dataset for now.\n",
    "# use linear dataset as example\n",
    "from secretflow.utils.simulation.datasets import load_linear\n",
    "\n",
    "vdf = load_linear(parts={alice: (1, 4), bob: (18, 22)})\n",
    "print(f\"orig ds in alice:\\n {sf.reveal(vdf.partitions[alice].data)}\")\n",
    "print(f\"orig ds in bob:\\n {sf.reveal(vdf.partitions[bob].data)}\")\n",
    "\n",
    "from secretflow.preprocessing.binning.vert_woe_binning import VertWoeBinning\n",
    "\n",
    "binning = VertWoeBinning(spu)\n",
    "bin_rules = binning.binning(\n",
    "    vdf,\n",
    "    binning_method=\"quantile\",\n",
    "    bin_num=5,\n",
    "    bin_names={alice: [\"x1\", \"x2\", \"x3\"], bob: [\"x18\", \"x19\", \"x20\"]},\n",
    "    label_name=\"y\",\n",
    ")\n",
    "\n",
    "print(f\"bin_rules for alice:\\n {sf.reveal(bin_rules[alice])}\")\n",
    "print(f\"bin_rules for bob:\\n {sf.reveal(bin_rules[bob])}\")\n",
    "\n",
    "from secretflow.preprocessing.binning.vert_bin_substitution import VertBinSubstitution\n",
    "\n",
    "woe_sub = VertBinSubstitution()\n",
    "sub_data = woe_sub.substitution(vdf, bin_rules)\n",
    "\n",
    "print(f\"substituted ds in alice:\\n {sf.reveal(sub_data[0].partitions[alice].data)}\")\n",
    "print(f\"substituted ds in bob:\\n {sf.reveal(sub_data[0].partitions[bob].data)}\")"
   ],
   "id": "16e22ed1",
   "outputs": [
    {
     "name": "stderr",
     "output_type": "stream",
     "text": [
      "INFO:root:Create proxy actor <class 'secretflow.device.proxy.ActorPartitionAgent'> with party alice.\n",
      "INFO:root:Create proxy actor <class 'secretflow.device.proxy.ActorPartitionAgent'> with party bob.\n",
      "INFO:root:Create proxy actor <class 'secretflow.device.proxy.ActorVertWoeBinningPyuWorker'> with party alice.\n",
      "INFO:root:Create proxy actor <class 'secretflow.device.proxy.ActorVertWoeBinningPyuWorker'> with party bob.\n"
     ]
    },
    {
     "name": "stdout",
     "output_type": "stream",
     "text": [
      "orig ds in alice:\n",
      "             x1        x2        x3\n",
      "0    -0.514226  0.730010 -0.730391\n",
      "1    -0.725537  0.482244 -0.823223\n",
      "2     0.608353 -0.071102 -0.775098\n",
      "3    -0.686642  0.160470  0.914477\n",
      "4    -0.198111  0.212909  0.950474\n",
      "...        ...       ...       ...\n",
      "9995 -0.367246 -0.296454  0.558596\n",
      "9996  0.010913  0.629268 -0.384093\n",
      "9997 -0.238097  0.904069 -0.344859\n",
      "9998  0.453686 -0.375173  0.899238\n",
      "9999 -0.776015 -0.772112  0.012110\n",
      "\n",
      "[10000 rows x 3 columns]\n",
      "orig ds in bob:\n",
      "            x18       x19       x20  y\n",
      "0     0.810261  0.048303  0.937679  1\n",
      "1     0.312728  0.526637  0.589773  1\n",
      "2     0.039087 -0.753417  0.516735  0\n",
      "3    -0.855979  0.250944  0.979465  1\n",
      "4    -0.238805  0.243109 -0.121446  1\n",
      "...        ...       ...       ... ..\n",
      "9995 -0.847253  0.069960  0.786748  1\n",
      "9996 -0.502486 -0.076290 -0.604832  1\n",
      "9997 -0.424209  0.434947  0.998955  1\n",
      "9998  0.914291 -0.473056  0.616257  1\n",
      "9999 -0.602927 -0.021368  0.885519  0\n",
      "\n",
      "[10000 rows x 4 columns]\n",
      "bin_rules for alice:\n",
      " {'variables': [{'name': 'x1', 'type': 'numeric', 'split_points': [-0.6048731088638305, -0.2093792676925656, 0.1864844083786014, 0.59245548248291], 'filling_values': [0.13818949789069251, 0.1043626580338657, 0.012473718947119546, -0.08312553911263658, -0.16055365315128886], 'total_counts': [2000, 2000, 2000, 2000, 2000], 'else_filling_value': -0.7620562438001163, 'else_counts': 0}, {'name': 'x2', 'type': 'numeric', 'split_points': [-0.6180597543716427, -0.21352910995483343, 0.18739376068115243, 0.5941788196563724], 'filling_values': [-0.5795513521445242, -0.17800092651085536, 0.02175062133493428, 0.32061945260518093, 0.5508555713857505], 'total_counts': [2000, 2000, 2000, 2000, 2000], 'else_filling_value': -0.7620562438001163, 'else_counts': 0}, {'name': 'x3', 'type': 'numeric', 'split_points': [-0.5902724504470824, -0.19980529546737677, 0.2072824716567998, 0.6102998018264773], 'filling_values': [-0.5371125119817587, -0.25762552591997334, -0.022037294110497735, 0.3445721198562295, 0.6304998785437507], 'total_counts': [2000, 2000, 2000, 2000, 2000], 'else_filling_value': -0.7620562438001163, 'else_counts': 0}]}\n",
      "bin_rules for bob:\n",
      " {'variables': [{'name': 'x18', 'type': 'numeric', 'split_points': [-0.595701837539673, -0.18646149635314926, 0.20281808376312258, 0.5969645977020259], 'filling_values': [0.7644870924575128, 0.3796894156855692, 0.09717493242210018, -0.3856750302449858, -0.6258460389655672], 'total_counts': [2000, 2000, 2000, 2000, 2000], 'else_filling_value': -0.7620562438001163, 'else_counts': 0}, {'name': 'x19', 'type': 'numeric', 'split_points': [-0.5988080263137814, -0.2046342611312865, 0.1958462238311768, 0.6044608354568479], 'filling_values': [-0.24268812281101115, -0.18886157950622262, 0.061543825157264156, 0.15773711862524092, 0.24528753075504478], 'total_counts': [2000, 2000, 2000, 2000, 2000], 'else_filling_value': -0.7620562438001163, 'else_counts': 0}, {'name': 'x20', 'type': 'numeric', 'split_points': [-0.6013513207435608, -0.2053116083145139, 0.19144065380096467, 0.5987063169479374], 'filling_values': [1.1083043875152403, 0.5598579367731444, 0.15773711862524092, -0.4618210945247346, -0.9083164208649596], 'total_counts': [2000, 2000, 2000, 2000, 2000], 'else_filling_value': -0.7620562438001163, 'else_counts': 0}], 'feature_iv_info': [{'name': 'x18', 'ivs': (0.0984553650514661, 0.026672043182215357, 0.0018543743703697353, 0.031572379289703925, 0.08527363286990977), 'else_iv': 6.385923806287768e-05, 'feature_iv': 0.24382779476366487}, {'name': 'x19', 'ivs': (0.012260322787780317, 0.0073647296376464335, 0.0007489127774465146, 0.0048277504221347, 0.011464529974064627), 'else_iv': 6.385923806287768e-05, 'feature_iv': 0.03666624559907259}, {'name': 'x20', 'ivs': (0.1887116758575296, 0.055586120695474514, 0.0048277504221347, 0.04568212645465593, 0.18279475271010598), 'else_iv': 6.385923806287768e-05, 'feature_iv': 0.4776024261399007}, {'name': 'x1', 'ivs': (0.003719895277030594, 0.0021358508878795324, 3.104792224414912e-05, 0.001402356358949689, 0.005298781871642081), 'else_iv': 6.385923806287768e-05, 'feature_iv': 0.012587932317746046}, {'name': 'x2', 'ivs': (0.07282166470764677, 0.006530977061248972, 9.424153452104671e-05, 0.019271267842100412, 0.05393057944296773), 'else_iv': 6.385923806287768e-05, 'feature_iv': 0.15264873058848494}, {'name': 'x3', 'ivs': (0.062290057806557865, 0.013846189451494859, 9.751520288052276e-05, 0.022140413942886045, 0.06928418076454097), 'else_iv': 6.385923806287768e-05, 'feature_iv': 0.16765835716836025}]}\n"
     ]
    },
    {
     "name": "stderr",
     "output_type": "stream",
     "text": [
      "WARNING:root:To create a Partitoin, we suggest to use function source.\n",
      "INFO:root:Create proxy actor <class 'secretflow.device.proxy.ActorPartitionAgent'> with party alice.\n",
      "WARNING:root:To create a Partitoin, we suggest to use function source.\n",
      "INFO:root:Create proxy actor <class 'secretflow.device.proxy.ActorPartitionAgent'> with party bob.\n"
     ]
    },
    {
     "name": "stdout",
     "output_type": "stream",
     "text": [
      "substituted ds in alice:\n",
      "             x1        x2        x3\n",
      "0     0.104363  0.550856 -0.537113\n",
      "1     0.138189  0.320619 -0.537113\n",
      "2    -0.160554  0.021751 -0.537113\n",
      "3     0.138189  0.021751  0.630500\n",
      "4     0.012474  0.320619  0.630500\n",
      "...        ...       ...       ...\n",
      "9995  0.104363 -0.178001  0.344572\n",
      "9996  0.012474  0.550856 -0.257626\n",
      "9997  0.104363  0.550856 -0.257626\n",
      "9998 -0.083126 -0.178001  0.630500\n",
      "9999  0.138189 -0.579551 -0.022037\n",
      "\n",
      "[10000 rows x 3 columns]\n",
      "substituted ds in bob:\n",
      "            x18       x19       x20  y\n",
      "0    -0.625846  0.061544 -0.908316  1\n",
      "1    -0.385675  0.157737 -0.461821  1\n",
      "2     0.097175 -0.242688 -0.461821  0\n",
      "3     0.764487  0.157737 -0.908316  1\n",
      "4     0.379689  0.157737  0.157737  1\n",
      "...        ...       ...       ... ..\n",
      "9995  0.764487  0.061544 -0.908316  1\n",
      "9996  0.379689  0.061544  1.108304  1\n",
      "9997  0.379689  0.157737 -0.908316  1\n",
      "9998 -0.625846 -0.188862 -0.908316  1\n",
      "9999  0.764487  0.061544 -0.908316  0\n",
      "\n",
      "[10000 rows x 4 columns]\n"
     ]
    }
   ],
   "execution_count": 94
  },
  {
   "metadata": {},
   "cell_type": "code",
   "outputs": [
    {
     "name": "stdout",
     "output_type": "stream",
     "text": [
      "(VDataFrame(partitions={PYURuntime(alice): <secretflow.data.core.partition.Partition object at 0x7faac41a2680>, PYURuntime(bob): <secretflow.data.core.partition.Partition object at 0x7faaa0657f40>}, aligned=True), {'x20', 'x2', 'x3', 'x18', 'x1', 'x19'})\n"
     ]
    }
   ],
   "execution_count": 21,
   "source": "print(sub_data )",
   "id": "14c37633991846af"
  },
  {
   "metadata": {},
   "cell_type": "markdown",
   "source": "## 6 数据筛选",
   "id": "36b20e8037fa7e4c"
  },
  {
   "metadata": {},
   "cell_type": "markdown",
   "source": [
    "`secretflow.preprocessing.cond_filter_v` 模块提供了一些用于在数据表中应用条件过滤的工具。这个模块的核心类是 `ConditionFilter`，以及一些辅助函数。下面详细介绍这些功能及如何使用它们：\n",
    "\n",
    "### `ConditionFilter` 类\n",
    "\n",
    "#### 说明\n",
    "\n",
    "`ConditionFilter` 类用于根据单个列的值和指定条件对表格进行过滤。它类似于 SQL 中的 `WHERE` 子句。\n",
    "\n",
    "#### 构造函数\n",
    "\n",
    "```\n",
    "python复制代码class ConditionFilter(_PreprocessBase):\n",
    "    def __init__(self, field_name: str, comparator: str, value_type: str, bound_value: List[str], float_epsilon: float = 1e-06):\n",
    "        \"\"\"\n",
    "        初始化 ConditionFilter 实例。\n",
    "\n",
    "        参数:\n",
    "        - field_name: 列名，表示要应用过滤的列。\n",
    "        - comparator: 比较运算符，决定了过滤条件（如 '>', '<', '==', '!=', '>=', '<='）。\n",
    "        - value_type: 过滤值的类型（'FLOAT', 'STRING'(指字符串)）。\n",
    "        - bound_value: 比较值，依据 comparator 进行过滤。\n",
    "        - float_epsilon: 用于浮点数比较的容忍误差。\n",
    "        \"\"\"\n",
    "        pass\n",
    "```\n",
    "\n",
    "#### 方法\n",
    "\n",
    "1. **`fit(df: VDataFrame) → ConditionFilter`**\n",
    "   - **功能**: 适配数据，通常用于计算需要的统计数据。\n",
    "   - **参数**: `df` - 要应用的 `VDataFrame` 实例。\n",
    "   - **返回**: 适配后的 `ConditionFilter` 实例。\n",
    "2. **`transform(df: VDataFrame) → VDataFrame`**\n",
    "   - **功能**: 根据指定条件过滤 `VDataFrame`。\n",
    "   - **参数**: `df` - 要应用条件的 `VDataFrame` 实例。\n",
    "   - **返回**: 过滤后的 `VDataFrame` 实例。\n",
    "3. **`fit_transform(df: VDataFrame) → VDataFrame`**\n",
    "   - **功能**: 同时进行适配和转换。\n",
    "   - **参数**: `df` - 要应用条件的 `VDataFrame` 实例。\n",
    "   - **返回**: 过滤后的 `VDataFrame` 实例。\n",
    "4. **`get_else_table() → VDataFrame`**\n",
    "   - **功能**: 获取未满足过滤条件的表格数据。\n",
    "   - **返回**: 过滤条件未满足的数据的 `VDataFrame` 实例。\n",
    "5. **`get_params() → Dict[str, Any]`**\n",
    "   - **功能**: 获取 `ConditionFilter` 实例的参数。\n",
    "   - **返回**: 参数字典。"
   ],
   "id": "8e3acdd463d58614"
  },
  {
   "metadata": {},
   "cell_type": "markdown",
   "source": [
    "##### ？？？\n",
    "- secretflow.preprocessing.cond_filter_v.series_close_producer(epsilon=1e-06)\n",
    "- secretflow.preprocessing.cond_filter_v.or_series(list_of_series)\n",
    "- secretflow.preprocessing.cond_filter_v.series_float_isin_producer(epsilon=1e-06)"
   ],
   "id": "598553a30153ac7"
  },
  {
   "metadata": {
    "ExecuteTime": {
     "end_time": "2024-07-20T12:30:58.353550Z",
     "start_time": "2024-07-20T12:30:58.095846Z"
    }
   },
   "cell_type": "code",
   "source": [
    "from secretflow.preprocessing.cond_filter_v import ConditionFilter\n",
    "\n",
    "# 创建条件过滤器实例\n",
    "condition_filter = ConditionFilter(\n",
    "    field_name='target',\n",
    "    comparator='==',\n",
    "    value_type='STRING',\n",
    "    bound_value=['setosa'],\n",
    "    float_epsilon=1e-6\n",
    ")\n",
    "\n",
    "# 适配数据\n",
    "condition_filter.fit(df['target'])\n",
    "\n",
    "# 过滤数据\n",
    "filtered_df = condition_filter.transform(df['target'])\n",
    "\n",
    "# 获取未满足条件的数据\n",
    "else_df = condition_filter.get_else_table()"
   ],
   "id": "61a24b1cb7675a84",
   "outputs": [
    {
     "name": "stderr",
     "output_type": "stream",
     "text": [
      "WARNING:root:To create a Partitoin, we suggest to use function source.\n",
      "INFO:root:Create proxy actor <class 'secretflow.device.proxy.ActorPartitionAgent'> with party bob.\n",
      "WARNING:root:To create a Partitoin, we suggest to use function source.\n",
      "INFO:root:Create proxy actor <class 'secretflow.device.proxy.ActorPartitionAgent'> with party bob.\n"
     ]
    }
   ],
   "execution_count": 97
  },
  {
   "metadata": {
    "ExecuteTime": {
     "end_time": "2024-07-20T12:32:35.016264Z",
     "start_time": "2024-07-20T12:32:34.993634Z"
    }
   },
   "cell_type": "code",
   "source": [
    "print(f\"substituted ds in bob:\\n {sf.reveal(df['target'].partitions[bob].data)}\")\n",
    "print(f\"substituted ds in bob:\\n {sf.reveal(filtered_df.partitions[bob].data)}\")\n",
    "print(f\"substituted ds in bob:\\n {sf.reveal(else_df.partitions[bob].data)}\")"
   ],
   "id": "dbeb6b07b5b5f15f",
   "outputs": [
    {
     "name": "stdout",
     "output_type": "stream",
     "text": [
      "substituted ds in bob:\n",
      "         target\n",
      "0       setosa\n",
      "1       setosa\n",
      "2       setosa\n",
      "3       setosa\n",
      "4       setosa\n",
      "..         ...\n",
      "145  virginica\n",
      "146  virginica\n",
      "147  virginica\n",
      "148  virginica\n",
      "149  virginica\n",
      "\n",
      "[150 rows x 1 columns]\n",
      "substituted ds in bob:\n",
      "     target\n",
      "0   setosa\n",
      "1   setosa\n",
      "2   setosa\n",
      "3   setosa\n",
      "4   setosa\n",
      "5   setosa\n",
      "6   setosa\n",
      "7   setosa\n",
      "8   setosa\n",
      "9   setosa\n",
      "10  setosa\n",
      "11  setosa\n",
      "12  setosa\n",
      "13  setosa\n",
      "14  setosa\n",
      "15  setosa\n",
      "16  setosa\n",
      "17  setosa\n",
      "18  setosa\n",
      "19  setosa\n",
      "20  setosa\n",
      "21  setosa\n",
      "22  setosa\n",
      "23  setosa\n",
      "24  setosa\n",
      "25  setosa\n",
      "26  setosa\n",
      "27  setosa\n",
      "28  setosa\n",
      "29  setosa\n",
      "30  setosa\n",
      "31  setosa\n",
      "32  setosa\n",
      "33  setosa\n",
      "34  setosa\n",
      "35  setosa\n",
      "36  setosa\n",
      "37  setosa\n",
      "38  setosa\n",
      "39  setosa\n",
      "40  setosa\n",
      "41  setosa\n",
      "42  setosa\n",
      "43  setosa\n",
      "44  setosa\n",
      "45  setosa\n",
      "46  setosa\n",
      "47  setosa\n",
      "48  setosa\n",
      "49  setosa\n",
      "substituted ds in bob:\n",
      "          target\n",
      "50   versicolor\n",
      "51   versicolor\n",
      "52   versicolor\n",
      "53   versicolor\n",
      "54   versicolor\n",
      "..          ...\n",
      "145   virginica\n",
      "146   virginica\n",
      "147   virginica\n",
      "148   virginica\n",
      "149   virginica\n",
      "\n",
      "[100 rows x 1 columns]\n"
     ]
    }
   ],
   "execution_count": 105
  },
  {
   "metadata": {},
   "cell_type": "markdown",
   "source": [
    "## 7 `class secretflow.preprocessing.LogroundTransformer(decimals: int = 6, bias: float = 0.5)` \n",
    "\n",
    "##### 用于计算 `round(log2(x + bias))`。\n",
    "\n",
    "##### 参数\n",
    "\n",
    "- **`decimals`** (默认值为 `6`)\n",
    "  - **说明**：指定对数计算后的结果保留的小数位数。即结果将被四舍五入到这个位数。\n",
    "- **`bias`** (默认值为 `0.5`)\n",
    "  - **说明**：在计算对数之前加上的偏置值。这个偏置值可以帮助避免对数计算中的数学问题，如对数零值。"
   ],
   "id": "61dd36db5be39991"
  },
  {
   "metadata": {
    "ExecuteTime": {
     "end_time": "2024-07-20T12:34:17.797098Z",
     "start_time": "2024-07-20T12:34:17.763855Z"
    }
   },
   "cell_type": "code",
   "source": [
    "from secretflow.preprocessing import LogroundTransformer\n",
    "\n",
    "# 初始化 LogroundTransformer\n",
    "transformer = LogroundTransformer(decimals=2, bias=1.0)\n",
    "\n",
    "# # 获取转换器参数(不能使用)\n",
    "# params = transformer.get_params()\n",
    "# print(\"Transformer parameters:\", params)\n",
    "\n",
    "# 拟合并转换数据\n",
    "transformed_df = transformer.fit_transform(df['petal length (cm)'])"
   ],
   "id": "5c43126476f1c714",
   "outputs": [],
   "execution_count": 109
  },
  {
   "metadata": {},
   "cell_type": "markdown",
   "source": "## Ending",
   "id": "5dd4ddd5"
  },
  {
   "metadata": {},
   "cell_type": "code",
   "outputs": [],
   "execution_count": 12,
   "source": [
    "# Clean up temporary files\n",
    "\n",
    "import os\n",
    "\n",
    "try:\n",
    "    os.remove(alice_path)\n",
    "    os.remove(bob_path)\n",
    "except OSError:\n",
    "    pass"
   ],
   "id": "831cc32e"
  }
 ],
 "metadata": {
  "kernelspec": {
   "display_name": "Python 3.8.13 ('py3.8')",
   "language": "python",
   "name": "python3"
  },
  "language_info": {
   "codemirror_mode": {
    "name": "ipython",
    "version": 3
   },
   "file_extension": ".py",
   "mimetype": "text/x-python",
   "name": "python",
   "nbconvert_exporter": "python",
   "pygments_lexer": "ipython3",
   "version": "3.8.17"
  },
  "vscode": {
   "interpreter": {
    "hash": "66d1547304beaba725027c44e57cc46fc747862fe9496520910412a3187eb35f"
   }
  }
 },
 "nbformat": 4,
 "nbformat_minor": 5
}
