{
 "cells": [
  {
   "cell_type": "markdown",
   "id": "d9c0a7f675a0139f",
   "metadata": {},
   "source": [
    "<span style=\"background-color: green;\">因为HDataFrame和VDataFrame使用均与DataFrame类似，所以这里展示VDataFrame的数据情况。</span>\n"
   ]
  },
  {
   "metadata": {},
   "cell_type": "markdown",
   "source": "# 1 读取预处理数据",
   "id": "a179585bada3e744"
  },
  {
   "metadata": {
    "ExecuteTime": {
     "end_time": "2024-07-20T06:22:15.719063Z",
     "start_time": "2024-07-20T06:22:10.487692Z"
    }
   },
   "cell_type": "code",
   "source": [
    "import secretflow as sf\n",
    "\n",
    "# Check the version of your SecretFlow\n",
    "print('The version of SecretFlow: {}'.format(sf.__version__))\n",
    "\n",
    "# In case you have a running secretflow runtime already.\n",
    "sf.shutdown()\n",
    "\n",
    "sf.init(['alice', 'bob'], address='local')\n",
    "alice = sf.PYU('alice')\n",
    "bob = sf.PYU('bob')"
   ],
   "id": "7c05e2b7a5cc1629",
   "outputs": [
    {
     "name": "stdout",
     "output_type": "stream",
     "text": [
      "The version of SecretFlow: 1.8.0b0\n"
     ]
    },
    {
     "name": "stderr",
     "output_type": "stream",
     "text": [
      "/home/beng003/anaconda/envs/sf/lib/python3.10/subprocess.py:1796: RuntimeWarning: os.fork() was called. os.fork() is incompatible with multithreaded code, and JAX is multithreaded, so this will likely lead to a deadlock.\n",
      "  self.pid = _posixsubprocess.fork_exec(\n",
      "2024-07-20 14:22:15,029\tINFO worker.py:1724 -- Started a local Ray instance.\n"
     ]
    }
   ],
   "execution_count": 1
  },
  {
   "metadata": {},
   "cell_type": "markdown",
   "source": "准备需要预处理的数据并保存",
   "id": "6d7da90929ff6a6d"
  },
  {
   "metadata": {},
   "cell_type": "code",
   "outputs": [
    {
     "data": {
      "text/plain": [
       "     sepal length (cm)  sepal width (cm)  petal length (cm)  petal width (cm)  \\\n",
       "0                  5.1               3.5                1.4               0.2   \n",
       "1                  4.9               NaN                1.4               0.2   \n",
       "2                  4.7               3.2                1.3               0.2   \n",
       "3                  4.6               3.1                1.5               0.2   \n",
       "4                  5.0               3.6                1.4               0.2   \n",
       "..                 ...               ...                ...               ...   \n",
       "145                6.7               3.0                5.2               2.3   \n",
       "146                6.3               2.5                5.0               1.9   \n",
       "147                6.5               3.0                5.2               2.0   \n",
       "148                6.2               3.4                5.4               2.3   \n",
       "149                5.9               3.0                5.1               1.8   \n",
       "\n",
       "        target  \n",
       "0       setosa  \n",
       "1       setosa  \n",
       "2       setosa  \n",
       "3       setosa  \n",
       "4       setosa  \n",
       "..         ...  \n",
       "145  virginica  \n",
       "146  virginica  \n",
       "147  virginica  \n",
       "148  virginica  \n",
       "149  virginica  \n",
       "\n",
       "[150 rows x 5 columns]"
      ],
      "text/html": [
       "<div>\n",
       "<style scoped>\n",
       "    .dataframe tbody tr th:only-of-type {\n",
       "        vertical-align: middle;\n",
       "    }\n",
       "\n",
       "    .dataframe tbody tr th {\n",
       "        vertical-align: top;\n",
       "    }\n",
       "\n",
       "    .dataframe thead th {\n",
       "        text-align: right;\n",
       "    }\n",
       "</style>\n",
       "<table border=\"1\" class=\"dataframe\">\n",
       "  <thead>\n",
       "    <tr style=\"text-align: right;\">\n",
       "      <th></th>\n",
       "      <th>sepal length (cm)</th>\n",
       "      <th>sepal width (cm)</th>\n",
       "      <th>petal length (cm)</th>\n",
       "      <th>petal width (cm)</th>\n",
       "      <th>target</th>\n",
       "    </tr>\n",
       "  </thead>\n",
       "  <tbody>\n",
       "    <tr>\n",
       "      <th>0</th>\n",
       "      <td>5.1</td>\n",
       "      <td>3.5</td>\n",
       "      <td>1.4</td>\n",
       "      <td>0.2</td>\n",
       "      <td>setosa</td>\n",
       "    </tr>\n",
       "    <tr>\n",
       "      <th>1</th>\n",
       "      <td>4.9</td>\n",
       "      <td>NaN</td>\n",
       "      <td>1.4</td>\n",
       "      <td>0.2</td>\n",
       "      <td>setosa</td>\n",
       "    </tr>\n",
       "    <tr>\n",
       "      <th>2</th>\n",
       "      <td>4.7</td>\n",
       "      <td>3.2</td>\n",
       "      <td>1.3</td>\n",
       "      <td>0.2</td>\n",
       "      <td>setosa</td>\n",
       "    </tr>\n",
       "    <tr>\n",
       "      <th>3</th>\n",
       "      <td>4.6</td>\n",
       "      <td>3.1</td>\n",
       "      <td>1.5</td>\n",
       "      <td>0.2</td>\n",
       "      <td>setosa</td>\n",
       "    </tr>\n",
       "    <tr>\n",
       "      <th>4</th>\n",
       "      <td>5.0</td>\n",
       "      <td>3.6</td>\n",
       "      <td>1.4</td>\n",
       "      <td>0.2</td>\n",
       "      <td>setosa</td>\n",
       "    </tr>\n",
       "    <tr>\n",
       "      <th>...</th>\n",
       "      <td>...</td>\n",
       "      <td>...</td>\n",
       "      <td>...</td>\n",
       "      <td>...</td>\n",
       "      <td>...</td>\n",
       "    </tr>\n",
       "    <tr>\n",
       "      <th>145</th>\n",
       "      <td>6.7</td>\n",
       "      <td>3.0</td>\n",
       "      <td>5.2</td>\n",
       "      <td>2.3</td>\n",
       "      <td>virginica</td>\n",
       "    </tr>\n",
       "    <tr>\n",
       "      <th>146</th>\n",
       "      <td>6.3</td>\n",
       "      <td>2.5</td>\n",
       "      <td>5.0</td>\n",
       "      <td>1.9</td>\n",
       "      <td>virginica</td>\n",
       "    </tr>\n",
       "    <tr>\n",
       "      <th>147</th>\n",
       "      <td>6.5</td>\n",
       "      <td>3.0</td>\n",
       "      <td>5.2</td>\n",
       "      <td>2.0</td>\n",
       "      <td>virginica</td>\n",
       "    </tr>\n",
       "    <tr>\n",
       "      <th>148</th>\n",
       "      <td>6.2</td>\n",
       "      <td>3.4</td>\n",
       "      <td>5.4</td>\n",
       "      <td>2.3</td>\n",
       "      <td>virginica</td>\n",
       "    </tr>\n",
       "    <tr>\n",
       "      <th>149</th>\n",
       "      <td>5.9</td>\n",
       "      <td>3.0</td>\n",
       "      <td>5.1</td>\n",
       "      <td>1.8</td>\n",
       "      <td>virginica</td>\n",
       "    </tr>\n",
       "  </tbody>\n",
       "</table>\n",
       "<p>150 rows × 5 columns</p>\n",
       "</div>"
      ]
     },
     "execution_count": 2,
     "metadata": {},
     "output_type": "execute_result"
    }
   ],
   "execution_count": 2,
   "source": [
    "import pandas as pd\n",
    "from sklearn.datasets import load_iris\n",
    "\n",
    "iris = load_iris(as_frame=True)\n",
    "data = pd.concat([iris.data, iris.target], axis=1)\n",
    "\n",
    "# In order to facilitate the subsequent display,\n",
    "# here we first set some data to None.\n",
    "data.iloc[1, 1] = None\n",
    "data.iloc[100, 1] = None\n",
    "\n",
    "# Restore target to its original name.\n",
    "data['target'] = data['target'].map({0: 'setosa', 1: 'versicolor', 2: 'virginica'})\n",
    "data"
   ],
   "id": "471d108e5c69bd9e"
  },
  {
   "metadata": {},
   "cell_type": "code",
   "outputs": [],
   "execution_count": 3,
   "source": [
    "import tempfile\n",
    "from secretflow.data.vertical import read_csv as v_read_csv\n",
    "\n",
    "# Vertical partitioning.\n",
    "v_alice, v_bob = data.iloc[:, :2], data.iloc[:, 2:]\n",
    "\n",
    "# Save to temprary files.\n",
    "_, alice_path = tempfile.mkstemp()\n",
    "_, bob_path = tempfile.mkstemp()\n",
    "v_alice.to_csv(alice_path, index=False)\n",
    "v_bob.to_csv(bob_path, index=False)"
   ],
   "id": "11cabaefe9ed7a4d"
  },
  {
   "metadata": {},
   "cell_type": "markdown",
   "source": "读取数据",
   "id": "db9970b3a127e0f5"
  },
  {
   "metadata": {},
   "cell_type": "code",
   "outputs": [
    {
     "name": "stderr",
     "output_type": "stream",
     "text": [
      "INFO:root:Create proxy actor <class 'secretflow.device.proxy.ActorPartitionAgent'> with party alice.\n",
      "INFO:root:Create proxy actor <class 'secretflow.device.proxy.ActorPartitionAgent'> with party bob.\n"
     ]
    }
   ],
   "execution_count": 4,
   "source": "df = v_read_csv({alice: alice_path, bob: bob_path})",
   "id": "11f726d5001b168a"
  },
  {
   "metadata": {},
   "cell_type": "markdown",
   "source": "",
   "id": "74bf152064cc7826"
  },
  {
   "metadata": {},
   "cell_type": "markdown",
   "source": "# 2 VDataFrame数据属性和方法及数据预处理",
   "id": "ef09aa8e93e0013d"
  },
  {
   "metadata": {},
   "cell_type": "markdown",
   "source": [
    "**Attributes:**\n",
    "\n",
    "| [`partitions`](https://www.secretflow.org.cn/zh-CN/docs/secretflow/v1.8.0b0/source/secretflow.data.data.vertical#id0) |                                                              |\n",
    "| ------------------------------------------------------------ | ------------------------------------------------------------ |\n",
    "| [`aligned`](https://www.secretflow.org.cn/zh-CN/docs/secretflow/v1.8.0b0/source/secretflow.data.data.vertical#id1) |                                                              |\n",
    "| [`columns`](https://www.secretflow.org.cn/zh-CN/docs/secretflow/v1.8.0b0/source/secretflow.data.data.vertical#secretflow.data.vertical.VDataFrame.columns) | The column labels of the DataFrame.                          |\n",
    "| [`dtypes`](https://www.secretflow.org.cn/zh-CN/docs/secretflow/v1.8.0b0/source/secretflow.data.data.vertical#secretflow.data.vertical.VDataFrame.dtypes) | Return the dtypes in the DataFrame.                          |\n",
    "| [`shape`](https://www.secretflow.org.cn/zh-CN/docs/secretflow/v1.8.0b0/source/secretflow.data.data.vertical#secretflow.data.vertical.VDataFrame.shape) | Return a tuple representing the dimensionality of the DataFrame. |\n",
    "| [`values`](https://www.secretflow.org.cn/zh-CN/docs/secretflow/v1.8.0b0/source/secretflow.data.data.vertical#secretflow.data.vertical.VDataFrame.values) | Return a federated Numpy representation of the DataFrame.    |\n",
    "| [`partition_columns`](https://www.secretflow.org.cn/zh-CN/docs/secretflow/v1.8.0b0/source/secretflow.data.data.vertical#secretflow.data.vertical.VDataFrame.partition_columns) | Returns columns of each partition.                           |\n",
    "\n",
    "**Methods:**\n",
    "\n",
    "| [`count`](https://www.secretflow.org.cn/zh-CN/docs/secretflow/v1.8.0b0/source/secretflow.data.data.vertical#secretflow.data.vertical.VDataFrame.count)([numeric_only]) | Count non-NA cells for each column.                          |\n",
    "| ------------------------------------------------------------ | ------------------------------------------------------------ |\n",
    "| [`index`](https://www.secretflow.org.cn/zh-CN/docs/secretflow/v1.8.0b0/source/secretflow.data.data.vertical#secretflow.data.vertical.VDataFrame.index)() | Returns the index (row labels) of the DataFrame.             |\n",
    "| [`sum`](https://www.secretflow.org.cn/zh-CN/docs/secretflow/v1.8.0b0/source/secretflow.data.data.vertical#secretflow.data.vertical.VDataFrame.sum)([numeric_only]) | Return the sum of the values over the axis 0.                |\n",
    "| [`min`](https://www.secretflow.org.cn/zh-CN/docs/secretflow/v1.8.0b0/source/secretflow.data.data.vertical#secretflow.data.vertical.VDataFrame.min)([numeric_only]) | Return the min of the values over the axis 0.                |\n",
    "| [`max`](https://www.secretflow.org.cn/zh-CN/docs/secretflow/v1.8.0b0/source/secretflow.data.data.vertical#secretflow.data.vertical.VDataFrame.max)([numeric_only]) | Return the max of the values over the axis 0.                |\n",
    "| [`mean`](https://www.secretflow.org.cn/zh-CN/docs/secretflow/v1.8.0b0/source/secretflow.data.data.vertical#secretflow.data.vertical.VDataFrame.mean)([numeric_only]) | Return the mean of the values over the axis 0.               |\n",
    "| [`var`](https://www.secretflow.org.cn/zh-CN/docs/secretflow/v1.8.0b0/source/secretflow.data.data.vertical#secretflow.data.vertical.VDataFrame.var)([numeric_only]) | Return the var of the values over the axis 0.                |\n",
    "| [`std`](https://www.secretflow.org.cn/zh-CN/docs/secretflow/v1.8.0b0/source/secretflow.data.data.vertical#secretflow.data.vertical.VDataFrame.std)([numeric_only]) | Return the std of the values over the axis 0.                |\n",
    "| [`sem`](https://www.secretflow.org.cn/zh-CN/docs/secretflow/v1.8.0b0/source/secretflow.data.data.vertical#secretflow.data.vertical.VDataFrame.sem)([numeric_only]) | Return the standard error of the mean over the axis 0.       |\n",
    "| [`skew`](https://www.secretflow.org.cn/zh-CN/docs/secretflow/v1.8.0b0/source/secretflow.data.data.vertical#secretflow.data.vertical.VDataFrame.skew)([numeric_only]) | Return the skewness over the axis 0.                         |\n",
    "| [`kurtosis`](https://www.secretflow.org.cn/zh-CN/docs/secretflow/v1.8.0b0/source/secretflow.data.data.vertical#secretflow.data.vertical.VDataFrame.kurtosis)([numeric_only]) | Return the kurtosis over the requested axis.                 |\n",
    "| [`quantile`](https://www.secretflow.org.cn/zh-CN/docs/secretflow/v1.8.0b0/source/secretflow.data.data.vertical#secretflow.data.vertical.VDataFrame.quantile)([q, numeric_only]) | Returns values at the given quantile over axis 0.            |\n",
    "| [`mode`](https://www.secretflow.org.cn/zh-CN/docs/secretflow/v1.8.0b0/source/secretflow.data.data.vertical#secretflow.data.vertical.VDataFrame.mode)([numeric_only, dropna]) | Return the mode of the values over the axis 0.               |\n",
    "| [`value_counts`](https://www.secretflow.org.cn/zh-CN/docs/secretflow/v1.8.0b0/source/secretflow.data.data.vertical#secretflow.data.vertical.VDataFrame.value_counts)(*args, **kwargs) | Return a Series containing counts of unique values.          |\n",
    "| [`isna`](https://www.secretflow.org.cn/zh-CN/docs/secretflow/v1.8.0b0/source/secretflow.data.data.vertical#secretflow.data.vertical.VDataFrame.isna)() | \"Detects missing values for an array-like object. Same as pandas.DataFrame.isna Returns DataFrame: Mask of bool values for each element in DataFrame that indicates whether an element is an NA value. |\n",
    "| [`replace`](https://www.secretflow.org.cn/zh-CN/docs/secretflow/v1.8.0b0/source/secretflow.data.data.vertical#secretflow.data.vertical.VDataFrame.replace)(*args, **kwargs) | Replace values given in to_replace with value.               |\n",
    "| [`astype`](https://www.secretflow.org.cn/zh-CN/docs/secretflow/v1.8.0b0/source/secretflow.data.data.vertical#secretflow.data.vertical.VDataFrame.astype)(dtype[, copy, errors]) | Cast object to a specified dtype `dtype`.                    |\n",
    "| [`copy`](https://www.secretflow.org.cn/zh-CN/docs/secretflow/v1.8.0b0/source/secretflow.data.data.vertical#secretflow.data.vertical.VDataFrame.copy)() | Shallow copy of this dataframe.                              |\n",
    "| [`drop`](https://www.secretflow.org.cn/zh-CN/docs/secretflow/v1.8.0b0/source/secretflow.data.data.vertical#secretflow.data.vertical.VDataFrame.drop)([labels, axis, index, columns, level, ...]) | Drop specified labels from rows or columns.                  |\n",
    "| [`fillna`](https://www.secretflow.org.cn/zh-CN/docs/secretflow/v1.8.0b0/source/secretflow.data.data.vertical#secretflow.data.vertical.VDataFrame.fillna)([value, method, axis, inplace, ...]) | Fill NA/NaN values using the specified method.               |\n",
    "| [`to_csv`](https://www.secretflow.org.cn/zh-CN/docs/secretflow/v1.8.0b0/source/secretflow.data.data.vertical#secretflow.data.vertical.VDataFrame.to_csv)(fileuris, **kwargs) | Write object to a comma-separated values (csv) file.         |\n",
    "| [`iloc`](https://www.secretflow.org.cn/zh-CN/docs/secretflow/v1.8.0b0/source/secretflow.data.data.vertical#secretflow.data.vertical.VDataFrame.iloc)(index) | Integer-location based indexing for selection by position.   |\n",
    "| [`rename`](https://www.secretflow.org.cn/zh-CN/docs/secretflow/v1.8.0b0/source/secretflow.data.data.vertical#secretflow.data.vertical.VDataFrame.rename)([mapper, index, columns, axis, copy, ...]) | See [`pandas.DataFrame.rename()`](https://pandas.pydata.org/pandas-docs/dev/reference/api/pandas.DataFrame.rename.html#pandas.DataFrame.rename) |\n",
    "| [`pow`](https://www.secretflow.org.cn/zh-CN/docs/secretflow/v1.8.0b0/source/secretflow.data.data.vertical#secretflow.data.vertical.VDataFrame.pow)(*args, **kwargs) | Gets Exponential power of dataframe and other, element-wise (binary operator pow). |\n",
    "| [`round`](https://www.secretflow.org.cn/zh-CN/docs/secretflow/v1.8.0b0/source/secretflow.data.data.vertical#secretflow.data.vertical.VDataFrame.round)(decimals) | Round the DataFrame to a variable number of decimal places.  |\n",
    "| [`select_dtypes`](https://www.secretflow.org.cn/zh-CN/docs/secretflow/v1.8.0b0/source/secretflow.data.data.vertical#secretflow.data.vertical.VDataFrame.select_dtypes)(*args, **kwargs) | Returns a subset of the DataFrame's columns based on the column dtypes. |\n",
    "| [`subtract`](https://www.secretflow.org.cn/zh-CN/docs/secretflow/v1.8.0b0/source/secretflow.data.data.vertical#secretflow.data.vertical.VDataFrame.subtract)(*args, **kwargs) | Gets Subtraction of dataframe and other, element-wise (binary operator sub). |\n",
    "| [`apply_func`](https://www.secretflow.org.cn/zh-CN/docs/secretflow/v1.8.0b0/source/secretflow.data.data.vertical#secretflow.data.vertical.VDataFrame.apply_func)(func, *[, nums_return]) | Apply any function inside the dataframe actor.               |\n",
    "| [`partition_shape`](https://www.secretflow.org.cn/zh-CN/docs/secretflow/v1.8.0b0/source/secretflow.data.data.vertical#secretflow.data.vertical.VDataFrame.partition_shape)() | Return shapes of each core.                                  |\n",
    "| [`to_pandas`](https://www.secretflow.org.cn/zh-CN/docs/secretflow/v1.8.0b0/source/secretflow.data.data.vertical#secretflow.data.vertical.VDataFrame.to_pandas)() | Convert myself to pandas type.                               |\n",
    "| [`groupby`](https://www.secretflow.org.cn/zh-CN/docs/secretflow/v1.8.0b0/source/secretflow.data.data.vertical#secretflow.data.vertical.VDataFrame.groupby)(compute_device, by) | Group the VDataFrame by the specified columns.               |\n",
    "| [`get_numeric_cols_from_df`](https://www.secretflow.org.cn/zh-CN/docs/secretflow/v1.8.0b0/source/secretflow.data.data.vertical#secretflow.data.vertical.VDataFrame.get_numeric_cols_from_df)(cols) | Get columns from VDataFrame.                                 |\n",
    "| [`get_flat_column`](https://www.secretflow.org.cn/zh-CN/docs/secretflow/v1.8.0b0/source/secretflow.data.data.vertical#secretflow.data.vertical.VDataFrame.get_flat_column)(col_name) | From the VDataFrame, extract a single column in flattened numpy array |"
   ],
   "id": "d6af346a530c15c8"
  }
 ],
 "metadata": {
  "kernelspec": {
   "display_name": "Python 3 (ipykernel)",
   "language": "python",
   "name": "python3"
  },
  "language_info": {
   "codemirror_mode": {
    "name": "ipython",
    "version": 3
   },
   "file_extension": ".py",
   "mimetype": "text/x-python",
   "name": "python",
   "nbconvert_exporter": "python",
   "pygments_lexer": "ipython3",
   "version": "3.11.7"
  }
 },
 "nbformat": 4,
 "nbformat_minor": 5
}
