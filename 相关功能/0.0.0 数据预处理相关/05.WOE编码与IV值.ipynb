{
 "cells": [
  {
   "metadata": {},
   "cell_type": "markdown",
   "source": [
    "# WOE编码\n",
    "\n",
    "> 以下代码仅用于演示。由于系统安全问题，请勿直接在生产中使用。\n",
    "\n",
    "建议使用 [jupyter](https://jupyter.org/) 运行本教程。\n",
    "\n",
    "分箱是基于排序方法创建独立变量的桶。分箱帮助我们将连续变量转换为分类变量。\n",
    "\n",
    "WOE分箱实现了针对二元目标变量的数值变量的分箱。\n",
    "\n",
    "\n",
    "\n",
    "```none\n",
    "bin_total = bin_positives + bin_negatives\n",
    "\n",
    "total_labels = total_positives + total_negatives\n",
    "\n",
    "bin_WOE = log((bin_positives / total_positives) / (bin_negatives / total_negatives))\n",
    "\n",
    "bin_iv = ((bin_positives / total_positives) - (bin_negatives / total_negatives)) * bin_woe\n",
    "```\n",
    "\n",
    "目前我们为垂直分割的数据集提供WOE编码。\n",
    "\n",
    "让我们先加载一个样本数据集。"
   ]
  },
  {
   "metadata": {},
   "cell_type": "markdown",
   "source": "### 1 准备数据"
  },
  {
   "metadata": {},
   "cell_type": "code",
   "outputs": [],
   "execution_count": 13,
   "source": [
    "import secretflow as sf\n",
    "from secretflow.data.vertical import VDataFrame\n",
    "from secretflow.utils.simulation.datasets import load_linear"
   ]
  },
  {
   "cell_type": "code",
   "metadata": {
    "ExecuteTime": {
     "end_time": "2024-07-21T09:29:38.099573Z",
     "start_time": "2024-07-21T09:29:34.111340Z"
    }
   },
   "source": [
    "sf.shutdown()\n",
    "sf.init(['alice', 'bob'], address='local')\n",
    "alice, bob = sf.PYU('alice'), sf.PYU('bob')\n",
    "spu = sf.SPU(sf.utils.testing.cluster_def(['alice', 'bob']))"
   ],
   "outputs": [
    {
     "name": "stderr",
     "output_type": "stream",
     "text": [
      "/home/beng003/anaconda/envs/sf/lib/python3.10/subprocess.py:1796: RuntimeWarning: os.fork() was called. os.fork() is incompatible with multithreaded code, and JAX is multithreaded, so this will likely lead to a deadlock.\n",
      "  self.pid = _posixsubprocess.fork_exec(\n",
      "2024-07-21 17:29:37,319\tINFO worker.py:1724 -- Started a local Ray instance.\n"
     ]
    }
   ],
   "execution_count": 14
  },
  {
   "cell_type": "code",
   "metadata": {
    "ExecuteTime": {
     "end_time": "2024-07-21T09:51:53.637931Z",
     "start_time": "2024-07-21T09:51:53.348833Z"
    }
   },
   "source": [
    "parts = {\n",
    "    bob: (1, 11),\n",
    "    alice: (11, 22),\n",
    "}\n",
    "vdf = load_linear(parts=parts)"
   ],
   "outputs": [
    {
     "name": "stderr",
     "output_type": "stream",
     "text": [
      "INFO:root:Create proxy actor <class 'secretflow.device.proxy.ActorPartitionAgent'> with party bob.\n",
      "INFO:root:Create proxy actor <class 'secretflow.device.proxy.ActorPartitionAgent'> with party alice.\n"
     ]
    }
   ],
   "execution_count": 20
  },
  {
   "cell_type": "code",
   "metadata": {
    "ExecuteTime": {
     "end_time": "2024-07-21T09:29:41.856094Z",
     "start_time": "2024-07-21T09:29:41.842741Z"
    }
   },
   "source": [
    "label_data = vdf['y']\n",
    "y = sf.reveal(label_data.partitions[alice].data).values"
   ],
   "outputs": [],
   "execution_count": 16
  },
  {
   "metadata": {
    "ExecuteTime": {
     "end_time": "2024-07-21T08:21:04.914606Z",
     "start_time": "2024-07-21T08:21:04.906434Z"
    }
   },
   "cell_type": "code",
   "source": "vdf.columns",
   "outputs": [
    {
     "data": {
      "text/plain": [
       "['x1',\n",
       " 'x2',\n",
       " 'x3',\n",
       " 'x4',\n",
       " 'x5',\n",
       " 'x6',\n",
       " 'x7',\n",
       " 'x8',\n",
       " 'x9',\n",
       " 'x10',\n",
       " 'x11',\n",
       " 'x12',\n",
       " 'x13',\n",
       " 'x14',\n",
       " 'x15',\n",
       " 'x16',\n",
       " 'x17',\n",
       " 'x18',\n",
       " 'x19',\n",
       " 'x20',\n",
       " 'y']"
      ]
     },
     "execution_count": 9,
     "metadata": {},
     "output_type": "execute_result"
    }
   ],
   "execution_count": 9
  },
  {
   "attachments": {},
   "cell_type": "markdown",
   "metadata": {},
   "source": "### 2 执行WOE分箱和替换。"
  },
  {
   "metadata": {},
   "cell_type": "markdown",
   "source": [
    "### 类定义\n",
    "\n",
    "```python\n",
    "class VertWoeBinning(object):\n",
    "    def __init__(self, secure_device: SPU | HEU):\n",
    "        \"\"\"\n",
    "        初始化 VertWoeBinning 类。\n",
    "        \n",
    "        参数:\n",
    "        - secure_device: SPU 或 HEU，用于安全计算。\n",
    "        \"\"\"\n",
    "        self.secure_device = secure_device\n",
    "\n",
    "    def binning(self, vdata: VDataFrame, binning_method: str = 'quantile', bin_num: int = 10, bin_names: Dict[PYU, List[str]] = {}, label_name: str = '', positive_label: str = '1', chimerge_init_bins: int = 100, chimerge_target_bins: int = 10, chimerge_target_pvalue: float = 0.1, audit_log_path: Dict[str, str] = {}):\n",
    "        \"\"\"\n",
    "        基于 vdata 构建 WOE 替换规则。仅支持二分类标签数据集。\n",
    "        \n",
    "        参数:\n",
    "        - vdata: 垂直切片数据集，使用 {binning_method} 对所有数值型特征进行分箱。对字符串类型特征按其类别分箱，其它分箱计算 np.nan 样本。\n",
    "        - binning_method: 数值型特征分箱方法。选项: “quantile”(等频)/”chimerge”(ChiMerge from AAAI92-019)/”eq_range”(等距)。默认值: “quantile”。\n",
    "        - bin_num: 单个特征的最大分箱数。范围: (0, ∞]。默认值: 10。\n",
    "        - bin_names: 需要进行分箱的特征。\n",
    "        - label_name: 标签列名称。\n",
    "        - positive_label: 标签中表示正样本的值。\n",
    "        - chimerge_init_bins: ChiMerge 初始分箱的最大分箱数。范围: (2, ∞]。默认值: 100。\n",
    "        - chimerge_target_bins: 停止合并的目标分箱数。范围: [2, {chimerge_init_bins})。默认值: 10。\n",
    "        - chimerge_target_pvalue: 停止合并的 p 值阈值。范围: (0, 1)。默认值: 0.1。\n",
    "        - audit_log_path: 输出审计日志路径，为 HEU 加密到设备的本地路径。为空表示禁用。例如: {‘alice’: ‘/path/to/alice/audit/filename’, ‘bob’: ‘bob/audit/filename’}。注意: 请勿随意修改此选项，保持为空并禁用。除非你明确了解此选项的含义并接受其风险。\n",
    "        \n",
    "        返回:\n",
    "        - Dict[PYU, PYUObject]: 包含本方所有特征规则的字典。\n",
    "        \"\"\"\n",
    "```\n",
    "\n"
   ]
  },
  {
   "metadata": {
    "ExecuteTime": {
     "end_time": "2024-07-21T09:29:50.177493Z",
     "start_time": "2024-07-21T09:29:46.467653Z"
    }
   },
   "cell_type": "code",
   "source": [
    "from secretflow.preprocessing.binning.vert_woe_binning import VertWoeBinning\n",
    "from secretflow.preprocessing.binning.vert_bin_substitution import VertBinSubstitution\n",
    "\n",
    "binning = VertWoeBinning(spu)\n",
    "bin_rules = binning.binning(\n",
    "    vdf,\n",
    "    binning_method=\"chimerge\",\n",
    "    bin_num=4,\n",
    "    bin_names={alice: [], bob: [\"x5\", \"x7\"]},\n",
    "    label_name=\"y\",\n",
    ")"
   ],
   "outputs": [
    {
     "name": "stderr",
     "output_type": "stream",
     "text": [
      "INFO:root:Create proxy actor <class 'secretflow.device.proxy.ActorVertWoeBinningPyuWorker'> with party alice.\n",
      "INFO:root:Create proxy actor <class 'secretflow.device.proxy.ActorVertWoeBinningPyuWorker'> with party bob.\n"
     ]
    }
   ],
   "execution_count": 17
  },
  {
   "metadata": {
    "ExecuteTime": {
     "end_time": "2024-07-21T09:52:00.511285Z",
     "start_time": "2024-07-21T09:51:58.561166Z"
    }
   },
   "cell_type": "code",
   "source": [
    "woe_sub = VertBinSubstitution()\n",
    "sub_data = woe_sub.substitution(vdf, bin_rules)"
   ],
   "outputs": [],
   "execution_count": null
  },
  {
   "metadata": {},
   "cell_type": "markdown",
   "source": "### 分箱替换后的数据为sub_data[0]"
  },
  {
   "metadata": {
    "ExecuteTime": {
     "end_time": "2024-07-21T10:19:17.623554Z",
     "start_time": "2024-07-21T10:19:17.618643Z"
    }
   },
   "cell_type": "code",
   "source": "sub_data",
   "outputs": [
    {
     "data": {
      "text/plain": [
       "(VDataFrame(partitions={PYURuntime(bob): <secretflow.data.core.partition.Partition object at 0x7f3c22b003a0>, PYURuntime(alice): <secretflow.data.core.partition.Partition object at 0x7f3b882f6fb0>}, aligned=True),\n",
       " {'x5', 'x7'})"
      ]
     },
     "execution_count": 30,
     "metadata": {},
     "output_type": "execute_result"
    }
   ],
   "execution_count": 30
  },
  {
   "metadata": {},
   "cell_type": "code",
   "outputs": [
    {
     "name": "stderr",
     "output_type": "stream",
     "text": [
      "WARNING:root:To create a Partitoin, we suggest to use function source.\n",
      "INFO:root:Create proxy actor <class 'secretflow.device.proxy.ActorPartitionAgent'> with party bob.\n",
      "WARNING:root:To create a Partitoin, we suggest to use function source.\n",
      "INFO:root:Create proxy actor <class 'secretflow.device.proxy.ActorPartitionAgent'> with party alice.\n"
     ]
    },
    {
     "name": "stdout",
     "output_type": "stream",
     "text": [
      "           x11       x12       x13       x14       x15       x16       x17  \\\n",
      "0     0.241531 -0.705729 -0.020094 -0.486932  0.851992  0.035219 -0.796096   \n",
      "1    -0.402727  0.115744  0.468149 -0.697152  0.386395  0.712798  0.239583   \n",
      "2     0.872675 -0.559321  0.390246  0.000472  0.225594 -0.639674  0.279511   \n",
      "3    -0.644718 -0.409382  0.141747 -0.797517  0.314084 -0.802476  0.348878   \n",
      "4    -0.949669 -0.940787 -0.951708  0.187475  0.272346  0.124419  0.853226   \n",
      "...        ...       ...       ...       ...       ...       ...       ...   \n",
      "9995 -0.031331 -0.078700 -0.020636 -0.575713  0.210120 -0.288943 -0.262945   \n",
      "9996  0.047039  0.965614 -0.921435 -0.092970  0.205778  0.155392  0.922683   \n",
      "9997  0.269438 -0.115586  0.928880  0.430016  0.269042 -0.331772  0.520971   \n",
      "9998  0.999325  0.433372 -0.805999  0.311548  0.072405  0.973399 -0.123470   \n",
      "9999 -0.203443  0.772931 -0.146181 -0.195646  0.274590  0.803816 -0.312047   \n",
      "\n",
      "           x18       x19       x20  y  \n",
      "0     0.810261  0.048303  0.937679  1  \n",
      "1     0.312728  0.526637  0.589773  1  \n",
      "2     0.039087 -0.753417  0.516735  0  \n",
      "3    -0.855979  0.250944  0.979465  1  \n",
      "4    -0.238805  0.243109 -0.121446  1  \n",
      "...        ...       ...       ... ..  \n",
      "9995 -0.847253  0.069960  0.786748  1  \n",
      "9996 -0.502486 -0.076290 -0.604832  1  \n",
      "9997 -0.424209  0.434947  0.998955  1  \n",
      "9998  0.914291 -0.473056  0.616257  1  \n",
      "9999 -0.602927 -0.021368  0.885519  0  \n",
      "\n",
      "[10000 rows x 11 columns]\n",
      "            x1        x2        x3        x4        x5        x6        x7  \\\n",
      "0    -0.514226  0.730010 -0.730391  0.970483  0.038063 -0.800808 -0.082006   \n",
      "1    -0.725537  0.482244 -0.823223  0.202119  0.484290 -0.139781 -0.341216   \n",
      "2     0.608353 -0.071102 -0.775098 -0.391496  0.224127  0.082370 -0.341216   \n",
      "3    -0.686642  0.160470  0.914477 -0.269052  0.224127 -0.547841 -0.341216   \n",
      "4    -0.198111  0.212909  0.950474  0.775259 -0.590206 -0.840528 -0.742056   \n",
      "...        ...       ...       ...       ...       ...       ...       ...   \n",
      "9995 -0.367246 -0.296454  0.558596 -0.403504  0.542892  0.000142 -0.341216   \n",
      "9996  0.010913  0.629268 -0.384093 -0.552787  0.542892 -0.100838  0.071673   \n",
      "9997 -0.238097  0.904069 -0.344859 -0.687887 -0.103900  0.223052 -0.286633   \n",
      "9998  0.453686 -0.375173  0.899238  0.908135 -0.590206  0.524051  0.347251   \n",
      "9999 -0.776015 -0.772112  0.012110 -0.898067  0.182405 -0.500491  0.557853   \n",
      "\n",
      "            x8        x9       x10  \n",
      "0    -0.499206 -0.750112 -0.910640  \n",
      "1    -0.652901  0.438065  0.830206  \n",
      "2    -0.183506 -0.783842 -0.729929  \n",
      "3    -0.269405 -0.974268 -0.800515  \n",
      "4     0.800389  0.185542  0.183614  \n",
      "...        ...       ...       ...  \n",
      "9995 -0.470127 -0.247682 -0.552526  \n",
      "9996  0.592903 -0.577123 -0.811461  \n",
      "9997 -0.172245  0.713149 -0.184585  \n",
      "9998 -0.558997  0.610076 -0.862191  \n",
      "9999 -0.275658 -0.250420  0.518420  \n",
      "\n",
      "[10000 rows x 10 columns]\n"
     ]
    }
   ],
   "execution_count": 21,
   "source": [
    "# this is for demo only, be careful with reveal\n",
    "print(sf.reveal(sub_data[0].partitions[alice].data))\n",
    "print(sf.reveal(sub_data[0].partitions[bob].data))"
   ]
  },
  {
   "attachments": {},
   "cell_type": "markdown",
   "metadata": {},
   "source": [
    "### 3. IV值\n",
    "有时我们可能需要IV值。根据GitHub issue, https://github.com/secretflow/secretflow/issues/565，\n",
    "发布分桶的ivs可能会泄漏标签信息。目前，我们选择将桶的iv值保存在标签持有者设备中。标签持有者可以选择 1. 不共享iv信息 2. 共享一些已选择的iv信息\n",
    "\n",
    "1. 将一些iv信息分享给其他方\n",
    "2. 将一些iv信息分享给其他方\n",
    "\n",
    "我们将演示如何共享特征iv。\n",
    "\n",
    "回想一下，woe_rules是一个字典 {PYU: PYUObject}，其中 “ “每个 PYUObject 本身是以下类型的字典"
   ]
  },
  {
   "attachments": {},
   "cell_type": "markdown",
   "metadata": {},
   "source": [
    "\n",
    "```\n",
    "{\n",
    "    \"variables\":[\n",
    "        {\n",
    "            \"name\": str, # feature name\n",
    "            \"type\": str, # \"string\" or \"numeric\", if feature is discrete or continuous\n",
    "            \"categories\": list[str], # categories for discrete feature\n",
    "            \"split_points\": list[float], # left-open right-close split points\n",
    "            \"total_counts\": list[int], # total samples count in each bins.\n",
    "            \"else_counts\": int, # np.nan samples count\n",
    "            \"filling_values\": list[float], # woe values for each bins.\n",
    "            \"else_filling_value\": float, # woe value for np.nan samples.\n",
    "        },\n",
    "        # ... others feature\n",
    "    ],\n",
    "    # label holder's PYUObject only\n",
    "    # warning: giving bin_ivs to other party will leak positive samples in each bin.\n",
    "    # it is up to label holder's will to give feature iv or bin ivs or all info to workers.\n",
    "    # for more information, look at: https://github.com/secretflow/secretflow/issues/565\n",
    "\n",
    "    # in the following comment, by safe we mean label distribution info is not leaked.\n",
    "    \"feature_iv_info\" :[\n",
    "        {\n",
    "            \"name\": str, #feature name\n",
    "            \"ivs\": list[float], #iv values for each bins, not safe to share with workers in any case.\n",
    "            \"else_iv\": float, #iv for nan values, may share to with workers\n",
    "            \"feature_iv\": float, #sum of bin_ivs, safe to share with workers when bin num > 2.\n",
    "        }\n",
    "    ]\n",
    "}\n",
    "```"
   ]
  },
  {
   "metadata": {
    "ExecuteTime": {
     "end_time": "2024-07-21T10:14:45.465317Z",
     "start_time": "2024-07-21T10:14:45.458825Z"
    }
   },
   "cell_type": "code",
   "source": "bin_rules",
   "outputs": [
    {
     "data": {
      "text/plain": [
       "{PYURuntime(bob): <secretflow.device.device.pyu.PYUObject at 0x7f3c22be2d70>,\n",
       " PYURuntime(alice): <secretflow.device.device.pyu.PYUObject at 0x7f3c22be1540>}"
      ]
     },
     "execution_count": 29,
     "metadata": {},
     "output_type": "execute_result"
    }
   ],
   "execution_count": 29
  },
  {
   "metadata": {
    "ExecuteTime": {
     "end_time": "2024-07-21T10:21:03.472968Z",
     "start_time": "2024-07-21T10:21:03.463522Z"
    }
   },
   "cell_type": "code",
   "source": [
    "# alice is label holder\n",
    "dict_pyu_object = bin_rules[alice]\n",
    "\n",
    "\n",
    "def extract_name_and_feature_iv(list_of_feature_iv_info):\n",
    "    return [(d[\"name\"], d[\"feature_iv\"]) for d in list_of_feature_iv_info]\n",
    "\n",
    "\n",
    "feature_ivs = alice(\n",
    "    lambda dict_pyu_object: extract_name_and_feature_iv(\n",
    "        dict_pyu_object[\"feature_iv_info\"]\n",
    "    )\n",
    ")(dict_pyu_object)"
   ],
   "outputs": [],
   "execution_count": 31
  },
  {
   "cell_type": "code",
   "metadata": {
    "ExecuteTime": {
     "end_time": "2024-07-21T10:21:47.754434Z",
     "start_time": "2024-07-21T10:21:47.749525Z"
    }
   },
   "source": [
    "# we can give the feature_ivs to bob\n",
    "feature_ivs.to(bob)\n",
    "# and/or we can reveal it to see it\n",
    "sf.reveal(feature_ivs)"
   ],
   "outputs": [
    {
     "data": {
      "text/plain": [
       "[('x5', 0.37848298069087766), ('x7', 0)]"
      ]
     },
     "execution_count": 37,
     "metadata": {},
     "output_type": "execute_result"
    }
   ],
   "execution_count": 37
  }
 ],
 "metadata": {
  "kernelspec": {
   "display_name": "py38",
   "language": "python",
   "name": "python3"
  },
  "language_info": {
   "codemirror_mode": {
    "name": "ipython",
    "version": 3
   },
   "file_extension": ".py",
   "mimetype": "text/x-python",
   "name": "python",
   "nbconvert_exporter": "python",
   "pygments_lexer": "ipython3",
   "version": "3.8.17"
  },
  "orig_nbformat": 4
 },
 "nbformat": 4,
 "nbformat_minor": 2
}
