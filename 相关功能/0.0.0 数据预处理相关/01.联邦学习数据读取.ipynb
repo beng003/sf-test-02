{
 "cells": [
  {
   "cell_type": "markdown",
   "id": "46c2e26cf08613f8",
   "metadata": {},
   "source": [
    "# 1 数据读取"
   ]
  },
  {
   "cell_type": "markdown",
   "id": "71e56fb9f25b3953",
   "metadata": {},
   "source": [
    "#### 将DataFrame数据按行和列分别分割保存为csv数据文件来模拟各方持有的数据情况，读取csv数据分别为HDataFrame和VDataFrame类型变量"
   ]
  },
  {
   "cell_type": "markdown",
   "id": "b3ef593085bc0875",
   "metadata": {},
   "source": [
    "## 1.1 初始化"
   ]
  },
  {
   "cell_type": "code",
   "execution_count": 1,
   "id": "initial_id",
   "metadata": {
    "ExecuteTime": {
     "end_time": "2024-07-22T06:18:36.403147Z",
     "start_time": "2024-07-22T06:18:31.952957Z"
    }
   },
   "outputs": [
    {
     "name": "stdout",
     "output_type": "stream",
     "text": [
      "The version of SecretFlow: 1.8.0b0\n"
     ]
    },
    {
     "name": "stderr",
     "output_type": "stream",
     "text": [
      "/home/beng003/anaconda/envs/sf/lib/python3.10/subprocess.py:1796: RuntimeWarning: os.fork() was called. os.fork() is incompatible with multithreaded code, and JAX is multithreaded, so this will likely lead to a deadlock.\n",
      "  self.pid = _posixsubprocess.fork_exec(\n",
      "2024-07-25 20:40:05,850\tINFO worker.py:1724 -- Started a local Ray instance.\n"
     ]
    }
   ],
   "source": [
    "import secretflow as sf\n",
    "\n",
    "# Check the version of your SecretFlow\n",
    "print('The version of SecretFlow: {}'.format(sf.__version__))\n",
    "\n",
    "# In case you have a running secretflow runtime already.\n",
    "sf.shutdown()\n",
    "\n",
    "sf.init(['alice', 'bob', 'carol'], address='local')\n",
    "alice, bob, carol = sf.PYU('alice'), sf.PYU('bob'), sf.PYU('carol')"
   ]
  },
  {
   "cell_type": "markdown",
   "id": "6b28d05a693b1cce",
   "metadata": {},
   "source": [
    "## 1.2 查看Dataframe数据"
   ]
  },
  {
   "cell_type": "code",
   "execution_count": 2,
   "id": "7b48ce0c147f2fd1",
   "metadata": {
    "ExecuteTime": {
     "end_time": "2024-07-22T06:18:39.270289Z",
     "start_time": "2024-07-22T06:18:39.192506Z"
    }
   },
   "outputs": [
    {
     "data": {
      "text/html": [
       "<div>\n",
       "<style scoped>\n",
       "    .dataframe tbody tr th:only-of-type {\n",
       "        vertical-align: middle;\n",
       "    }\n",
       "\n",
       "    .dataframe tbody tr th {\n",
       "        vertical-align: top;\n",
       "    }\n",
       "\n",
       "    .dataframe thead th {\n",
       "        text-align: right;\n",
       "    }\n",
       "</style>\n",
       "<table border=\"1\" class=\"dataframe\">\n",
       "  <thead>\n",
       "    <tr style=\"text-align: right;\">\n",
       "      <th></th>\n",
       "      <th>sepal length (cm)</th>\n",
       "      <th>sepal width (cm)</th>\n",
       "      <th>petal length (cm)</th>\n",
       "      <th>petal width (cm)</th>\n",
       "      <th>target</th>\n",
       "    </tr>\n",
       "  </thead>\n",
       "  <tbody>\n",
       "    <tr>\n",
       "      <th>0</th>\n",
       "      <td>5.1</td>\n",
       "      <td>3.5</td>\n",
       "      <td>1.4</td>\n",
       "      <td>0.2</td>\n",
       "      <td>0</td>\n",
       "    </tr>\n",
       "    <tr>\n",
       "      <th>1</th>\n",
       "      <td>4.9</td>\n",
       "      <td>3.0</td>\n",
       "      <td>1.4</td>\n",
       "      <td>0.2</td>\n",
       "      <td>0</td>\n",
       "    </tr>\n",
       "    <tr>\n",
       "      <th>2</th>\n",
       "      <td>4.7</td>\n",
       "      <td>3.2</td>\n",
       "      <td>1.3</td>\n",
       "      <td>0.2</td>\n",
       "      <td>0</td>\n",
       "    </tr>\n",
       "    <tr>\n",
       "      <th>3</th>\n",
       "      <td>4.6</td>\n",
       "      <td>3.1</td>\n",
       "      <td>1.5</td>\n",
       "      <td>0.2</td>\n",
       "      <td>0</td>\n",
       "    </tr>\n",
       "    <tr>\n",
       "      <th>4</th>\n",
       "      <td>5.0</td>\n",
       "      <td>3.6</td>\n",
       "      <td>1.4</td>\n",
       "      <td>0.2</td>\n",
       "      <td>0</td>\n",
       "    </tr>\n",
       "    <tr>\n",
       "      <th>...</th>\n",
       "      <td>...</td>\n",
       "      <td>...</td>\n",
       "      <td>...</td>\n",
       "      <td>...</td>\n",
       "      <td>...</td>\n",
       "    </tr>\n",
       "    <tr>\n",
       "      <th>145</th>\n",
       "      <td>6.7</td>\n",
       "      <td>3.0</td>\n",
       "      <td>5.2</td>\n",
       "      <td>2.3</td>\n",
       "      <td>2</td>\n",
       "    </tr>\n",
       "    <tr>\n",
       "      <th>146</th>\n",
       "      <td>6.3</td>\n",
       "      <td>2.5</td>\n",
       "      <td>5.0</td>\n",
       "      <td>1.9</td>\n",
       "      <td>2</td>\n",
       "    </tr>\n",
       "    <tr>\n",
       "      <th>147</th>\n",
       "      <td>6.5</td>\n",
       "      <td>3.0</td>\n",
       "      <td>5.2</td>\n",
       "      <td>2.0</td>\n",
       "      <td>2</td>\n",
       "    </tr>\n",
       "    <tr>\n",
       "      <th>148</th>\n",
       "      <td>6.2</td>\n",
       "      <td>3.4</td>\n",
       "      <td>5.4</td>\n",
       "      <td>2.3</td>\n",
       "      <td>2</td>\n",
       "    </tr>\n",
       "    <tr>\n",
       "      <th>149</th>\n",
       "      <td>5.9</td>\n",
       "      <td>3.0</td>\n",
       "      <td>5.1</td>\n",
       "      <td>1.8</td>\n",
       "      <td>2</td>\n",
       "    </tr>\n",
       "  </tbody>\n",
       "</table>\n",
       "<p>150 rows × 5 columns</p>\n",
       "</div>"
      ],
      "text/plain": [
       "     sepal length (cm)  sepal width (cm)  petal length (cm)  petal width (cm)  \\\n",
       "0                  5.1               3.5                1.4               0.2   \n",
       "1                  4.9               3.0                1.4               0.2   \n",
       "2                  4.7               3.2                1.3               0.2   \n",
       "3                  4.6               3.1                1.5               0.2   \n",
       "4                  5.0               3.6                1.4               0.2   \n",
       "..                 ...               ...                ...               ...   \n",
       "145                6.7               3.0                5.2               2.3   \n",
       "146                6.3               2.5                5.0               1.9   \n",
       "147                6.5               3.0                5.2               2.0   \n",
       "148                6.2               3.4                5.4               2.3   \n",
       "149                5.9               3.0                5.1               1.8   \n",
       "\n",
       "     target  \n",
       "0         0  \n",
       "1         0  \n",
       "2         0  \n",
       "3         0  \n",
       "4         0  \n",
       "..      ...  \n",
       "145       2  \n",
       "146       2  \n",
       "147       2  \n",
       "148       2  \n",
       "149       2  \n",
       "\n",
       "[150 rows x 5 columns]"
      ]
     },
     "execution_count": 2,
     "metadata": {},
     "output_type": "execute_result"
    }
   ],
   "source": [
    "import pandas as pd\n",
    "from sklearn.datasets import load_iris\n",
    "\n",
    "iris = load_iris(as_frame=True)\n",
    "data = pd.concat([iris.data, iris.target], axis=1)\n",
    "data"
   ]
  },
  {
   "cell_type": "markdown",
   "id": "62f2ad19a58b8dc9",
   "metadata": {},
   "source": [
    "## 1.3 数据横向分割（每个参与方持有一定数量的完整数据）"
   ]
  },
  {
   "cell_type": "code",
   "execution_count": 3,
   "id": "f247da7a2c6a6c23",
   "metadata": {
    "ExecuteTime": {
     "end_time": "2024-07-22T06:18:43.363352Z",
     "start_time": "2024-07-22T06:18:43.349638Z"
    }
   },
   "outputs": [],
   "source": [
    "# Horizontal partitioning.\n",
    "h_alice, h_bob, h_carol = data.iloc[:40, :], data.iloc[40:100, :], data.iloc[100:, :]\n",
    "\n",
    "# Save to temporary files.\n",
    "import tempfile\n",
    "import os\n",
    "\n",
    "temp_dir = tempfile.mkdtemp()\n",
    "\n",
    "h_alice_path = os.path.join(temp_dir, 'h_alice.csv')\n",
    "h_bob_path = os.path.join(temp_dir, 'h_bob.csv')\n",
    "h_carol_path = os.path.join(temp_dir, 'h_carol.csv')\n",
    "h_alice.to_csv(h_alice_path, index=False)\n",
    "h_bob.to_csv(h_bob_path, index=False)\n",
    "h_carol.to_csv(h_carol_path, index=False)"
   ]
  },
  {
   "cell_type": "markdown",
   "id": "2d534d87c6e9c5fd",
   "metadata": {},
   "source": [
    "## 1.4 数据纵向分割（每个参与方持有一定数量的特征数据）"
   ]
  },
  {
   "cell_type": "code",
   "execution_count": 4,
   "id": "2935aa0fcb7e245a",
   "metadata": {
    "ExecuteTime": {
     "end_time": "2024-07-22T06:18:45.536637Z",
     "start_time": "2024-07-22T06:18:45.528825Z"
    }
   },
   "outputs": [],
   "source": [
    "# Vertical partitioning.\n",
    "v_alice, v_bob, v_carol = data.iloc[:, :2], data.iloc[:, 2:4], data.iloc[:, 4:]\n",
    "\n",
    "# Save to temporary files.\n",
    "v_alice_path = os.path.join(temp_dir, 'v_alice.csv')\n",
    "v_bob_path = os.path.join(temp_dir, 'v_bob.csv')\n",
    "v_carol_path = os.path.join(temp_dir, 'v_carol.csv')\n",
    "v_alice.to_csv(v_alice_path, index=False)\n",
    "v_bob.to_csv(v_bob_path, index=False)\n",
    "v_carol.to_csv(v_carol_path, index=False)"
   ]
  },
  {
   "cell_type": "markdown",
   "id": "874cb19bed7de0f4",
   "metadata": {},
   "source": [
    "## 1.5 读取横向分割的csv数据"
   ]
  },
  {
   "cell_type": "code",
   "execution_count": 5,
   "id": "7c05e2b7a5cc1629",
   "metadata": {
    "ExecuteTime": {
     "end_time": "2024-07-22T06:19:17.076915Z",
     "start_time": "2024-07-22T06:19:13.153797Z"
    }
   },
   "outputs": [
    {
     "name": "stderr",
     "output_type": "stream",
     "text": [
      "INFO:root:Create proxy actor <class 'secretflow.device.proxy.Actor_Masker'> with party alice.\n",
      "INFO:root:Create proxy actor <class 'secretflow.device.proxy.Actor_Masker'> with party bob.\n",
      "INFO:root:Create proxy actor <class 'secretflow.device.proxy.Actor_Masker'> with party carol.\n"
     ]
    },
    {
     "ename": "OutOfMemoryError",
     "evalue": "Task was killed due to the node running low on memory.\nMemory on the node (IP: 10.0.0.4, ID: 43a200dfce78102563f0c50cab8e75402270b9d4c6f17cc1b4d22415) where the task (task ID: ffffffffffffffff655dff22c4aa4ebca08f2ca301000000, name=Actor_Masker.__init__, pid=1983885, memory used=0.06GB) was running was 14.39GB / 15.11GB (0.952129), which exceeds the memory usage threshold of 0.95. Ray killed this worker (ID: 35b3d06e1bee83d9754a27323c7d3701de3aea71049389d19010cf6b) because it was the most recently scheduled task; to see more information about memory usage on this node, use `ray logs raylet.out -ip 10.0.0.4`. To see the logs of the worker, use `ray logs worker-35b3d06e1bee83d9754a27323c7d3701de3aea71049389d19010cf6b*out -ip 10.0.0.4. Top 10 memory users:\nPID\tMEM(GB)\tCOMMAND\n1946357\t0.85\t/home/beng003/.vscode-server/cli/servers/Stable-f1e16e1e6214d7c44d078b1f0607b2388f29d729/server/node...\n1946893\t0.68\t/home/beng003/.vscode-server/cli/servers/Stable-f1e16e1e6214d7c44d078b1f0607b2388f29d729/server/node...\n1952541\t0.25\t/home/beng003/anaconda/envs/sf/bin/python -m ipykernel_launcher --f=/home/beng003/.local/share/jupyt...\n1981763\t0.22\t/home/beng003/anaconda/envs/sf/bin/python -m ipykernel_launcher --f=/home/beng003/.local/share/jupyt...\n1962420\t0.20\t\n1962419\t0.20\tray::HEUEvaluator\n1774465\t0.19\t/home/beng003/anaconda/envs/sf/bin/python -m ipykernel_launcher -f /home/beng003/.local/share/jupyte...\n1958029\t0.14\tray::ActorPartitionAgent\n1957917\t0.14\tray::ActorPartitionAgent\n1958137\t0.14\tray::ActorPartitionAgent\nRefer to the documentation on how to address the out of memory issue: https://docs.ray.io/en/latest/ray-core/scheduling/ray-oom-prevention.html. Consider provisioning more memory on this node or reducing task parallelism by requesting more CPUs per task. Set max_restarts and max_task_retries to enable retry when the task crashes due to OOM. To adjust the kill threshold, set the environment variable `RAY_memory_usage_threshold` when starting Ray. To disable worker killing, set the environment variable `RAY_memory_monitor_refresh_ms` to zero.",
     "output_type": "error",
     "traceback": [
      "\u001b[0;31m---------------------------------------------------------------------------\u001b[0m",
      "\u001b[0;31mOutOfMemoryError\u001b[0m                          Traceback (most recent call last)",
      "Cell \u001b[0;32mIn[5], line 8\u001b[0m\n\u001b[1;32m      4\u001b[0m \u001b[38;5;28;01mfrom\u001b[39;00m \u001b[38;5;21;01msecretflow\u001b[39;00m\u001b[38;5;21;01m.\u001b[39;00m\u001b[38;5;21;01msecurity\u001b[39;00m\u001b[38;5;21;01m.\u001b[39;00m\u001b[38;5;21;01mcompare\u001b[39;00m \u001b[38;5;28;01mimport\u001b[39;00m SPUComparator\n\u001b[1;32m      6\u001b[0m \u001b[38;5;66;03m# The aggregator and comparator are respectively used to aggregate\u001b[39;00m\n\u001b[1;32m      7\u001b[0m \u001b[38;5;66;03m# or compare data in subsequent data analysis operations.\u001b[39;00m\n\u001b[0;32m----> 8\u001b[0m aggr \u001b[38;5;241m=\u001b[39m \u001b[43mSecureAggregator\u001b[49m\u001b[43m(\u001b[49m\u001b[43mdevice\u001b[49m\u001b[38;5;241;43m=\u001b[39;49m\u001b[43malice\u001b[49m\u001b[43m,\u001b[49m\u001b[43m \u001b[49m\u001b[43mparticipants\u001b[49m\u001b[38;5;241;43m=\u001b[39;49m\u001b[43m[\u001b[49m\u001b[43malice\u001b[49m\u001b[43m,\u001b[49m\u001b[43m \u001b[49m\u001b[43mbob\u001b[49m\u001b[43m,\u001b[49m\u001b[43m \u001b[49m\u001b[43mcarol\u001b[49m\u001b[43m]\u001b[49m\u001b[43m)\u001b[49m\n\u001b[1;32m     10\u001b[0m spu \u001b[38;5;241m=\u001b[39m sf\u001b[38;5;241m.\u001b[39mSPU(sf\u001b[38;5;241m.\u001b[39mutils\u001b[38;5;241m.\u001b[39mtesting\u001b[38;5;241m.\u001b[39mcluster_def(parties\u001b[38;5;241m=\u001b[39m[\u001b[38;5;124m'\u001b[39m\u001b[38;5;124malice\u001b[39m\u001b[38;5;124m'\u001b[39m, \u001b[38;5;124m'\u001b[39m\u001b[38;5;124mbob\u001b[39m\u001b[38;5;124m'\u001b[39m, \u001b[38;5;124m'\u001b[39m\u001b[38;5;124mcarol\u001b[39m\u001b[38;5;124m'\u001b[39m]))\n\u001b[1;32m     11\u001b[0m comp \u001b[38;5;241m=\u001b[39m SPUComparator(spu)\n",
      "File \u001b[0;32m~/anaconda/envs/sf/lib/python3.10/site-packages/secretflow/security/aggregation/secure_aggregator.py:183\u001b[0m, in \u001b[0;36mSecureAggregator.__init__\u001b[0;34m(self, device, participants, fxp_bits)\u001b[0m\n\u001b[1;32m    179\u001b[0m \u001b[38;5;28mself\u001b[39m\u001b[38;5;241m.\u001b[39m_fxp_bits \u001b[38;5;241m=\u001b[39m fxp_bits\n\u001b[1;32m    180\u001b[0m \u001b[38;5;28mself\u001b[39m\u001b[38;5;241m.\u001b[39m_maskers \u001b[38;5;241m=\u001b[39m {\n\u001b[1;32m    181\u001b[0m     pyu: _Masker(pyu\u001b[38;5;241m.\u001b[39mparty, \u001b[38;5;28mself\u001b[39m\u001b[38;5;241m.\u001b[39m_fxp_bits, device\u001b[38;5;241m=\u001b[39mpyu) \u001b[38;5;28;01mfor\u001b[39;00m pyu \u001b[38;5;129;01min\u001b[39;00m participants\n\u001b[1;32m    182\u001b[0m }\n\u001b[0;32m--> 183\u001b[0m pub_keys \u001b[38;5;241m=\u001b[39m \u001b[43mreveal\u001b[49m\u001b[43m(\u001b[49m\n\u001b[1;32m    184\u001b[0m \u001b[43m    \u001b[49m\u001b[43m{\u001b[49m\u001b[43mpyu\u001b[49m\u001b[38;5;241;43m.\u001b[39;49m\u001b[43mparty\u001b[49m\u001b[43m:\u001b[49m\u001b[43m \u001b[49m\u001b[43mmasker\u001b[49m\u001b[38;5;241;43m.\u001b[39;49m\u001b[43mpub_key\u001b[49m\u001b[43m(\u001b[49m\u001b[43m)\u001b[49m\u001b[43m \u001b[49m\u001b[38;5;28;43;01mfor\u001b[39;49;00m\u001b[43m \u001b[49m\u001b[43mpyu\u001b[49m\u001b[43m,\u001b[49m\u001b[43m \u001b[49m\u001b[43mmasker\u001b[49m\u001b[43m \u001b[49m\u001b[38;5;129;43;01min\u001b[39;49;00m\u001b[43m \u001b[49m\u001b[38;5;28;43mself\u001b[39;49m\u001b[38;5;241;43m.\u001b[39;49m\u001b[43m_maskers\u001b[49m\u001b[38;5;241;43m.\u001b[39;49m\u001b[43mitems\u001b[49m\u001b[43m(\u001b[49m\u001b[43m)\u001b[49m\u001b[43m}\u001b[49m\n\u001b[1;32m    185\u001b[0m \u001b[43m\u001b[49m\u001b[43m)\u001b[49m\n\u001b[1;32m    186\u001b[0m \u001b[38;5;28;01mfor\u001b[39;00m masker \u001b[38;5;129;01min\u001b[39;00m \u001b[38;5;28mself\u001b[39m\u001b[38;5;241m.\u001b[39m_maskers\u001b[38;5;241m.\u001b[39mvalues():\n\u001b[1;32m    187\u001b[0m     masker\u001b[38;5;241m.\u001b[39mgen_rng(pub_keys)\n",
      "File \u001b[0;32m~/anaconda/envs/sf/lib/python3.10/site-packages/secretflow/device/driver.py:162\u001b[0m, in \u001b[0;36mreveal\u001b[0;34m(func_or_object, heu_encoder)\u001b[0m\n\u001b[1;32m    159\u001b[0m         logging\u001b[38;5;241m.\u001b[39mdebug(\u001b[38;5;124mf\u001b[39m\u001b[38;5;124m'\u001b[39m\u001b[38;5;124mGetting teeu data from TEEU \u001b[39m\u001b[38;5;132;01m{\u001b[39;00mx\u001b[38;5;241m.\u001b[39mdevice\u001b[38;5;241m.\u001b[39mparty\u001b[38;5;132;01m}\u001b[39;00m\u001b[38;5;124m.\u001b[39m\u001b[38;5;124m'\u001b[39m)\n\u001b[1;32m    161\u001b[0m cur_idx \u001b[38;5;241m=\u001b[39m \u001b[38;5;241m0\u001b[39m\n\u001b[0;32m--> 162\u001b[0m all_object \u001b[38;5;241m=\u001b[39m \u001b[43msfd\u001b[49m\u001b[38;5;241;43m.\u001b[39;49m\u001b[43mget\u001b[49m\u001b[43m(\u001b[49m\u001b[43mall_object_refs\u001b[49m\u001b[43m)\u001b[49m\n\u001b[1;32m    164\u001b[0m new_flatten_val \u001b[38;5;241m=\u001b[39m []\n\u001b[1;32m    165\u001b[0m \u001b[38;5;28;01mfor\u001b[39;00m x \u001b[38;5;129;01min\u001b[39;00m flatten_val:\n",
      "File \u001b[0;32m~/anaconda/envs/sf/lib/python3.10/site-packages/secretflow/distributed/primitive.py:158\u001b[0m, in \u001b[0;36mget\u001b[0;34m(object_refs)\u001b[0m\n\u001b[1;32m    156\u001b[0m     \u001b[38;5;28;01mreturn\u001b[39;00m fed\u001b[38;5;241m.\u001b[39mget(object_refs)\n\u001b[1;32m    157\u001b[0m \u001b[38;5;28;01melif\u001b[39;00m get_distribution_mode() \u001b[38;5;241m==\u001b[39m DISTRIBUTION_MODE\u001b[38;5;241m.\u001b[39mSIMULATION:\n\u001b[0;32m--> 158\u001b[0m     \u001b[38;5;28;01mreturn\u001b[39;00m \u001b[43mray\u001b[49m\u001b[38;5;241;43m.\u001b[39;49m\u001b[43mget\u001b[49m\u001b[43m(\u001b[49m\u001b[43mobject_refs\u001b[49m\u001b[43m)\u001b[49m\n\u001b[1;32m    159\u001b[0m \u001b[38;5;28;01melif\u001b[39;00m get_distribution_mode() \u001b[38;5;241m==\u001b[39m DISTRIBUTION_MODE\u001b[38;5;241m.\u001b[39mDEBUG:\n\u001b[1;32m    160\u001b[0m     \u001b[38;5;28;01mreturn\u001b[39;00m object_refs\n",
      "File \u001b[0;32m~/anaconda/envs/sf/lib/python3.10/site-packages/ray/_private/auto_init_hook.py:22\u001b[0m, in \u001b[0;36mwrap_auto_init.<locals>.auto_init_wrapper\u001b[0;34m(*args, **kwargs)\u001b[0m\n\u001b[1;32m     19\u001b[0m \u001b[38;5;129m@wraps\u001b[39m(fn)\n\u001b[1;32m     20\u001b[0m \u001b[38;5;28;01mdef\u001b[39;00m \u001b[38;5;21mauto_init_wrapper\u001b[39m(\u001b[38;5;241m*\u001b[39margs, \u001b[38;5;241m*\u001b[39m\u001b[38;5;241m*\u001b[39mkwargs):\n\u001b[1;32m     21\u001b[0m     auto_init_ray()\n\u001b[0;32m---> 22\u001b[0m     \u001b[38;5;28;01mreturn\u001b[39;00m \u001b[43mfn\u001b[49m\u001b[43m(\u001b[49m\u001b[38;5;241;43m*\u001b[39;49m\u001b[43margs\u001b[49m\u001b[43m,\u001b[49m\u001b[43m \u001b[49m\u001b[38;5;241;43m*\u001b[39;49m\u001b[38;5;241;43m*\u001b[39;49m\u001b[43mkwargs\u001b[49m\u001b[43m)\u001b[49m\n",
      "File \u001b[0;32m~/anaconda/envs/sf/lib/python3.10/site-packages/ray/_private/client_mode_hook.py:103\u001b[0m, in \u001b[0;36mclient_mode_hook.<locals>.wrapper\u001b[0;34m(*args, **kwargs)\u001b[0m\n\u001b[1;32m    101\u001b[0m     \u001b[38;5;28;01mif\u001b[39;00m func\u001b[38;5;241m.\u001b[39m\u001b[38;5;18m__name__\u001b[39m \u001b[38;5;241m!=\u001b[39m \u001b[38;5;124m\"\u001b[39m\u001b[38;5;124minit\u001b[39m\u001b[38;5;124m\"\u001b[39m \u001b[38;5;129;01mor\u001b[39;00m is_client_mode_enabled_by_default:\n\u001b[1;32m    102\u001b[0m         \u001b[38;5;28;01mreturn\u001b[39;00m \u001b[38;5;28mgetattr\u001b[39m(ray, func\u001b[38;5;241m.\u001b[39m\u001b[38;5;18m__name__\u001b[39m)(\u001b[38;5;241m*\u001b[39margs, \u001b[38;5;241m*\u001b[39m\u001b[38;5;241m*\u001b[39mkwargs)\n\u001b[0;32m--> 103\u001b[0m \u001b[38;5;28;01mreturn\u001b[39;00m \u001b[43mfunc\u001b[49m\u001b[43m(\u001b[49m\u001b[38;5;241;43m*\u001b[39;49m\u001b[43margs\u001b[49m\u001b[43m,\u001b[49m\u001b[43m \u001b[49m\u001b[38;5;241;43m*\u001b[39;49m\u001b[38;5;241;43m*\u001b[39;49m\u001b[43mkwargs\u001b[49m\u001b[43m)\u001b[49m\n",
      "File \u001b[0;32m~/anaconda/envs/sf/lib/python3.10/site-packages/ray/_private/worker.py:2626\u001b[0m, in \u001b[0;36mget\u001b[0;34m(object_refs, timeout)\u001b[0m\n\u001b[1;32m   2624\u001b[0m             \u001b[38;5;28;01mraise\u001b[39;00m value\u001b[38;5;241m.\u001b[39mas_instanceof_cause()\n\u001b[1;32m   2625\u001b[0m         \u001b[38;5;28;01melse\u001b[39;00m:\n\u001b[0;32m-> 2626\u001b[0m             \u001b[38;5;28;01mraise\u001b[39;00m value\n\u001b[1;32m   2628\u001b[0m \u001b[38;5;28;01mif\u001b[39;00m is_individual_id:\n\u001b[1;32m   2629\u001b[0m     values \u001b[38;5;241m=\u001b[39m values[\u001b[38;5;241m0\u001b[39m]\n",
      "\u001b[0;31mOutOfMemoryError\u001b[0m: Task was killed due to the node running low on memory.\nMemory on the node (IP: 10.0.0.4, ID: 43a200dfce78102563f0c50cab8e75402270b9d4c6f17cc1b4d22415) where the task (task ID: ffffffffffffffff655dff22c4aa4ebca08f2ca301000000, name=Actor_Masker.__init__, pid=1983885, memory used=0.06GB) was running was 14.39GB / 15.11GB (0.952129), which exceeds the memory usage threshold of 0.95. Ray killed this worker (ID: 35b3d06e1bee83d9754a27323c7d3701de3aea71049389d19010cf6b) because it was the most recently scheduled task; to see more information about memory usage on this node, use `ray logs raylet.out -ip 10.0.0.4`. To see the logs of the worker, use `ray logs worker-35b3d06e1bee83d9754a27323c7d3701de3aea71049389d19010cf6b*out -ip 10.0.0.4. Top 10 memory users:\nPID\tMEM(GB)\tCOMMAND\n1946357\t0.85\t/home/beng003/.vscode-server/cli/servers/Stable-f1e16e1e6214d7c44d078b1f0607b2388f29d729/server/node...\n1946893\t0.68\t/home/beng003/.vscode-server/cli/servers/Stable-f1e16e1e6214d7c44d078b1f0607b2388f29d729/server/node...\n1952541\t0.25\t/home/beng003/anaconda/envs/sf/bin/python -m ipykernel_launcher --f=/home/beng003/.local/share/jupyt...\n1981763\t0.22\t/home/beng003/anaconda/envs/sf/bin/python -m ipykernel_launcher --f=/home/beng003/.local/share/jupyt...\n1962420\t0.20\t\n1962419\t0.20\tray::HEUEvaluator\n1774465\t0.19\t/home/beng003/anaconda/envs/sf/bin/python -m ipykernel_launcher -f /home/beng003/.local/share/jupyte...\n1958029\t0.14\tray::ActorPartitionAgent\n1957917\t0.14\tray::ActorPartitionAgent\n1958137\t0.14\tray::ActorPartitionAgent\nRefer to the documentation on how to address the out of memory issue: https://docs.ray.io/en/latest/ray-core/scheduling/ray-oom-prevention.html. Consider provisioning more memory on this node or reducing task parallelism by requesting more CPUs per task. Set max_restarts and max_task_retries to enable retry when the task crashes due to OOM. To adjust the kill threshold, set the environment variable `RAY_memory_usage_threshold` when starting Ray. To disable worker killing, set the environment variable `RAY_memory_monitor_refresh_ms` to zero."
     ]
    }
   ],
   "source": [
    "from secretflow.data.horizontal import read_csv as h_read_csv\n",
    "from secretflow.security.aggregation import SecureAggregator\n",
    "from secretflow.security import SecureAggregator\n",
    "from secretflow.security.compare import SPUComparator\n",
    "\n",
    "# The aggregator and comparator are respectively used to aggregate\n",
    "# or compare data in subsequent data analysis operations.\n",
    "aggr = SecureAggregator(device=alice, participants=[alice, bob, carol])\n",
    "\n",
    "spu = sf.SPU(sf.utils.testing.cluster_def(parties=['alice', 'bob', 'carol']))\n",
    "comp = SPUComparator(spu)\n",
    "hdf = h_read_csv(\n",
    "    {alice: h_alice_path, bob: h_bob_path, carol: h_carol_path},\n",
    "    aggregator=aggr,\n",
    "    comparator=comp,\n",
    ")"
   ]
  },
  {
   "cell_type": "markdown",
   "id": "e7edfbdbfdeacd61",
   "metadata": {},
   "source": [
    "## 1.6 读取纵向分割的csv数据"
   ]
  },
  {
   "cell_type": "code",
   "execution_count": 8,
   "id": "471d108e5c69bd9e",
   "metadata": {
    "ExecuteTime": {
     "end_time": "2024-07-19T11:39:27.765821Z",
     "start_time": "2024-07-19T11:39:24.981532Z"
    }
   },
   "outputs": [
    {
     "name": "stderr",
     "output_type": "stream",
     "text": [
      "INFO:root:Create proxy actor <class 'secretflow.device.proxy.ActorPartitionAgent'> with party alice.\n",
      "INFO:root:Create proxy actor <class 'secretflow.device.proxy.ActorPartitionAgent'> with party bob.\n",
      "INFO:root:Create proxy actor <class 'secretflow.device.proxy.ActorPartitionAgent'> with party carol.\n"
     ]
    }
   ],
   "source": [
    "from secretflow.data.vertical import read_csv as v_read_csv\n",
    "\n",
    "vdf = v_read_csv({alice: v_alice_path, bob: v_bob_path, carol: v_carol_path})"
   ]
  },
  {
   "cell_type": "code",
   "execution_count": 2,
   "id": "8e8a6e5a402ff409",
   "metadata": {},
   "outputs": [],
   "source": [
    "sf.shutdown()"
   ]
  }
 ],
 "metadata": {
  "kernelspec": {
   "display_name": "Python 3 (ipykernel)",
   "language": "python",
   "name": "python3"
  },
  "language_info": {
   "codemirror_mode": {
    "name": "ipython",
    "version": 3
   },
   "file_extension": ".py",
   "mimetype": "text/x-python",
   "name": "python",
   "nbconvert_exporter": "python",
   "pygments_lexer": "ipython3",
   "version": "3.10.14"
  }
 },
 "nbformat": 4,
 "nbformat_minor": 5
}
