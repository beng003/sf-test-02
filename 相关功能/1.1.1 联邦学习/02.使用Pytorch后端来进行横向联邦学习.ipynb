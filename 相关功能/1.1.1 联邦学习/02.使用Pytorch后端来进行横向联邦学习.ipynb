{
 "cells": [
  {
   "attachments": {},
   "cell_type": "markdown",
   "id": "9f6ceddd",
   "metadata": {},
   "source": [
    "# Federated Learning with Pytorch Backend"
   ]
  },
  {
   "attachments": {},
   "cell_type": "markdown",
   "id": "3c2fb4f8",
   "metadata": {},
   "source": [
    ">The following codes are demos only. It's **NOT for production** due to system security concerns, please **DO NOT** use it directly in production."
   ]
  },
  {
   "attachments": {},
   "cell_type": "markdown",
   "id": "13008203",
   "metadata": {},
   "source": [
    "In this tutorial, We will walk you through how to use pytorch backend on SecretFlow for federated learning.  \n",
    "\n",
    "+ We will use the image clasification task as example\n",
    "+ Use pytorch as backend\n",
    "+ We will show how to use multi fl strategy\n",
    "  \n",
    "If you want to learn more about federated learning, datasets, etc., you can move to [Federated Learning for Image Classification](Federate_Learning_for_Image_Classification.ipynb).\n",
    "  \n",
    "**Here we go!**"
   ]
  },
  {
   "cell_type": "code",
   "execution_count": 1,
   "id": "4c69265d",
   "metadata": {},
   "outputs": [],
   "source": [
    "%load_ext autoreload\n",
    "%autoreload 2"
   ]
  },
  {
   "cell_type": "code",
   "execution_count": 2,
   "id": "b00d46f2",
   "metadata": {},
   "outputs": [
    {
     "name": "stderr",
     "output_type": "stream",
     "text": [
      "/tmp/ipykernel_3013622/1420835607.py:10: DeprecationWarning: connections() is deprecated and will be removed; use net_connections() instead\n",
      "  connections = proc.connections(kind=\"inet\")\n"
     ]
    },
    {
     "name": "stdout",
     "output_type": "stream",
     "text": [
      "No process found using port 16307\n",
      "No process found using port 11666\n"
     ]
    },
    {
     "name": "stderr",
     "output_type": "stream",
     "text": [
      "2024-08-12 19:49:34,505\tINFO worker.py:1540 -- Connecting to existing Ray cluster at address: ecm-02:6379...\n",
      "2024-08-12 19:49:34,516\tINFO worker.py:1724 -- Connected to Ray cluster.\n",
      "2024-08-12 19:49:34.544 INFO api.py:233 [bob] -- [Anonymous_job] Started rayfed with {'CLUSTER_ADDRESSES': {'alice': 'ecm-01:16307', 'bob': '0.0.0.0:16307'}, 'CURRENT_PARTY_NAME': 'bob', 'TLS_CONFIG': {'ca_cert': '/home/beng003/certificate/alice_ca.crt', 'cert': '/home/beng003/certificate/bob_server_cert.crt', 'key': '/home/beng003/certificate/bob_server_key.key'}}\n"
     ]
    },
    {
     "name": "stdout",
     "output_type": "stream",
     "text": [
      "The version of SecretFlow: 1.7.0b0\n"
     ]
    },
    {
     "name": "stderr",
     "output_type": "stream",
     "text": [
      "2024-08-12 19:49:35.647 INFO barriers.py:284 [bob] -- [Anonymous_job] Succeeded to create receiver proxy actor.\n",
      "\u001b[36m(ReceiverProxyActor pid=3013745)\u001b[0m 2024-08-12 19:49:35.642 INFO grpc_proxy.py:359 [bob] -- [Anonymous_job] ReceiverProxy binding port 16307, options: (('grpc.enable_retries', 1), ('grpc.so_reuseport', 0), ('grpc.max_send_message_length', 524288000), ('grpc.max_receive_message_length', 524288000), ('grpc.service_config', '{\"methodConfig\": [{\"name\": [{\"service\": \"GrpcService\"}], \"retryPolicy\": {\"maxAttempts\": 5, \"initialBackoff\": \"5s\", \"maxBackoff\": \"30s\", \"backoffMultiplier\": 2, \"retryableStatusCodes\": [\"UNAVAILABLE\"]}}]}'))...\n",
      "\u001b[36m(ReceiverProxyActor pid=3013745)\u001b[0m 2024-08-12 19:49:35.646 INFO grpc_proxy.py:379 [bob] -- [Anonymous_job] Successfully start Grpc service with credentials.\n",
      "2024-08-12 19:49:36.596 INFO barriers.py:333 [bob] -- [Anonymous_job] SenderProxyActor has successfully created.\n",
      "2024-08-12 19:49:36.597 INFO barriers.py:520 [bob] -- [Anonymous_job] Try ping ['alice'] at 0 attemp, up to 3600 attemps.\n",
      "2024-08-12 19:49:39.600 INFO barriers.py:520 [bob] -- [Anonymous_job] Try ping ['alice'] at 1 attemp, up to 3600 attemps.\n"
     ]
    },
    {
     "name": "stdout",
     "output_type": "stream",
     "text": [
      "Alice and Bob are ready to go!\n"
     ]
    }
   ],
   "source": [
    "# process_utils.py\n",
    "import psutil\n",
    "import os\n",
    "import platform\n",
    "\n",
    "\n",
    "def find_process_by_port(port):\n",
    "    for proc in psutil.process_iter([\"pid\", \"name\"]):\n",
    "        try:\n",
    "            connections = proc.connections(kind=\"inet\")\n",
    "            for conn in connections:\n",
    "                if conn.laddr.port == port:\n",
    "                    return proc.pid\n",
    "        except (psutil.AccessDenied, psutil.NoSuchProcess):\n",
    "            continue\n",
    "    return None\n",
    "\n",
    "\n",
    "def kill_process(pid):\n",
    "    try:\n",
    "        if platform.system() == \"Windows\":\n",
    "            os.system(f\"taskkill /PID {pid} /F\")\n",
    "        else:\n",
    "            os.system(f\"kill -9 {pid}\")\n",
    "        print(f\"Process with PID {pid} has been terminated.\")\n",
    "    except Exception as e:\n",
    "        print(f\"Error terminating process with PID {pid}: {e}\")\n",
    "\n",
    "\n",
    "def kill_port_process(port: int):\n",
    "    pid = find_process_by_port(port)\n",
    "\n",
    "    if pid:\n",
    "        print(f\"Process found using port {port}: PID {pid}\")\n",
    "        kill_process(pid)\n",
    "    else:\n",
    "        print(f\"No process found using port {port}\")\n",
    "\n",
    "\n",
    "pyu_port = 16307\n",
    "spu_port = 11666\n",
    "\n",
    "kill_port_process(port=pyu_port)\n",
    "kill_port_process(port=spu_port)\n",
    "\n",
    "import secretflow as sf\n",
    "\n",
    "# Check the version of your SecretFlow\n",
    "print(\"The version of SecretFlow: {}\".format(sf.__version__))\n",
    "\n",
    "# In case you have a running secretflow runtime already.\n",
    "sf.shutdown()\n",
    "\n",
    "pyu_port = 16307\n",
    "spu_port = 11666\n",
    "\n",
    "\n",
    "cluster_config = {\n",
    "    \"parties\": {\n",
    "        \"alice\": {\n",
    "            # replace with alice's real address.\n",
    "            \"address\": \"ecm-01:\" + str(pyu_port),\n",
    "            \"listen_addr\": \"0.0.0.0:\" + str(pyu_port),\n",
    "        },\n",
    "        \"bob\": {\n",
    "            # replace with bob's real address.\n",
    "            \"address\": \"ecm-02:\" + str(pyu_port),\n",
    "            \"listen_addr\": \"0.0.0.0:\" + str(pyu_port),\n",
    "        },\n",
    "    },\n",
    "    \"self_party\": \"bob\",\n",
    "}\n",
    "\n",
    "tls_config = {\n",
    "    \"ca_cert\": \"/home/beng003/certificate/alice_ca.crt\",\n",
    "    \"cert\": \"/home/beng003/certificate/bob_server_cert.crt\",\n",
    "    \"key\": \"/home/beng003/certificate/bob_server_key.key\",\n",
    "}\n",
    "\n",
    "\n",
    "sf.init(address=\"ecm-02:6379\", cluster_config=cluster_config, tls_config=tls_config)\n",
    "alice = sf.PYU(\"alice\")\n",
    "bob = sf.PYU(\"bob\")\n",
    "print(\"Alice and Bob are ready to go!\")"
   ]
  },
  {
   "attachments": {},
   "cell_type": "markdown",
   "id": "f58fe11d",
   "metadata": {},
   "source": [
    "### Here, let us first introduce some concepts\n",
    "BaseModule: Similar to the `torch.nn.module`.    \n",
    "TorchModel: A wrap class include `loss_fn`,`optim_fn`,`model_def`,`metrics`.  \n",
    "metric_wrapper: Wrap metrics to workers.  \n",
    "optim_wrapper: Wrap optim_fn to workers.  \n",
    "FLModel: Federated model, use `backend` to specify which bachend will be use, use `strategy` to spcify which federated strategy will be use."
   ]
  },
  {
   "cell_type": "code",
   "execution_count": 3,
   "id": "de99cbf8",
   "metadata": {},
   "outputs": [],
   "source": [
    "from secretflow.ml.nn.core.torch import (\n",
    "    metric_wrapper,\n",
    "    optim_wrapper,\n",
    "    BaseModule,\n",
    "    TorchModel,\n",
    ")\n",
    "from secretflow.ml.nn import FLModel\n",
    "from torchmetrics import Accuracy, Precision\n",
    "from secretflow.security.aggregation import SecureAggregator\n",
    "from secretflow.utils.simulation.datasets import load_mnist\n",
    "from torch import nn, optim\n",
    "from torch.nn import functional as F"
   ]
  },
  {
   "attachments": {},
   "cell_type": "markdown",
   "id": "b9c3ea64",
   "metadata": {},
   "source": [
    "When we define the model, we only need to inherit `BaseModule` instead of `nn.Module`, and the others are consistent with pytorch."
   ]
  },
  {
   "cell_type": "code",
   "execution_count": 4,
   "id": "85d2028a",
   "metadata": {},
   "outputs": [],
   "source": [
    "class ConvNet(BaseModule):\n",
    "    \"\"\"Small ConvNet for MNIST.\"\"\"\n",
    "\n",
    "    def __init__(self):\n",
    "        super(ConvNet, self).__init__()\n",
    "        self.conv1 = nn.Conv2d(1, 3, kernel_size=3)\n",
    "        self.fc_in_dim = 192\n",
    "        self.fc = nn.Linear(self.fc_in_dim, 10)\n",
    "\n",
    "    def forward(self, x):\n",
    "        x = F.relu(F.max_pool2d(self.conv1(x), 3))\n",
    "        x = x.view(-1, self.fc_in_dim)\n",
    "        x = self.fc(x)\n",
    "        return F.softmax(x, dim=1)"
   ]
  },
  {
   "attachments": {},
   "cell_type": "markdown",
   "id": "e62ce093",
   "metadata": {},
   "source": [
    "We can continue to use the loss function and optimizer defined in pytorch, the only difference is that we need to wrap it with the wrapper provided in secretflow."
   ]
  },
  {
   "cell_type": "code",
   "execution_count": 5,
   "id": "645e3fbc",
   "metadata": {},
   "outputs": [],
   "source": [
    "(train_data, train_label), (test_data, test_label) = load_mnist(\n",
    "    parts={alice: 0.4, bob: 0.6},\n",
    "    normalized_x=True,\n",
    "    categorical_y=True,\n",
    "    is_torch=True,\n",
    ")\n",
    "\n",
    "train_data=train_data[0:10]\n",
    "train_label=train_label[0:10]\n",
    "\n",
    "\n",
    "loss_fn = nn.CrossEntropyLoss\n",
    "optim_fn = optim_wrapper(optim.Adam, lr=1e-2)\n",
    "model_def = TorchModel(\n",
    "    model_fn=ConvNet,\n",
    "    loss_fn=loss_fn,\n",
    "    optim_fn=optim_fn,\n",
    "    metrics=[\n",
    "        metric_wrapper(Accuracy, task=\"multiclass\", num_classes=10, average='micro'),\n",
    "        metric_wrapper(Precision, task=\"multiclass\", num_classes=10, average='micro'),\n",
    "    ],\n",
    ")"
   ]
  },
  {
   "cell_type": "code",
   "execution_count": 6,
   "id": "95fcf7b6",
   "metadata": {},
   "outputs": [
    {
     "name": "stderr",
     "output_type": "stream",
     "text": [
      "2024-08-12 19:50:38.143 INFO proxy.py:180 [bob] -- [Anonymous_job] Create proxy actor <class 'secretflow.security.aggregation.secure_aggregator._Masker'> with party alice.\n",
      "2024-08-12 19:50:38.144 INFO proxy.py:180 [bob] -- [Anonymous_job] Create proxy actor <class 'secretflow.security.aggregation.secure_aggregator._Masker'> with party bob.\n"
     ]
    },
    {
     "name": "stderr",
     "output_type": "stream",
     "text": [
      "2024-08-12 19:50:41.321 INFO proxy.py:180 [bob] -- [Anonymous_job] Create proxy actor <class 'secretflow.ml.nn.fl.backend.torch.strategy.fed_avg_w.PYUFedAvgW'> with party alice.\n",
      "2024-08-12 19:50:41.323 INFO proxy.py:180 [bob] -- [Anonymous_job] Create proxy actor <class 'secretflow.ml.nn.fl.backend.torch.strategy.fed_avg_w.PYUFedAvgW'> with party bob.\n"
     ]
    }
   ],
   "source": [
    "device_list = [alice, bob]\n",
    "server = alice\n",
    "aggregator = SecureAggregator(server, [alice, bob])\n",
    "\n",
    "# spcify params\n",
    "fl_model = FLModel(\n",
    "    server=server,\n",
    "    device_list=device_list,\n",
    "    model=model_def,\n",
    "    aggregator=aggregator,\n",
    "    strategy='fed_avg_w',  # fl strategy\n",
    "    backend=\"torch\",  # backend support ['tensorflow', 'torch']\n",
    ")"
   ]
  },
  {
   "cell_type": "code",
   "execution_count": 7,
   "id": "c595099d",
   "metadata": {},
   "outputs": [
    {
     "name": "stderr",
     "output_type": "stream",
     "text": [
      "2024-08-12 19:50:51.684 INFO fl_model.py:396 [bob] -- [Anonymous_job] FL Train Params: {'x': FedNdarray(partitions={PYURuntime(alice): <secretflow.device.device.pyu.PYUObject object at 0x7f2980bc4520>, PYURuntime(bob): <secretflow.device.device.pyu.PYUObject object at 0x7f2980bc71c0>}, partition_way=<PartitionWay.HORIZONTAL: 'horizontal'>), 'y': FedNdarray(partitions={PYURuntime(alice): <secretflow.device.device.pyu.PYUObject object at 0x7f2980bc4d00>, PYURuntime(bob): <secretflow.device.device.pyu.PYUObject object at 0x7f2980bc5390>}, partition_way=<PartitionWay.HORIZONTAL: 'horizontal'>), 'batch_size': 3, 'batch_sampling_rate': None, 'epochs': 3, 'verbose': 1, 'callbacks': None, 'validation_data': (FedNdarray(partitions={PYURuntime(alice): <secretflow.device.device.pyu.PYUObject object at 0x7f2980bc4880>, PYURuntime(bob): <secretflow.device.device.pyu.PYUObject object at 0x7f2980bc5450>}, partition_way=<PartitionWay.HORIZONTAL: 'horizontal'>), FedNdarray(partitions={PYURuntime(alice): <secretflow.device.device.pyu.PYUObject object at 0x7f2980bc5600>, PYURuntime(bob): <secretflow.device.device.pyu.PYUObject object at 0x7f2980bc4820>}, partition_way=<PartitionWay.HORIZONTAL: 'horizontal'>)), 'shuffle': False, 'class_weight': None, 'sample_weight': None, 'validation_freq': 1, 'aggregate_freq': 1, 'label_decoder': None, 'max_batch_size': 20000, 'prefetch_buffer_size': None, 'sampler_method': 'batch', 'random_seed': 30331, 'dp_spent_step_freq': None, 'audit_log_dir': None, 'dataset_builder': None, 'wait_steps': 100, 'self': <secretflow.ml.nn.fl.fl_model.FLModel object at 0x7f2b681a8e50>}\n",
      "Train Processing: :   0%|          | 0/4 [00:00<?, ?it/s]"
     ]
    },
    {
     "name": "stdout",
     "output_type": "stream",
     "text": [
      "Epoch 1/3\n"
     ]
    },
    {
     "name": "stderr",
     "output_type": "stream",
     "text": [
      "\u001b[36m(SenderProxyActor pid=3013795)\u001b[0m /home/beng003/anaconda/envs/sf_1.7/lib/python3.10/site-packages/torch/storage.py:414: FutureWarning: You are using `torch.load` with `weights_only=False` (the current default value), which uses the default pickle module implicitly. It is possible to construct malicious pickle data which will execute arbitrary code during unpickling (See https://github.com/pytorch/pytorch/blob/main/SECURITY.md#untrusted-models for more details). In a future release, the default value for `weights_only` will be flipped to `True`. This limits the functions that could be executed during unpickling. Arbitrary objects will no longer be allowed to be loaded via this mode unless they are explicitly allowlisted by the user via `torch.serialization.add_safe_globals`. We recommend you start setting `weights_only=True` for any use case where you don't have full control of the loaded file. Please open an issue on GitHub for any issues related to this experimental feature.\n",
      "\u001b[36m(SenderProxyActor pid=3013795)\u001b[0m   return torch.load(io.BytesIO(b))\n"
     ]
    },
    {
     "name": "stderr",
     "output_type": "stream",
     "text": [
      "/home/beng003/anaconda/envs/sf_1.7/lib/python3.10/site-packages/torch/storage.py:414: FutureWarning: You are using `torch.load` with `weights_only=False` (the current default value), which uses the default pickle module implicitly. It is possible to construct malicious pickle data which will execute arbitrary code during unpickling (See https://github.com/pytorch/pytorch/blob/main/SECURITY.md#untrusted-models for more details). In a future release, the default value for `weights_only` will be flipped to `True`. This limits the functions that could be executed during unpickling. Arbitrary objects will no longer be allowed to be loaded via this mode unless they are explicitly allowlisted by the user via `torch.serialization.add_safe_globals`. We recommend you start setting `weights_only=True` for any use case where you don't have full control of the loaded file. Please open an issue on GitHub for any issues related to this experimental feature.\n",
      "  return torch.load(io.BytesIO(b))\n",
      "/home/beng003/anaconda/envs/sf_1.7/lib/python3.10/site-packages/secretflow/ml/nn/metrics.py:59: UserWarning: Please pay attention to local metrics, global only do naive aggregation.\n",
      "  warnings.warn(\n",
      "2024-08-12 19:51:03.886344: E external/local_xla/xla/stream_executor/cuda/cuda_fft.cc:485] Unable to register cuFFT factory: Attempting to register factory for plugin cuFFT when one has already been registered\n",
      "2024-08-12 19:51:04.789480: E external/local_xla/xla/stream_executor/cuda/cuda_dnn.cc:8454] Unable to register cuDNN factory: Attempting to register factory for plugin cuDNN when one has already been registered\n",
      "2024-08-12 19:51:04.958413: E external/local_xla/xla/stream_executor/cuda/cuda_blas.cc:1452] Unable to register cuBLAS factory: Attempting to register factory for plugin cuBLAS when one has already been registered\n",
      "2024-08-12 19:51:10.731968: W tensorflow/compiler/tf2tensorrt/utils/py_utils.cc:38] TF-TRT Warning: Could not find TensorRT\n",
      "Train Processing: :  75%|███████▌  | 3/4 [00:22<00:07,  7.53s/it, {'multiclassaccuracy': 0.05, 'multiclassprecision': 0.05, 'val_multiclassaccuracy': 0.08979085, 'val_multiclassprecision': 0.08979085}]\n",
      "Train Processing: :   0%|          | 0/4 [00:00<?, ?it/s]"
     ]
    },
    {
     "name": "stdout",
     "output_type": "stream",
     "text": [
      "Epoch 2/3\n"
     ]
    },
    {
     "name": "stdout",
     "output_type": "stream",
     "text": [
      "\u001b[36m(PYUFedAvgW pid=3014205)\u001b[0m {'train-loss': 2.3012263774871826, 'train_multiclassaccuracy': tensor(0.1000), 'train_multiclassprecision': tensor(0.1000), 'val_eval_multiclassaccuracy': tensor(0.0866), 'val_eval_multiclassprecision': tensor(0.0866)}\n",
      "\u001b[36m(PYUFedAvgW pid=3014205)\u001b[0m {'train-loss': 2.2216193675994873, 'train_multiclassaccuracy': tensor(0.2000), 'train_multiclassprecision': tensor(0.2000), 'val_eval_multiclassaccuracy': tensor(0.0866), 'val_eval_multiclassprecision': tensor(0.0866)}\n",
      "\u001b[36m(PYUFedAvgW pid=3014205)\u001b[0m {'train-loss': 2.063208818435669, 'train_multiclassaccuracy': tensor(0.3000), 'train_multiclassprecision': tensor(0.3000), 'val_eval_multiclassaccuracy': tensor(0.1808), 'val_eval_multiclassprecision': tensor(0.1808)}\n"
     ]
    },
    {
     "name": "stderr",
     "output_type": "stream",
     "text": [
      "Train Processing: :  75%|███████▌  | 3/4 [00:01<00:00,  1.54it/s, {'multiclassaccuracy': 0.15, 'multiclassprecision': 0.15, 'val_multiclassaccuracy': 0.08979085, 'val_multiclassprecision': 0.08979085}]\n",
      "Train Processing: :   0%|          | 0/4 [00:00<?, ?it/s]"
     ]
    },
    {
     "name": "stdout",
     "output_type": "stream",
     "text": [
      "Epoch 3/3\n"
     ]
    },
    {
     "name": "stderr",
     "output_type": "stream",
     "text": [
      "Train Processing: :  75%|███████▌  | 3/4 [00:01<00:00,  1.83it/s, {'multiclassaccuracy': 0.2, 'multiclassprecision': 0.2, 'val_multiclassaccuracy': 0.18017355, 'val_multiclassprecision': 0.18017355}]\n"
     ]
    }
   ],
   "source": [
    "history = fl_model.fit(\n",
    "    train_data,\n",
    "    train_label,\n",
    "    validation_data=(test_data, test_label),\n",
    "    epochs=3,\n",
    "    batch_size=3,\n",
    "    aggregate_freq=1,\n",
    ")"
   ]
  },
  {
   "cell_type": "code",
   "execution_count": 8,
   "id": "55c13406",
   "metadata": {},
   "outputs": [
    {
     "data": {
      "image/png": "[encoded data removed]",
      "text/plain": [
       "<Figure size 640x480 with 1 Axes>"
      ]
     },
     "metadata": {},
     "output_type": "display_data"
    }
   ],
   "source": [
    "from matplotlib import pyplot as plt\n",
    "\n",
    "# Draw accuracy values for training & validation\n",
    "plt.plot(history[\"global_history\"]['multiclassaccuracy'])\n",
    "plt.plot(history[\"global_history\"]['val_multiclassaccuracy'])\n",
    "plt.title('FLModel accuracy')\n",
    "plt.ylabel('Accuracy')\n",
    "plt.xlabel('Epoch')\n",
    "plt.legend(['Train', 'Valid'], loc='upper left')\n",
    "plt.show()"
   ]
  }
 ],
 "metadata": {
  "kernelspec": {
   "display_name": "Python 3 (ipykernel)",
   "language": "python",
   "name": "python3"
  },
  "language_info": {
   "codemirror_mode": {
    "name": "ipython",
    "version": 3
   },
   "file_extension": ".py",
   "mimetype": "text/x-python",
   "name": "python",
   "nbconvert_exporter": "python",
   "pygments_lexer": "ipython3",
   "version": "3.10.14"
  },
  "vscode": {
   "interpreter": {
    "hash": "ae1fdd5fd034b7d694352220485921694ff89198520409089b4646721fce11ca"
   }
  }
 },
 "nbformat": 4,
 "nbformat_minor": 5
}
