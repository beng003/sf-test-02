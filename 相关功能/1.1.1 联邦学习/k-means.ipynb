{
 "cells": [
  {
   "cell_type": "code",
   "execution_count": null,
   "metadata": {},
   "outputs": [],
   "source": [
    "import secretflow as sf\n",
    "from secretflow.utils.simulation.datasets import load_mnist\n",
    "from secretflow.ml.nn.core.kmeans import KMeans\n",
    "import numpy as np\n",
    "\n",
    "# 初始化 SecretFlow\n",
    "sf.init(\n",
    "    address=\"localhost:6379\",\n",
    "    cluster_config={\n",
    "        \"parties\": {\n",
    "            \"alice\": {\"address\": \"localhost:5000\"},\n",
    "            \"bob\": {\"address\": \"localhost:5001\"},\n",
    "        }\n",
    "    },\n",
    ")\n",
    "\n",
    "# 加载数据（这里以 MNIST 为例）\n",
    "(train_data, train_label), (test_data, test_label) = load_mnist(\n",
    "    parts={sf.PARTY[\"alice\"]: 0.5, sf.PARTY[\"bob\"]: 0.5},\n",
    "    normalized_x=True,\n",
    "    is_torch=True,\n",
    ")\n",
    "\n",
    "# 将数据转换为 numpy 数组（假设数据是 torch.Tensor）\n",
    "train_data_alice = train_data[0].numpy()\n",
    "train_data_bob = train_data[1].numpy()\n",
    "\n",
    "# 定义 K-means 聚类模型\n",
    "n_clusters = 10  # 你可以根据需求调整聚类数量\n",
    "kmeans = KMeans(n_clusters=n_clusters)\n",
    "\n",
    "# 训练 K-means 模型\n",
    "kmeans.fit([train_data_alice, train_data_bob])\n",
    "\n",
    "# 获取聚类中心和标签\n",
    "centroids = kmeans.centroids\n",
    "labels = kmeans.labels\n",
    "\n",
    "print(\"聚类中心:\\n\", centroids)\n",
    "print(\"每个数据点的聚类标签:\\n\", labels)"
   ]
  }
 ],
 "metadata": {
  "kernelspec": {
   "display_name": "sf_1.7",
   "language": "python",
   "name": "python3"
  },
  "language_info": {
   "name": "python",
   "version": "3.10.14"
  }
 },
 "nbformat": 4,
 "nbformat_minor": 2
}
