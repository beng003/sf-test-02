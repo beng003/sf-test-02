{
 "cells": [
  {
   "cell_type": "markdown",
   "id": "5dbabc07",
   "metadata": {},
   "source": [
    "# 垂直联邦XGB (SecureBoost)\n",
    "\n",
    "> 以下代码仅供演示。出于系统安全考虑，请 **不要** 直接用于生产。\n",
    "\n",
    "欢迎来到SecureBoost教程！\n",
    "\n",
    "在本教程中，我们将探索如何使用隐语的树模型能力，使用SecureBoost算法执行垂直联邦学习。SecureBoost是一种经典算法，它优先保护垂直分区数据集中的标签信息。它使用同态加密技术实现标签加密和密文中的关键树增强步骤执行。其结果是由PYU对象组成的分布式提升树模型，每个参与方仅了解自己的拆分点。该实现利用HEU和PYU设备实现高性能。\n",
    "\n",
    "让我们深入了解细节，学习如何使用隐语进行SecureBoost！\n",
    "\n",
    "## 设备设置\n",
    "\n",
    "与其他算法类似，设置安全集群和指定设备对于SecureBoost的实现是必要的。\n",
    "\n",
    "特别是，必须指定一个HEU设备以确保SecureBoost中标签的加密和敏感信息的保护。"
   ]
  },
  {
   "cell_type": "code",
   "execution_count": 1,
   "id": "991ffbd0",
   "metadata": {},
   "outputs": [
    {
     "name": "stdout",
     "output_type": "stream",
     "text": [
      "The version of SecretFlow: 1.7.0b0\n"
     ]
    }
   ],
   "source": [
    "import spu\n",
    "from sklearn.metrics import roc_auc_score\n",
    "\n",
    "import secretflow as sf\n",
    "from secretflow.data import FedNdarray, PartitionWay\n",
    "from secretflow.device.driver import reveal, wait\n",
    "from secretflow.ml.boost.sgb_v import (\n",
    "    Sgb,\n",
    "    get_classic_XGB_params,\n",
    "    get_classic_lightGBM_params,\n",
    ")\n",
    "from secretflow.ml.boost.sgb_v.model import load_model\n",
    "import pprint\n",
    "\n",
    "pp = pprint.PrettyPrinter(depth=4)\n",
    "\n",
    "# Check the version of your SecretFlow\n",
    "print('The version of SecretFlow: {}'.format(sf.__version__))"
   ]
  },
  {
   "cell_type": "code",
   "execution_count": 2,
   "id": "9705a245",
   "metadata": {},
   "outputs": [
    {
     "name": "stderr",
     "output_type": "stream",
     "text": [
      "2024-08-02 19:51:53,663\tINFO worker.py:1540 -- Connecting to existing Ray cluster at address: ecm-02:6379...\n",
      "2024-08-02 19:51:53,671\tINFO worker.py:1724 -- Connected to Ray cluster.\n",
      "2024-08-02 19:51:53.699 INFO api.py:233 [bob] -- [Anonymous_job] Started rayfed with {'CLUSTER_ADDRESSES': {'alice': 'ecm-01:16307', 'bob': '0.0.0.0:16307'}, 'CURRENT_PARTY_NAME': 'bob', 'TLS_CONFIG': {'ca_cert': '/home/beng003/certificate/alice_ca.crt', 'cert': '/home/beng003/certificate/bob_server_cert.crt', 'key': '/home/beng003/certificate/bob_server_key.key'}}\n",
      "2024-08-02 19:51:54.740 INFO barriers.py:284 [bob] -- [Anonymous_job] Succeeded to create receiver proxy actor.\n",
      "\u001b[36m(ReceiverProxyActor pid=1660988)\u001b[0m 2024-08-02 19:51:54.735 INFO grpc_proxy.py:359 [bob] -- [Anonymous_job] ReceiverProxy binding port 16307, options: (('grpc.enable_retries', 1), ('grpc.so_reuseport', 0), ('grpc.max_send_message_length', 524288000), ('grpc.max_receive_message_length', 524288000), ('grpc.service_config', '{\"methodConfig\": [{\"name\": [{\"service\": \"GrpcService\"}], \"retryPolicy\": {\"maxAttempts\": 5, \"initialBackoff\": \"5s\", \"maxBackoff\": \"30s\", \"backoffMultiplier\": 2, \"retryableStatusCodes\": [\"UNAVAILABLE\"]}}]}'))...\n",
      "\u001b[36m(ReceiverProxyActor pid=1660988)\u001b[0m 2024-08-02 19:51:54.739 INFO grpc_proxy.py:379 [bob] -- [Anonymous_job] Successfully start Grpc service with credentials.\n",
      "2024-08-02 19:51:55.674 INFO barriers.py:333 [bob] -- [Anonymous_job] SenderProxyActor has successfully created.\n",
      "2024-08-02 19:51:55.675 INFO barriers.py:520 [bob] -- [Anonymous_job] Try ping ['alice'] at 0 attemp, up to 3600 attemps.\n",
      "2024-08-02 19:51:58.679 INFO barriers.py:520 [bob] -- [Anonymous_job] Try ping ['alice'] at 1 attemp, up to 3600 attemps.\n"
     ]
    },
    {
     "name": "stdout",
     "output_type": "stream",
     "text": [
      "Alice and Bob are ready to go!\n"
     ]
    }
   ],
   "source": [
    "sf.shutdown()\n",
    "\n",
    "pyu_port = 16307\n",
    "spu_port = 11666\n",
    "\n",
    "\n",
    "cluster_config = {\n",
    "    \"parties\": {\n",
    "        \"alice\": {\n",
    "            # replace with alice's real address.\n",
    "            \"address\": \"ecm-01:\" + str(pyu_port),\n",
    "            \"listen_addr\": \"0.0.0.0:\" + str(pyu_port),\n",
    "        },\n",
    "        \"bob\": {\n",
    "            # replace with bob's real address.\n",
    "            \"address\": \"ecm-02:\" + str(pyu_port),\n",
    "            \"listen_addr\": \"0.0.0.0:\" + str(pyu_port),\n",
    "        },\n",
    "    },\n",
    "    \"self_party\": \"bob\",\n",
    "}\n",
    "\n",
    "tls_config = {\n",
    "    \"ca_cert\": \"/home/beng003/certificate/alice_ca.crt\",\n",
    "    \"cert\": \"/home/beng003/certificate/bob_server_cert.crt\",\n",
    "    \"key\": \"/home/beng003/certificate/bob_server_key.key\",\n",
    "}\n",
    "\n",
    "\n",
    "sf.init(address=\"ecm-02:6379\", cluster_config=cluster_config, tls_config=tls_config)\n",
    "\n",
    "\n",
    "# HEU settings\n",
    "heu_config = {\n",
    "    'sk_keeper': {'party': 'alice'},\n",
    "    'evaluators': [{'party': 'bob'}],\n",
    "    'mode': 'PHEU',\n",
    "    'he_parameters': {\n",
    "        # ou is a fast encryption schema that is as secure as paillier.\n",
    "        'schema': 'ou',\n",
    "        'key_pair': {\n",
    "            'generate': {\n",
    "                # bit size should be 2048 to provide sufficient security.\n",
    "                'bit_size': 2048,\n",
    "            },\n",
    "        },\n",
    "    },\n",
    "    'encoding': {\n",
    "        'cleartext_type': 'DT_I32',\n",
    "        'encoder': \"IntegerEncoder\",\n",
    "        'encoder_args': {\"scale\": 1},\n",
    "    },\n",
    "}"
   ]
  },
  {
   "cell_type": "code",
   "execution_count": 3,
   "id": "377039e0",
   "metadata": {},
   "outputs": [],
   "source": [
    "alice = sf.PYU('alice')\n",
    "bob = sf.PYU('bob')\n",
    "heu = sf.HEU(heu_config, spu.spu_pb2.FM128)\n",
    "print(\"Alice and Bob are ready to go!\")"
   ]
  },
  {
   "attachments": {},
   "cell_type": "markdown",
   "id": "67d6f007",
   "metadata": {},
   "source": [
    "## 数据准备\n",
    "\n",
    "我们将准备一个垂直数据集。"
   ]
  },
  {
   "cell_type": "code",
   "execution_count": 4,
   "id": "54ac3a76",
   "metadata": {},
   "outputs": [],
   "source": [
    "from sklearn.datasets import load_breast_cancer\n",
    "\n",
    "ds = load_breast_cancer()\n",
    "x, y = ds['data'], ds['target']\n",
    "\n",
    "v_data = FedNdarray(\n",
    "    {\n",
    "        alice: (alice(lambda: x[:, :15])()),\n",
    "        bob: (bob(lambda: x[:, 15:])()),\n",
    "    },\n",
    "    partition_way=PartitionWay.VERTICAL,\n",
    ")\n",
    "label_data = FedNdarray(\n",
    "    {alice: (alice(lambda: y)())},\n",
    "    partition_way=PartitionWay.VERTICAL,\n",
    ")"
   ]
  },
  {
   "attachments": {},
   "cell_type": "markdown",
   "id": "baffdd20",
   "metadata": {},
   "source": [
    "### 参数准备"
   ]
  },
  {
   "cell_type": "code",
   "execution_count": 5,
   "id": "2d51d646",
   "metadata": {},
   "outputs": [
    {
     "name": "stdout",
     "output_type": "stream",
     "text": [
      "{'audit_paths': {},\n",
      " 'base_score': 0.0,\n",
      " 'batch_encoding_enabled': True,\n",
      " 'bottom_rate': 0.5,\n",
      " 'colsample_by_tree': 1.0,\n",
      " 'enable_early_stop': False,\n",
      " 'enable_goss': False,\n",
      " 'enable_monitor': False,\n",
      " 'enable_packbits': False,\n",
      " 'enable_quantization': False,\n",
      " 'eval_metric': 'roc_auc',\n",
      " 'first_tree_with_label_holder_feature': True,\n",
      " 'fixed_point_parameter': 20,\n",
      " 'gamma': 0.0,\n",
      " 'learning_rate': 0.3,\n",
      " 'max_depth': 3,\n",
      " 'max_leaf': 15,\n",
      " 'num_boost_round': 3,\n",
      " 'objective': 'logistic',\n",
      " 'quantization_scale': 10000.0,\n",
      " 'reg_lambda': 1.0,\n",
      " 'rowsample_by_tree': 1.0,\n",
      " 'save_best_model': False,\n",
      " 'seed': 1212,\n",
      " 'sketch_eps': 0.1,\n",
      " 'stopping_rounds': 1,\n",
      " 'stopping_tolerance': 0.0,\n",
      " 'top_rate': 0.3,\n",
      " 'tree_growing_method': 'level',\n",
      " 'validation_fraction': 0.1}\n"
     ]
    }
   ],
   "source": [
    "params = get_classic_XGB_params()\n",
    "params['num_boost_round'] = 3\n",
    "params['max_depth'] = 3\n",
    "pp.pprint(params)"
   ]
  },
  {
   "attachments": {},
   "cell_type": "markdown",
   "id": "57bf92f0",
   "metadata": {},
   "source": [
    "## 运行 Sgb\n",
    "\n",
    "我们使用 heu 设备创建一个 Sgb 对象，并拟合数据。"
   ]
  },
  {
   "cell_type": "code",
   "execution_count": 6,
   "id": "4bde4412",
   "metadata": {},
   "outputs": [
    {
     "name": "stderr",
     "output_type": "stream",
     "text": [
      "2024-08-02 19:54:12.569 INFO proxy.py:180 [bob] -- [Anonymous_job] Create proxy actor <class 'secretflow.ml.boost.sgb_v.factory.sgb_actor.SGBActor'> with party alice.\n",
      "2024-08-02 19:54:12.570 INFO proxy.py:180 [bob] -- [Anonymous_job] Create proxy actor <class 'secretflow.ml.boost.sgb_v.factory.sgb_actor.SGBActor'> with party bob.\n",
      "2024-08-02 19:54:12.605 INFO global_ordermap_booster.py:214 [bob] -- [Anonymous_job] training the first tree with label holder only.\n",
      "2024-08-02 19:54:12.606 INFO level_wise_tree_trainer.py:113 [bob] -- [Anonymous_job] train tree context set up.\n",
      "2024-08-02 19:54:12.611 INFO level_wise_tree_trainer.py:202 [bob] -- [Anonymous_job] begin train tree.\n",
      "2024-08-02 19:54:24.094 INFO global_ordermap_booster.py:237 [bob] -- [Anonymous_job] epoch 0 time 11.48967363697011s\n",
      "2024-08-02 19:54:24.095 WARNING callback.py:455 [bob] -- [Anonymous_job] no effective dump_function provided.\n",
      "2024-08-02 19:54:24.096 INFO level_wise_tree_trainer.py:113 [bob] -- [Anonymous_job] train tree context set up.\n",
      "2024-08-02 19:54:24.102 INFO level_wise_tree_trainer.py:202 [bob] -- [Anonymous_job] begin train tree.\n",
      "2024-08-02 19:54:24.477 INFO global_ordermap_booster.py:237 [bob] -- [Anonymous_job] epoch 1 time 0.3808934659464285s\n",
      "2024-08-02 19:54:24.478 WARNING callback.py:455 [bob] -- [Anonymous_job] no effective dump_function provided.\n",
      "2024-08-02 19:54:24.478 INFO level_wise_tree_trainer.py:113 [bob] -- [Anonymous_job] train tree context set up.\n",
      "2024-08-02 19:54:24.482 INFO level_wise_tree_trainer.py:202 [bob] -- [Anonymous_job] begin train tree.\n",
      "2024-08-02 19:54:24.805 INFO global_ordermap_booster.py:237 [bob] -- [Anonymous_job] epoch 2 time 0.32624952599871904s\n",
      "2024-08-02 19:54:24.805 WARNING callback.py:455 [bob] -- [Anonymous_job] no effective dump_function provided.\n"
     ]
    },
    {
     "name": "stdout",
     "output_type": "stream",
     "text": [
      "\u001b[36m(ReceiverProxyActor pid=1660988)\u001b[0m [2024-08-02 19:54:24.149] [info] [thread_pool.cc:30] Create a fixed thread pool with size 7\n",
      "\u001b[36m(_run pid=1661381)\u001b[0m [2024-08-02 19:54:32.772] [info] [thread_pool.cc:30] Create a fixed thread pool with size 7\n"
     ]
    }
   ],
   "source": [
    "sgb = Sgb(heu)\n",
    "model = sgb.train(params, v_data, label_data)"
   ]
  },
  {
   "attachments": {},
   "cell_type": "markdown",
   "id": "56f1ee3c",
   "metadata": {},
   "source": [
    "## 模型评估\n",
    "\n",
    "现在我们可以将模型输出与真实标签进行比较。"
   ]
  },
  {
   "cell_type": "code",
   "execution_count": 7,
   "id": "13c24066",
   "metadata": {},
   "outputs": [
    {
     "name": "stdout",
     "output_type": "stream",
     "text": [
      "auc: 0.9952235611225622\n"
     ]
    }
   ],
   "source": [
    "yhat = model.predict(v_data)\n",
    "yhat = reveal(yhat)\n",
    "print(f\"auc: {roc_auc_score(y, yhat)}\")"
   ]
  },
  {
   "attachments": {},
   "cell_type": "markdown",
   "id": "ab3fa323",
   "metadata": {},
   "source": [
    "## 模型保存和加载\n",
    "\n",
    "现在我们可以保存模型, 并在以后使用它。请注意，模型是分布式的，我们将保存到多个参与方，并从多个参与方中加载。\n",
    "\n",
    "让我们先定义路径。"
   ]
  },
  {
   "cell_type": "code",
   "execution_count": 8,
   "id": "544c1c73",
   "metadata": {},
   "outputs": [],
   "source": [
    "# each participant party needs a location to store\n",
    "saving_path_dict = {\n",
    "    # in production we may use remote oss, for example.\n",
    "    device: \"./\" + device.party\n",
    "    for device in v_data.partitions.keys()\n",
    "}"
   ]
  },
  {
   "attachments": {},
   "cell_type": "markdown",
   "id": "30ff1297",
   "metadata": {},
   "source": [
    "然后让我们保存模型。"
   ]
  },
  {
   "cell_type": "code",
   "execution_count": 9,
   "id": "2c6c5d75",
   "metadata": {},
   "outputs": [],
   "source": [
    "r = model.save_model(saving_path_dict)\n",
    "wait(r)"
   ]
  },
  {
   "attachments": {},
   "cell_type": "markdown",
   "id": "9559e3da",
   "metadata": {},
   "source": [
    "现在您可以在之前指定的位置检查文件。\n",
    "\n",
    "最后，让我们加载模型并进行一次检查。"
   ]
  },
  {
   "cell_type": "code",
   "execution_count": 10,
   "id": "1210d5c7",
   "metadata": {},
   "outputs": [],
   "source": [
    "# alice is our label holder\n",
    "model_loaded = load_model(saving_path_dict, alice)\n",
    "fed_yhat_loaded = model_loaded.predict(v_data, alice)\n",
    "yhat_loaded = reveal(fed_yhat_loaded.partitions[alice])\n",
    "\n",
    "assert (\n",
    "    yhat == yhat_loaded\n",
    ").all(), \"loaded model predictions should match original, yhat {} vs yhat_loaded {}\".format(\n",
    "    yhat, yhat_loaded\n",
    ")"
   ]
  },
  {
   "attachments": {},
   "cell_type": "markdown",
   "id": "f032db30",
   "metadata": {},
   "source": [
    "### 更多训练设置\n",
    "\n",
    "如果我们想用lightGBM的方式训练树模型怎么办？我们可以设置按叶节点训练并开启GOSS功能。"
   ]
  },
  {
   "cell_type": "code",
   "execution_count": 11,
   "metadata": {},
   "outputs": [
    {
     "name": "stdout",
     "output_type": "stream",
     "text": [
      "{'audit_paths': {},\n",
      " 'base_score': 0.0,\n",
      " 'batch_encoding_enabled': True,\n",
      " 'bottom_rate': 0.5,\n",
      " 'colsample_by_tree': 1.0,\n",
      " 'enable_early_stop': False,\n",
      " 'enable_goss': True,\n",
      " 'enable_monitor': False,\n",
      " 'enable_packbits': False,\n",
      " 'enable_quantization': False,\n",
      " 'eval_metric': 'roc_auc',\n",
      " 'first_tree_with_label_holder_feature': True,\n",
      " 'fixed_point_parameter': 20,\n",
      " 'gamma': 0.0,\n",
      " 'learning_rate': 0.3,\n",
      " 'max_depth': 5,\n",
      " 'max_leaf': 8,\n",
      " 'num_boost_round': 3,\n",
      " 'objective': 'logistic',\n",
      " 'quantization_scale': 10000.0,\n",
      " 'reg_lambda': 1.0,\n",
      " 'rowsample_by_tree': 1.0,\n",
      " 'save_best_model': False,\n",
      " 'seed': 1212,\n",
      " 'sketch_eps': 0.1,\n",
      " 'stopping_rounds': 1,\n",
      " 'stopping_tolerance': 0.0,\n",
      " 'top_rate': 0.3,\n",
      " 'tree_growing_method': 'leaf',\n",
      " 'validation_fraction': 0.1}\n"
     ]
    },
    {
     "name": "stderr",
     "output_type": "stream",
     "text": [
      "2024-08-02 19:55:57.305 INFO proxy.py:180 [bob] -- [Anonymous_job] Create proxy actor <class 'secretflow.ml.boost.sgb_v.factory.sgb_actor.SGBActor'> with party alice.\n",
      "2024-08-02 19:55:57.306 INFO proxy.py:180 [bob] -- [Anonymous_job] Create proxy actor <class 'secretflow.ml.boost.sgb_v.factory.sgb_actor.SGBActor'> with party bob.\n",
      "2024-08-02 19:55:57.336 INFO global_ordermap_booster.py:214 [bob] -- [Anonymous_job] training the first tree with label holder only.\n",
      "2024-08-02 19:55:57.337 INFO leaf_wise_tree_trainer.py:117 [bob] -- [Anonymous_job] train tree context set up.\n",
      "2024-08-02 19:55:59.366 INFO leaf_wise_tree_trainer.py:209 [bob] -- [Anonymous_job] begin train tree.\n",
      "2024-08-02 19:56:07.398 INFO global_ordermap_booster.py:237 [bob] -- [Anonymous_job] epoch 0 time 10.061852868064307s\n",
      "2024-08-02 19:56:07.399 WARNING callback.py:455 [bob] -- [Anonymous_job] no effective dump_function provided.\n",
      "2024-08-02 19:56:07.399 INFO leaf_wise_tree_trainer.py:117 [bob] -- [Anonymous_job] train tree context set up.\n",
      "2024-08-02 19:56:07.415 INFO leaf_wise_tree_trainer.py:209 [bob] -- [Anonymous_job] begin train tree.\n",
      "2024-08-02 19:56:08.331 INFO global_ordermap_booster.py:237 [bob] -- [Anonymous_job] epoch 1 time 0.9314705779543146s\n",
      "2024-08-02 19:56:08.332 WARNING callback.py:455 [bob] -- [Anonymous_job] no effective dump_function provided.\n",
      "2024-08-02 19:56:08.332 INFO leaf_wise_tree_trainer.py:117 [bob] -- [Anonymous_job] train tree context set up.\n",
      "2024-08-02 19:56:08.347 INFO leaf_wise_tree_trainer.py:209 [bob] -- [Anonymous_job] begin train tree.\n",
      "2024-08-02 19:56:09.210 INFO global_ordermap_booster.py:237 [bob] -- [Anonymous_job] epoch 2 time 0.8774064439348876s\n",
      "2024-08-02 19:56:09.211 WARNING callback.py:455 [bob] -- [Anonymous_job] no effective dump_function provided.\n"
     ]
    }
   ],
   "source": [
    "params = get_classic_lightGBM_params()\n",
    "params['num_boost_round'] = 3\n",
    "params['max_leaf'] = 2**3\n",
    "pp.pprint(params)\n",
    "model = sgb.train(params, v_data, label_data)"
   ]
  },
  {
   "cell_type": "code",
   "execution_count": 12,
   "id": "a69b5e0b",
   "metadata": {},
   "outputs": [
    {
     "name": "stdout",
     "output_type": "stream",
     "text": [
      "auc: 0.992944347550341\n"
     ]
    }
   ],
   "source": [
    "yhat = model.predict(v_data)\n",
    "yhat = reveal(yhat)\n",
    "print(f\"auc: {roc_auc_score(y, yhat)}\")"
   ]
  }
 ],
 "metadata": {
  "kernelspec": {
   "display_name": "Python 3.8.13 ('sf')",
   "language": "python",
   "name": "python3"
  },
  "language_info": {
   "codemirror_mode": {
    "name": "ipython",
    "version": 3
   },
   "file_extension": ".py",
   "mimetype": "text/x-python",
   "name": "python",
   "nbconvert_exporter": "python",
   "pygments_lexer": "ipython3",
   "version": "3.10.14"
  },
  "vscode": {
   "interpreter": {
    "hash": "db45a4cb4cd37a8de684dfb7fcf899b68fccb8bd32d97c5ad13e5de1245c0986"
   }
  }
 },
 "nbformat": 4,
 "nbformat_minor": 5
}
