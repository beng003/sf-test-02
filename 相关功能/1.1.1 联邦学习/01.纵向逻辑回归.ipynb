{
 "cells": [
  {
   "cell_type": "code",
   "execution_count": 1,
   "metadata": {},
   "outputs": [
    {
     "name": "stderr",
     "output_type": "stream",
     "text": [
      "/tmp/ipykernel_271003/1420835607.py:10: DeprecationWarning: connections() is deprecated and will be removed; use net_connections() instead\n",
      "  connections = proc.connections(kind=\"inet\")\n"
     ]
    },
    {
     "name": "stdout",
     "output_type": "stream",
     "text": [
      "No process found using port 16307\n",
      "No process found using port 11666\n"
     ]
    },
    {
     "name": "stderr",
     "output_type": "stream",
     "text": [
      "2024-08-13 19:23:25,339\tINFO worker.py:1540 -- Connecting to existing Ray cluster at address: ecm-02:6379...\n",
      "2024-08-13 19:23:25,347\tINFO worker.py:1724 -- Connected to Ray cluster.\n",
      "2024-08-13 19:23:25.374 INFO api.py:233 [bob] -- [Anonymous_job] Started rayfed with {'CLUSTER_ADDRESSES': {'alice': 'ecm-01:16307', 'bob': '0.0.0.0:16307'}, 'CURRENT_PARTY_NAME': 'bob', 'TLS_CONFIG': {'ca_cert': '/home/beng003/certificate/alice_ca.crt', 'cert': '/home/beng003/certificate/bob_server_cert.crt', 'key': '/home/beng003/certificate/bob_server_key.key'}}\n"
     ]
    },
    {
     "name": "stdout",
     "output_type": "stream",
     "text": [
      "The version of SecretFlow: 1.8.0b0\n"
     ]
    },
    {
     "name": "stderr",
     "output_type": "stream",
     "text": [
      "\u001b[36m(ReceiverProxyActor pid=271086)\u001b[0m 2024-08-13 19:23:26.336 INFO grpc_proxy.py:359 [bob] -- [Anonymous_job] ReceiverProxy binding port 16307, options: (('grpc.enable_retries', 1), ('grpc.so_reuseport', 0), ('grpc.max_send_message_length', 524288000), ('grpc.max_receive_message_length', 524288000), ('grpc.service_config', '{\"methodConfig\": [{\"name\": [{\"service\": \"GrpcService\"}], \"retryPolicy\": {\"maxAttempts\": 5, \"initialBackoff\": \"5s\", \"maxBackoff\": \"30s\", \"backoffMultiplier\": 2, \"retryableStatusCodes\": [\"UNAVAILABLE\"]}}]}'))...\n",
      "2024-08-13 19:23:26.342 INFO barriers.py:284 [bob] -- [Anonymous_job] Succeeded to create receiver proxy actor.\n",
      "\u001b[36m(ReceiverProxyActor pid=271086)\u001b[0m 2024-08-13 19:23:26.340 INFO grpc_proxy.py:379 [bob] -- [Anonymous_job] Successfully start Grpc service with credentials.\n",
      "2024-08-13 19:23:27.231 INFO barriers.py:333 [bob] -- [Anonymous_job] SenderProxyActor has successfully created.\n",
      "2024-08-13 19:23:27.232 INFO barriers.py:520 [bob] -- [Anonymous_job] Try ping ['alice'] at 0 attemp, up to 3600 attemps.\n",
      "2024-08-13 19:23:30.237 INFO barriers.py:520 [bob] -- [Anonymous_job] Try ping ['alice'] at 1 attemp, up to 3600 attemps.\n"
     ]
    },
    {
     "name": "stdout",
     "output_type": "stream",
     "text": [
      "Alice and Bob are ready to go!\n"
     ]
    },
    {
     "name": "stderr",
     "output_type": "stream",
     "text": [
      "\u001b[33m(raylet)\u001b[0m [2024-08-13 19:23:32,496 E 265544 265570] (raylet) file_system_monitor.cc:111: /tmp/ray/session_2024-08-13_19-19-00_433060_265452 is over 95% full, available space: 4221571072; capacity: 105089261568. Object creation will fail if spilling is required.\n",
      "\u001b[33m(raylet)\u001b[0m [2024-08-13 19:23:42,510 E 265544 265570] (raylet) file_system_monitor.cc:111: /tmp/ray/session_2024-08-13_19-19-00_433060_265452 is over 95% full, available space: 4217712640; capacity: 105089261568. Object creation will fail if spilling is required.\n",
      "\u001b[33m(raylet)\u001b[0m [2024-08-13 19:23:52,521 E 265544 265570] (raylet) file_system_monitor.cc:111: /tmp/ray/session_2024-08-13_19-19-00_433060_265452 is over 95% full, available space: 4221509632; capacity: 105089261568. Object creation will fail if spilling is required.\n",
      "\u001b[33m(raylet)\u001b[0m [2024-08-13 19:24:02,529 E 265544 265570] (raylet) file_system_monitor.cc:111: /tmp/ray/session_2024-08-13_19-19-00_433060_265452 is over 95% full, available space: 4217651200; capacity: 105089261568. Object creation will fail if spilling is required.\n",
      "\u001b[33m(raylet)\u001b[0m [2024-08-13 19:24:12,539 E 265544 265570] (raylet) file_system_monitor.cc:111: /tmp/ray/session_2024-08-13_19-19-00_433060_265452 is over 95% full, available space: 4220325888; capacity: 105089261568. Object creation will fail if spilling is required.\n"
     ]
    },
    {
     "name": "stderr",
     "output_type": "stream",
     "text": [
      "\u001b[33m(raylet)\u001b[0m [2024-08-13 19:24:22,545 E 265544 265570] (raylet) file_system_monitor.cc:111: /tmp/ray/session_2024-08-13_19-19-00_433060_265452 is over 95% full, available space: 4221296640; capacity: 105089261568. Object creation will fail if spilling is required.\n"
     ]
    }
   ],
   "source": [
    "# process_utils.py\n",
    "import psutil\n",
    "import os\n",
    "import platform\n",
    "\n",
    "\n",
    "def find_process_by_port(port):\n",
    "    for proc in psutil.process_iter([\"pid\", \"name\"]):\n",
    "        try:\n",
    "            connections = proc.connections(kind=\"inet\")\n",
    "            for conn in connections:\n",
    "                if conn.laddr.port == port:\n",
    "                    return proc.pid\n",
    "        except (psutil.AccessDenied, psutil.NoSuchProcess):\n",
    "            continue\n",
    "    return None\n",
    "\n",
    "\n",
    "def kill_process(pid):\n",
    "    try:\n",
    "        if platform.system() == \"Windows\":\n",
    "            os.system(f\"taskkill /PID {pid} /F\")\n",
    "        else:\n",
    "            os.system(f\"kill -9 {pid}\")\n",
    "        print(f\"Process with PID {pid} has been terminated.\")\n",
    "    except Exception as e:\n",
    "        print(f\"Error terminating process with PID {pid}: {e}\")\n",
    "\n",
    "\n",
    "def kill_port_process(port: int):\n",
    "    pid = find_process_by_port(port)\n",
    "\n",
    "    if pid:\n",
    "        print(f\"Process found using port {port}: PID {pid}\")\n",
    "        kill_process(pid)\n",
    "    else:\n",
    "        print(f\"No process found using port {port}\")\n",
    "\n",
    "\n",
    "pyu_port = 16307\n",
    "spu_port = 11666\n",
    "\n",
    "kill_port_process(port=pyu_port)\n",
    "kill_port_process(port=spu_port)\n",
    "\n",
    "import secretflow as sf\n",
    "\n",
    "# Check the version of your SecretFlow\n",
    "print(\"The version of SecretFlow: {}\".format(sf.__version__))\n",
    "\n",
    "# In case you have a running secretflow runtime already.\n",
    "sf.shutdown()\n",
    "\n",
    "pyu_port = 16307\n",
    "spu_port = 11666\n",
    "\n",
    "\n",
    "cluster_config = {\n",
    "    \"parties\": {\n",
    "        \"alice\": {\n",
    "            # replace with alice's real address.\n",
    "            \"address\": \"ecm-01:\" + str(pyu_port),\n",
    "            \"listen_addr\": \"0.0.0.0:\" + str(pyu_port),\n",
    "        },\n",
    "        \"bob\": {\n",
    "            # replace with bob's real address.\n",
    "            \"address\": \"ecm-02:\" + str(pyu_port),\n",
    "            \"listen_addr\": \"0.0.0.0:\" + str(pyu_port),\n",
    "        },\n",
    "    },\n",
    "    \"self_party\": \"bob\",\n",
    "}\n",
    "\n",
    "tls_config = {\n",
    "    \"ca_cert\": \"/home/beng003/certificate/alice_ca.crt\",\n",
    "    \"cert\": \"/home/beng003/certificate/bob_server_cert.crt\",\n",
    "    \"key\": \"/home/beng003/certificate/bob_server_key.key\",\n",
    "}\n",
    "\n",
    "\n",
    "sf.init(address=\"ecm-02:6379\", cluster_config=cluster_config, tls_config=tls_config)\n",
    "alice = sf.PYU(\"alice\")\n",
    "bob = sf.PYU(\"bob\")\n",
    "print(\"Alice and Bob are ready to go!\")"
   ]
  },
  {
   "cell_type": "markdown",
   "metadata": {},
   "source": [
    "## Data Preparation\n",
    "We use [brease canser](https://archive.ics.uci.edu/ml/datasets/breast+cancer+wisconsin+(diagnostic)) as our dataset.\n",
    "\n",
    "Let us build a mix partitioned data with this dataset. The partitions are as follows:\n",
    "\n",
    "|label|feature1\\~feature2|feature3\\~feature4|\n",
    "|---|---|---|\n",
    "|alice_y0|alice_x0|bob_x0|\n"
   ]
  },
  {
   "cell_type": "code",
   "execution_count": 3,
   "metadata": {},
   "outputs": [],
   "source": [
    "from sklearn.datasets import load_breast_cancer\n",
    "from sklearn.preprocessing import StandardScaler\n",
    "\n",
    "features, label = load_breast_cancer(return_X_y=True, as_frame=True)\n",
    "features.iloc[:, :] = StandardScaler().fit_transform(features)\n",
    "label = label.to_frame()\n",
    "label=label.iloc[0:5]\n",
    "label[\"target\"][0]=1\n",
    "\n",
    "feat_list = [\n",
    "    features.iloc[:, :2],\n",
    "    features.iloc[:, 2:4],\n",
    "]\n",
    "\n",
    "alice_y0 = label.iloc[0:5]\n",
    "alice_x0 = feat_list[0].iloc[0:5, :]\n",
    "bob_x0 = feat_list[1].iloc[0:5, :]"
   ]
  },
  {
   "cell_type": "code",
   "execution_count": 4,
   "metadata": {},
   "outputs": [],
   "source": [
    "import tempfile\n",
    "\n",
    "tmp_dir = \"/home/beng003/python_project/sf-test/data\"\n",
    "\n",
    "\n",
    "def filepath(filename):\n",
    "    return f\"{tmp_dir}/{filename}\"+\".csv\"\n",
    "\n",
    "\n",
    "alice_y0_file = filepath(\"alice_y0\")\n",
    "alice_x0_file = filepath(\"alice_x0\")\n",
    "bob_x0_file = filepath(\"bob_x0\")\n",
    "\n",
    "alice_x0.to_csv(alice_x0_file, index=False)\n",
    "bob_x0.to_csv(bob_x0_file, index=False)\n",
    "alice_y0.to_csv(alice_y0_file, index=False)"
   ]
  },
  {
   "cell_type": "code",
   "execution_count": 5,
   "metadata": {},
   "outputs": [
    {
     "name": "stderr",
     "output_type": "stream",
     "text": [
      "2024-08-13 19:23:46.478 INFO proxy.py:187 [bob] -- [Anonymous_job] Create proxy actor <class 'secretflow.device.proxy.ActorPartitionAgent'> with party alice.\n",
      "2024-08-13 19:23:46.480 INFO proxy.py:187 [bob] -- [Anonymous_job] Create proxy actor <class 'secretflow.device.proxy.ActorPartitionAgent'> with party bob.\n",
      "2024-08-13 19:23:51.280 INFO proxy.py:187 [bob] -- [Anonymous_job] Create proxy actor <class 'secretflow.device.proxy.ActorPartitionAgent'> with party alice.\n"
     ]
    }
   ],
   "source": [
    "vdf_x0 = sf.data.vertical.read_csv(\n",
    "    {alice: alice_x0_file, bob: bob_x0_file}\n",
    ")\n",
    "vdf_y0 = sf.data.vertical.read_csv({alice: alice_y0_file})\n"
   ]
  },
  {
   "cell_type": "code",
   "execution_count": 6,
   "metadata": {},
   "outputs": [
    {
     "name": "stderr",
     "output_type": "stream",
     "text": [
      "2024-08-13 19:24:05.857 INFO proxy.py:187 [bob] -- [Anonymous_job] Create proxy actor <class 'secretflow.device.proxy.Actor_Masker'> with party alice.\n",
      "2024-08-13 19:24:05.858 INFO proxy.py:187 [bob] -- [Anonymous_job] Create proxy actor <class 'secretflow.device.proxy.Actor_Masker'> with party bob.\n"
     ]
    }
   ],
   "source": [
    "from typing import List\n",
    "\n",
    "from secretflow.security.aggregation import SecureAggregator\n",
    "import spu\n",
    "\n",
    "\n",
    "def heu_config(sk_keeper: str, evaluators: List[str]):\n",
    "    return {\n",
    "        'sk_keeper': {'party': sk_keeper},\n",
    "        'evaluators': [{'party': evaluator} for evaluator in evaluators],\n",
    "        'mode': 'PHEU',\n",
    "        'he_parameters': {\n",
    "            'schema': 'paillier',\n",
    "            'key_pair': {'generate': {'bit_size': 2048}},\n",
    "        },\n",
    "    }\n",
    "\n",
    "\n",
    "heu0 = sf.HEU(heu_config('alice', ['bob', 'alice']), spu.spu_pb2.FM128)\n",
    "aggregator0 = SecureAggregator(alice, [alice, bob])\n"
   ]
  },
  {
   "cell_type": "code",
   "execution_count": 7,
   "metadata": {},
   "outputs": [
    {
     "name": "stderr",
     "output_type": "stream",
     "text": [
      "2024-08-13 19:24:09.656 INFO proxy.py:187 [bob] -- [Anonymous_job] Create proxy actor <class 'secretflow.device.proxy.ActorPYUFlLrVWorker'> with party alice.\n",
      "2024-08-13 19:24:09.657 INFO proxy.py:187 [bob] -- [Anonymous_job] Create proxy actor <class 'secretflow.device.proxy.ActorPYUFlLrVWorker'> with party bob.\n",
      "2024-08-13 19:24:12.888 INFO fl_lr_v.py:437 [bob] -- [Anonymous_job] Epoch 0: loss = [[0.83582791]]\n",
      "2024-08-13 19:24:12.991 INFO fl_lr_v.py:437 [bob] -- [Anonymous_job] Epoch 1: loss = [[0.76578909]]\n",
      "2024-08-13 19:24:13.070 INFO fl_lr_v.py:437 [bob] -- [Anonymous_job] Epoch 2: loss = [[0.71598927]]\n",
      "2024-08-13 19:24:13.154 INFO fl_lr_v.py:443 [bob] -- [Anonymous_job] Epoch 3: loss = [[0.67995107]]\n"
     ]
    },
    {
     "name": "stdout",
     "output_type": "stream",
     "text": [
      "\u001b[36m(HEUEvaluator(heu_id=140514492444928, party=bob) pid=272032)\u001b[0m [2024-08-13 19:24:12.897] [info] [thread_pool.cc:30] Create a fixed thread pool with size 7\n"
     ]
    }
   ],
   "source": [
    "import logging\n",
    "\n",
    "logging.root.setLevel(level=logging.INFO)\n",
    "\n",
    "from secretflow.ml.linear import FlLogisticRegressionVertical\n",
    "\n",
    "model = FlLogisticRegressionVertical(\n",
    "    devices=[alice, bob],\n",
    "    aggregator=aggregator0,\n",
    "    heu=heu0,\n",
    ")\n",
    "\n",
    "model.fit(\n",
    "    vdf_x0,\n",
    "    vdf_y0,\n",
    "    batch_size=5,\n",
    "    epochs=3,\n",
    "    learning_rate=0.1,\n",
    ")"
   ]
  },
  {
   "cell_type": "code",
   "execution_count": 8,
   "metadata": {},
   "outputs": [
    {
     "name": "stdout",
     "output_type": "stream",
     "text": [
      "auc: 0.75 , acc: 0.68\n"
     ]
    }
   ],
   "source": [
    "import numpy as np\n",
    "from sklearn.metrics import roc_auc_score\n",
    "\n",
    "y_pred = np.concatenate(sf.reveal(model.predict(vdf_x0)))\n",
    "\n",
    "auc = roc_auc_score(label.values, y_pred)\n",
    "acc = np.mean((y_pred > 0.5) == label.values)\n",
    "print('auc:', auc, ', acc:', acc)"
   ]
  }
 ],
 "metadata": {
  "kernelspec": {
   "display_name": "sf_1.7",
   "language": "python",
   "name": "python3"
  },
  "language_info": {
   "codemirror_mode": {
    "name": "ipython",
    "version": 3
   },
   "file_extension": ".py",
   "mimetype": "text/x-python",
   "name": "python",
   "nbconvert_exporter": "python",
   "pygments_lexer": "ipython3",
   "version": "3.10.14"
  }
 },
 "nbformat": 4,
 "nbformat_minor": 2
}
