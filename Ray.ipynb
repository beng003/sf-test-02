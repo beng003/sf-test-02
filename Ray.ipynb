{
 "cells": [
  {
   "cell_type": "markdown",
   "source": [
    "https://blog.csdn.net/weixin_39915649/article/details/135213748"
   ],
   "metadata": {
    "collapsed": false
   },
   "id": "b825c10a8e8c6a72"
  },
  {
   "cell_type": "code",
   "outputs": [
    {
     "name": "stdout",
     "output_type": "stream",
     "text": [
      "Total time of sleep: 9.9 for 16 tasks\n",
      "Finished in 1.66\n"
     ]
    }
   ],
   "source": [
    "import time\n",
    "import concurrent.futures\n",
    " \n",
    " \n",
    "Stime = time.perf_counter()\n",
    "tasks = []\n",
    "sleepTimes = [0.1, 0.2, 0.1, 0.5, 0.7, 0.9, 0.5,\n",
    "              0.4, 1.5, 1.3, 1.0, 0.3, 0.7, 0.6, 0.3, 0.8]\n",
    "print(f\"Total time of sleep: {sum(sleepTimes)} for {len(sleepTimes)} tasks\")\n",
    " \n",
    "def my_awesome_function(sleepTime=0.1):\n",
    "    time.sleep(sleepTime)\n",
    "    return f\"Sleep time {sleepTime}\"\n",
    " \n",
    "all_results = []\n",
    "with concurrent.futures.ProcessPoolExecutor() as executor:\n",
    "    tasks = [executor.submit(my_awesome_function, sleep)\n",
    "             for sleep in sleepTimes]\n",
    " \n",
    "    for ff in concurrent.futures.as_completed(tasks):\n",
    "        all_results.append(ff.result())\n",
    " \n",
    " \n",
    "print(f\"Finished in {time.perf_counter()-Stime:.2f}\")"
   ],
   "metadata": {
    "collapsed": true,
    "ExecuteTime": {
     "end_time": "2024-04-06T11:26:02.473790Z",
     "start_time": "2024-04-06T11:26:00.803571Z"
    }
   },
   "id": "initial_id",
   "execution_count": 3
  },
  {
   "cell_type": "code",
   "outputs": [
    {
     "name": "stdout",
     "output_type": "stream",
     "text": [
      "Total time of sleep: 9.9 for 16 tasks\n"
     ]
    },
    {
     "name": "stderr",
     "output_type": "stream",
     "text": [
      "2024-04-06 11:26:31,620\tINFO worker.py:1538 -- Started a local Ray instance.\n"
     ]
    },
    {
     "name": "stdout",
     "output_type": "stream",
     "text": [
      "Finished in 7.82\n"
     ]
    }
   ],
   "source": [
    "import time\n",
    "import ray\n",
    " \n",
    "import concurrent.futures\n",
    " \n",
    " \n",
    "Stime = time.perf_counter()\n",
    "tasks = []\n",
    "sleepTimes = [0.1, 0.2, 0.1, 0.5, 0.7, 0.9, 0.5,\n",
    "              0.4, 1.5, 1.3, 1.0, 0.3, 0.7, 0.6, 0.3, 0.8]\n",
    "print(f\"Total time of sleep: {sum(sleepTimes)} for {len(sleepTimes)} tasks\")\n",
    " \n",
    "# 初始化Ray。\n",
    "ray.shutdown()\n",
    "ray.init()\n",
    " \n",
    "@ray.remote #convert to a function that can be executed remotely and asynchronously\n",
    "def my_awesome_function(sleepTime=0.1):\n",
    "    time.sleep(sleepTime)\n",
    "    return f\"Sleep time {sleepTime}\"\n",
    " \n",
    "tasks = []\n",
    "for sleep in sleepTimes:\n",
    "    tasks.append(my_awesome_function.remote(sleep))\n",
    " \n",
    "all_results = ray.get(tasks)\n",
    "print(f\"Finished in {time.perf_counter()-Stime:.2f}\")"
   ],
   "metadata": {
    "collapsed": false,
    "ExecuteTime": {
     "end_time": "2024-04-06T11:26:34.685854Z",
     "start_time": "2024-04-06T11:26:26.853337Z"
    }
   },
   "id": "4000dc8638a445f1",
   "execution_count": 5
  },
  {
   "cell_type": "code",
   "outputs": [
    {
     "data": {
      "text/plain": "['Sleep time 0.1',\n 'Sleep time 0.2',\n 'Sleep time 0.1',\n 'Sleep time 0.5',\n 'Sleep time 0.7',\n 'Sleep time 0.9',\n 'Sleep time 0.5',\n 'Sleep time 0.4',\n 'Sleep time 1.5',\n 'Sleep time 1.3',\n 'Sleep time 1.0',\n 'Sleep time 0.3',\n 'Sleep time 0.7',\n 'Sleep time 0.6',\n 'Sleep time 0.3',\n 'Sleep time 0.8']"
     },
     "execution_count": 7,
     "metadata": {},
     "output_type": "execute_result"
    }
   ],
   "source": [
    "all_results"
   ],
   "metadata": {
    "collapsed": false,
    "ExecuteTime": {
     "end_time": "2024-04-06T11:30:15.411275Z",
     "start_time": "2024-04-06T11:30:15.398937Z"
    }
   },
   "id": "7248971ab9155103",
   "execution_count": 7
  },
  {
   "cell_type": "code",
   "outputs": [
    {
     "name": "stdout",
     "output_type": "stream",
     "text": [
      "Finished in 0.34\n"
     ]
    }
   ],
   "source": [
    "import time\n",
    "import ray\n",
    "import numpy as np\n",
    " \n",
    "Stime = time.perf_counter()\n",
    " \n",
    "@ray.remote\n",
    "def create_matrix(size):\n",
    "    return np.random.normal(size=size)\n",
    " \n",
    "@ray.remote\n",
    "def multiply_matrices(x, y):\n",
    "    return np.dot(x, y)\n",
    " \n",
    "@ray.remote\n",
    "def sum_matrices(x, y):\n",
    "    return np.add(x, y)\n",
    " \n",
    "m1 = create_matrix.remote([1000, 1000])\n",
    "m2 = create_matrix.remote([1000, 1000])\n",
    "m3 = create_matrix.remote([1000, 1000])\n",
    "m4 = create_matrix.remote([1000, 1000])\n",
    " \n",
    "m12 = multiply_matrices.remote(m1, m2)\n",
    "m34 = multiply_matrices.remote(m3, m4)\n",
    " \n",
    "a12_34 =  sum_matrices.remote(m12, m34)\n",
    " \n",
    "## 结果\n",
    "MM = ray.get(a12_34)\n",
    " \n",
    " \n",
    "print(f\"Finished in {time.perf_counter()-Stime:.2f}\")"
   ],
   "metadata": {
    "collapsed": false,
    "ExecuteTime": {
     "end_time": "2024-04-06T11:33:37.204673Z",
     "start_time": "2024-04-06T11:33:36.851526Z"
    }
   },
   "id": "42188ee4fb06bf77",
   "execution_count": 8
  }
 ],
 "metadata": {
  "kernelspec": {
   "display_name": "Python 3",
   "language": "python",
   "name": "python3"
  },
  "language_info": {
   "codemirror_mode": {
    "name": "ipython",
    "version": 2
   },
   "file_extension": ".py",
   "mimetype": "text/x-python",
   "name": "python",
   "nbconvert_exporter": "python",
   "pygments_lexer": "ipython2",
   "version": "2.7.6"
  }
 },
 "nbformat": 4,
 "nbformat_minor": 5
}
