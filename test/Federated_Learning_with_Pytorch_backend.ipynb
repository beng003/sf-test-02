{
 "cells": [
  {
   "attachments": {},
   "cell_type": "markdown",
   "id": "9f6ceddd",
   "metadata": {},
   "source": [
    "# Federated Learning with Pytorch Backend"
   ]
  },
  {
   "attachments": {},
   "cell_type": "markdown",
   "id": "3c2fb4f8",
   "metadata": {},
   "source": [
    ">The following codes are demos only. It's **NOT for production** due to system security concerns, please **DO NOT** use it directly in production."
   ]
  },
  {
   "attachments": {},
   "cell_type": "markdown",
   "id": "13008203",
   "metadata": {},
   "source": [
    "In this tutorial, We will walk you through how to use pytorch backend on SecretFlow for federated learning.  \n",
    "\n",
    "+ We will use the image clasification task as example\n",
    "+ Use pytorch as backend\n",
    "+ We will show how to use multi fl strategy\n",
    "  \n",
    "If you want to learn more about federated learning, datasets, etc., you can move to [Federated Learning for Image Classification](Federate_Learning_for_Image_Classification.ipynb).\n",
    "  \n",
    "**Here we go!**"
   ]
  },
  {
   "cell_type": "code",
   "execution_count": 1,
   "id": "4c69265d",
   "metadata": {},
   "outputs": [],
   "source": [
    "%load_ext autoreload\n",
    "%autoreload 2"
   ]
  },
  {
   "cell_type": "code",
   "execution_count": 2,
   "id": "b00d46f2",
   "metadata": {},
   "outputs": [
    {
     "name": "stdout",
     "output_type": "stream",
     "text": [
      "The version of SecretFlow: 1.7.0b0\n"
     ]
    },
    {
     "name": "stderr",
     "output_type": "stream",
     "text": [
      "/home/beng003/anaconda/envs/sf_1.7/lib/python3.10/subprocess.py:1796: RuntimeWarning: os.fork() was called. os.fork() is incompatible with multithreaded code, and JAX is multithreaded, so this will likely lead to a deadlock.\n",
      "  self.pid = _posixsubprocess.fork_exec(\n",
      "2024-08-01 18:24:25,742\tINFO worker.py:1724 -- Started a local Ray instance.\n"
     ]
    },
    {
     "name": "stderr",
     "output_type": "stream",
     "text": [
      "\u001b[33m(raylet)\u001b[0m [2024-08-01 18:25:25,664 E 1476144 1476144] (raylet) node_manager.cc:3024: 5 Workers (tasks / actors) killed due to memory pressure (OOM), 0 Workers crashed due to other reasons at node (ID: 08dc03f2588dbb8c9d93d512cfda5a1b6d74f3f4438b1170e4d22081, IP: 10.0.0.3) over the last time period. To see more information about the Workers killed on this node, use `ray logs raylet.out -ip 10.0.0.3`\n",
      "\u001b[33m(raylet)\u001b[0m \n",
      "\u001b[33m(raylet)\u001b[0m Refer to the documentation on how to address the out of memory issue: https://docs.ray.io/en/latest/ray-core/scheduling/ray-oom-prevention.html. Consider provisioning more memory on this node or reducing task parallelism by requesting more CPUs per task. To adjust the kill threshold, set the environment variable `RAY_memory_usage_threshold` when starting Ray. To disable worker killing, set the environment variable `RAY_memory_monitor_refresh_ms` to zero.\n",
      "\u001b[33m(raylet)\u001b[0m [2024-08-01 18:26:25,666 E 1476144 1476144] (raylet) node_manager.cc:3024: 1 Workers (tasks / actors) killed due to memory pressure (OOM), 0 Workers crashed due to other reasons at node (ID: 08dc03f2588dbb8c9d93d512cfda5a1b6d74f3f4438b1170e4d22081, IP: 10.0.0.3) over the last time period. To see more information about the Workers killed on this node, use `ray logs raylet.out -ip 10.0.0.3`\n",
      "\u001b[33m(raylet)\u001b[0m \n",
      "\u001b[33m(raylet)\u001b[0m Refer to the documentation on how to address the out of memory issue: https://docs.ray.io/en/latest/ray-core/scheduling/ray-oom-prevention.html. Consider provisioning more memory on this node or reducing task parallelism by requesting more CPUs per task. To adjust the kill threshold, set the environment variable `RAY_memory_usage_threshold` when starting Ray. To disable worker killing, set the environment variable `RAY_memory_monitor_refresh_ms` to zero.\n"
     ]
    }
   ],
   "source": [
    "import secretflow as sf\n",
    "\n",
    "# Check the version of your SecretFlow\n",
    "print('The version of SecretFlow: {}'.format(sf.__version__))\n",
    "\n",
    "# In case you have a running secretflow runtime already.\n",
    "sf.shutdown()\n",
    "\n",
    "sf.init(['alice', 'bob', 'charlie'], address='local')\n",
    "alice, bob, charlie = sf.PYU('alice'), sf.PYU('bob'), sf.PYU('charlie')"
   ]
  },
  {
   "attachments": {},
   "cell_type": "markdown",
   "id": "f58fe11d",
   "metadata": {},
   "source": [
    "### Here, let us first introduce some concepts\n",
    "BaseModule: Similar to the `torch.nn.module`.    \n",
    "TorchModel: A wrap class include `loss_fn`,`optim_fn`,`model_def`,`metrics`.  \n",
    "metric_wrapper: Wrap metrics to workers.  \n",
    "optim_wrapper: Wrap optim_fn to workers.  \n",
    "FLModel: Federated model, use `backend` to specify which bachend will be use, use `strategy` to spcify which federated strategy will be use."
   ]
  },
  {
   "cell_type": "code",
   "execution_count": 3,
   "id": "de99cbf8",
   "metadata": {},
   "outputs": [],
   "source": [
    "from secretflow.ml.nn.core.torch import (\n",
    "    metric_wrapper,\n",
    "    optim_wrapper,\n",
    "    BaseModule,\n",
    "    TorchModel,\n",
    ")\n",
    "from secretflow.ml.nn import FLModel\n",
    "from torchmetrics import Accuracy, Precision\n",
    "from secretflow.security.aggregation import SecureAggregator\n",
    "from secretflow.utils.simulation.datasets import load_mnist\n",
    "from torch import nn, optim\n",
    "from torch.nn import functional as F"
   ]
  },
  {
   "attachments": {},
   "cell_type": "markdown",
   "id": "b9c3ea64",
   "metadata": {},
   "source": [
    "When we define the model, we only need to inherit `BaseModule` instead of `nn.Module`, and the others are consistent with pytorch."
   ]
  },
  {
   "cell_type": "code",
   "execution_count": 4,
   "id": "85d2028a",
   "metadata": {},
   "outputs": [],
   "source": [
    "class ConvNet(BaseModule):\n",
    "    \"\"\"Small ConvNet for MNIST.\"\"\"\n",
    "\n",
    "    def __init__(self):\n",
    "        super(ConvNet, self).__init__()\n",
    "        self.conv1 = nn.Conv2d(1, 3, kernel_size=3)\n",
    "        self.fc_in_dim = 192\n",
    "        self.fc = nn.Linear(self.fc_in_dim, 10)\n",
    "\n",
    "    def forward(self, x):\n",
    "        x = F.relu(F.max_pool2d(self.conv1(x), 3))\n",
    "        x = x.view(-1, self.fc_in_dim)\n",
    "        x = self.fc(x)\n",
    "        return F.softmax(x, dim=1)"
   ]
  },
  {
   "attachments": {},
   "cell_type": "markdown",
   "id": "e62ce093",
   "metadata": {},
   "source": [
    "We can continue to use the loss function and optimizer defined in pytorch, the only difference is that we need to wrap it with the wrapper provided in secretflow."
   ]
  },
  {
   "cell_type": "code",
   "execution_count": 5,
   "id": "645e3fbc",
   "metadata": {},
   "outputs": [],
   "source": [
    "(train_data, train_label), (test_data, test_label) = load_mnist(\n",
    "    parts={alice: 0.4, bob: 0.6},\n",
    "    normalized_x=True,\n",
    "    categorical_y=True,\n",
    "    is_torch=True,\n",
    ")\n",
    "\n",
    "train_data=train_data[0:10]\n",
    "train_label=train_label[0:10]\n",
    "\n",
    "\n",
    "loss_fn = nn.CrossEntropyLoss\n",
    "optim_fn = optim_wrapper(optim.Adam, lr=1e-2)\n",
    "model_def = TorchModel(\n",
    "    model_fn=ConvNet,\n",
    "    loss_fn=loss_fn,\n",
    "    optim_fn=optim_fn,\n",
    "    metrics=[\n",
    "        metric_wrapper(Accuracy, task=\"multiclass\", num_classes=10, average='micro'),\n",
    "        metric_wrapper(Precision, task=\"multiclass\", num_classes=10, average='micro'),\n",
    "    ],\n",
    ")"
   ]
  },
  {
   "cell_type": "code",
   "execution_count": 6,
   "id": "95fcf7b6",
   "metadata": {},
   "outputs": [
    {
     "name": "stderr",
     "output_type": "stream",
     "text": [
      "INFO:root:Create proxy actor <class 'secretflow.security.aggregation.secure_aggregator._Masker'> with party alice.\n",
      "INFO:root:Create proxy actor <class 'secretflow.security.aggregation.secure_aggregator._Masker'> with party bob.\n",
      "INFO:root:Create proxy actor <class 'secretflow.ml.nn.fl.backend.torch.strategy.fed_avg_w.PYUFedAvgW'> with party alice.\n",
      "INFO:root:Create proxy actor <class 'secretflow.ml.nn.fl.backend.torch.strategy.fed_avg_w.PYUFedAvgW'> with party bob.\n"
     ]
    }
   ],
   "source": [
    "device_list = [alice, bob]\n",
    "server = charlie\n",
    "aggregator = SecureAggregator(server, [alice, bob])\n",
    "\n",
    "# spcify params\n",
    "fl_model = FLModel(\n",
    "    server=server,\n",
    "    device_list=device_list,\n",
    "    model=model_def,\n",
    "    aggregator=aggregator,\n",
    "    strategy='fed_avg_w',  # fl strategy\n",
    "    backend=\"torch\",  # backend support ['tensorflow', 'torch']\n",
    ")"
   ]
  },
  {
   "cell_type": "code",
   "execution_count": 7,
   "id": "c595099d",
   "metadata": {},
   "outputs": [
    {
     "name": "stderr",
     "output_type": "stream",
     "text": [
      "INFO:root:FL Train Params: {'x': FedNdarray(partitions={PYURuntime(alice): <secretflow.device.device.pyu.PYUObject object at 0x7f601a739750>, PYURuntime(bob): <secretflow.device.device.pyu.PYUObject object at 0x7f601a739f90>}, partition_way=<PartitionWay.HORIZONTAL: 'horizontal'>), 'y': FedNdarray(partitions={PYURuntime(alice): <secretflow.device.device.pyu.PYUObject object at 0x7f601a7394e0>, PYURuntime(bob): <secretflow.device.device.pyu.PYUObject object at 0x7f601b0390f0>}, partition_way=<PartitionWay.HORIZONTAL: 'horizontal'>), 'batch_size': 3, 'batch_sampling_rate': None, 'epochs': 3, 'verbose': 1, 'callbacks': None, 'validation_data': (FedNdarray(partitions={PYURuntime(alice): <secretflow.device.device.pyu.PYUObject object at 0x7f601a738cd0>, PYURuntime(bob): <secretflow.device.device.pyu.PYUObject object at 0x7f601a739000>}, partition_way=<PartitionWay.HORIZONTAL: 'horizontal'>), FedNdarray(partitions={PYURuntime(alice): <secretflow.device.device.pyu.PYUObject object at 0x7f601a739270>, PYURuntime(bob): <secretflow.device.device.pyu.PYUObject object at 0x7f601a739510>}, partition_way=<PartitionWay.HORIZONTAL: 'horizontal'>)), 'shuffle': False, 'class_weight': None, 'sample_weight': None, 'validation_freq': 1, 'aggregate_freq': 1, 'label_decoder': None, 'max_batch_size': 20000, 'prefetch_buffer_size': None, 'sampler_method': 'batch', 'random_seed': 87954, 'dp_spent_step_freq': None, 'audit_log_dir': None, 'dataset_builder': None, 'wait_steps': 100, 'self': <secretflow.ml.nn.fl.fl_model.FLModel object at 0x7f601a99fd30>}\n"
     ]
    },
    {
     "name": "stderr",
     "output_type": "stream",
     "text": [
      "Train Processing: :   0%|          | 0/4 [00:00<?, ?it/s]"
     ]
    },
    {
     "name": "stdout",
     "output_type": "stream",
     "text": [
      "Epoch 1/3\n"
     ]
    },
    {
     "name": "stderr",
     "output_type": "stream",
     "text": [
      "Train Processing: :   0%|          | 0/4 [00:00<?, ?it/s]/home/beng003/anaconda/envs/sf_1.7/lib/python3.10/site-packages/torch/storage.py:414: FutureWarning: You are using `torch.load` with `weights_only=False` (the current default value), which uses the default pickle module implicitly. It is possible to construct malicious pickle data which will execute arbitrary code during unpickling (See https://github.com/pytorch/pytorch/blob/main/SECURITY.md#untrusted-models for more details). In a future release, the default value for `weights_only` will be flipped to `True`. This limits the functions that could be executed during unpickling. Arbitrary objects will no longer be allowed to be loaded via this mode unless they are explicitly allowlisted by the user via `torch.serialization.add_safe_globals`. We recommend you start setting `weights_only=True` for any use case where you don't have full control of the loaded file. Please open an issue on GitHub for any issues related to this experimental feature.\n",
      "  return torch.load(io.BytesIO(b))\n",
      "/home/beng003/anaconda/envs/sf_1.7/lib/python3.10/site-packages/secretflow/ml/nn/metrics.py:59: UserWarning: Please pay attention to local metrics, global only do naive aggregation.\n",
      "  warnings.warn(\n",
      "2024-08-01 18:25:07.331583: E external/local_xla/xla/stream_executor/cuda/cuda_fft.cc:485] Unable to register cuFFT factory: Attempting to register factory for plugin cuFFT when one has already been registered\n",
      "2024-08-01 18:25:07.996859: E external/local_xla/xla/stream_executor/cuda/cuda_dnn.cc:8454] Unable to register cuDNN factory: Attempting to register factory for plugin cuDNN when one has already been registered\n",
      "2024-08-01 18:25:08.122186: E external/local_xla/xla/stream_executor/cuda/cuda_blas.cc:1452] Unable to register cuBLAS factory: Attempting to register factory for plugin cuBLAS when one has already been registered\n",
      "2024-08-01 18:25:11.866613: W tensorflow/compiler/tf2tensorrt/utils/py_utils.cc:38] TF-TRT Warning: Could not find TensorRT\n",
      "Train Processing: :  75%|███████▌  | 3/4 [00:11<00:03,  3.74s/it, {'multiclassaccuracy': 0.05, 'multiclassprecision': 0.05, 'val_multiclassaccuracy': 0.08979085, 'val_multiclassprecision': 0.08979085}]\n",
      "Train Processing: :   0%|          | 0/4 [00:00<?, ?it/s]"
     ]
    },
    {
     "name": "stderr",
     "output_type": "stream",
     "text": [
      "\u001b[36m(PYUFedAvgW pid=1476859)\u001b[0m /home/beng003/anaconda/envs/sf_1.7/lib/python3.10/site-packages/torch/storage.py:414: FutureWarning: You are using `torch.load` with `weights_only=False` (the current default value), which uses the default pickle module implicitly. It is possible to construct malicious pickle data which will execute arbitrary code during unpickling (See https://github.com/pytorch/pytorch/blob/main/SECURITY.md#untrusted-models for more details). In a future release, the default value for `weights_only` will be flipped to `True`. This limits the functions that could be executed during unpickling. Arbitrary objects will no longer be allowed to be loaded via this mode unless they are explicitly allowlisted by the user via `torch.serialization.add_safe_globals`. We recommend you start setting `weights_only=True` for any use case where you don't have full control of the loaded file. Please open an issue on GitHub for any issues related to this experimental feature.\n",
      "\u001b[36m(PYUFedAvgW pid=1476859)\u001b[0m   return torch.load(io.BytesIO(b))\n"
     ]
    },
    {
     "name": "stdout",
     "output_type": "stream",
     "text": [
      "Epoch 2/3\n"
     ]
    },
    {
     "name": "stdout",
     "output_type": "stream",
     "text": [
      "\u001b[36m(PYUFedAvgW pid=1476859)\u001b[0m {'train-loss': 2.316336154937744, 'train_multiclassaccuracy': tensor(0.), 'train_multiclassprecision': tensor(0.), 'val_eval_multiclassaccuracy': tensor(0.0930), 'val_eval_multiclassprecision': tensor(0.0930)}\n"
     ]
    },
    {
     "name": "stderr",
     "output_type": "stream",
     "text": [
      "Train Processing: :  75%|███████▌  | 3/4 [00:01<00:00,  1.80it/s, {'multiclassaccuracy': 0.15, 'multiclassprecision': 0.15, 'val_multiclassaccuracy': 0.08979085, 'val_multiclassprecision': 0.08979085}]\n",
      "Train Processing: :   0%|          | 0/4 [00:00<?, ?it/s]"
     ]
    },
    {
     "name": "stdout",
     "output_type": "stream",
     "text": [
      "Epoch 3/3\n"
     ]
    },
    {
     "name": "stderr",
     "output_type": "stream",
     "text": [
      "Train Processing: :  75%|███████▌  | 3/4 [00:01<00:00,  1.84it/s, {'multiclassaccuracy': 0.25, 'multiclassprecision': 0.25, 'val_multiclassaccuracy': 0.15952286, 'val_multiclassprecision': 0.15952286}]\n"
     ]
    }
   ],
   "source": [
    "history = fl_model.fit(\n",
    "    train_data,\n",
    "    train_label,\n",
    "    validation_data=(test_data, test_label),\n",
    "    epochs=3,\n",
    "    batch_size=3,\n",
    "    aggregate_freq=1,\n",
    ")"
   ]
  },
  {
   "cell_type": "code",
   "execution_count": 9,
   "id": "c5e37d4a",
   "metadata": {},
   "outputs": [
    {
     "data": {
      "text/plain": [
       "{'global_history': {'multiclassaccuracy': [0.05, 0.15, 0.25],\n",
       "  'multiclassprecision': [0.05, 0.15, 0.25],\n",
       "  'val_multiclassaccuracy': [0.08979085, 0.08979085, 0.15952286],\n",
       "  'val_multiclassprecision': [0.08979085, 0.08979085, 0.15952286]},\n",
       " 'local_history': {'alice_train-loss': [2.316336154937744,\n",
       "   2.315725088119507,\n",
       "   2.3243913650512695],\n",
       "  'alice_train_multiclassaccuracy': [tensor(0.),\n",
       "   tensor(0.1000),\n",
       "   tensor(0.1000)],\n",
       "  'alice_train_multiclassprecision': [tensor(0.),\n",
       "   tensor(0.1000),\n",
       "   tensor(0.1000)],\n",
       "  'alice_val_eval_multiclassaccuracy': [tensor(0.0930),\n",
       "   tensor(0.0930),\n",
       "   tensor(0.1605)],\n",
       "  'alice_val_eval_multiclassprecision': [tensor(0.0930),\n",
       "   tensor(0.0930),\n",
       "   tensor(0.1605)],\n",
       "  'bob_train-loss': [2.3093550205230713, 2.231449842453003, 2.053985357284546],\n",
       "  'bob_train_multiclassaccuracy': [tensor(0.1000),\n",
       "   tensor(0.2000),\n",
       "   tensor(0.4000)],\n",
       "  'bob_train_multiclassprecision': [tensor(0.1000),\n",
       "   tensor(0.2000),\n",
       "   tensor(0.4000)],\n",
       "  'bob_val_eval_multiclassaccuracy': [tensor(0.0866),\n",
       "   tensor(0.0866),\n",
       "   tensor(0.1585)],\n",
       "  'bob_val_eval_multiclassprecision': [tensor(0.0866),\n",
       "   tensor(0.0866),\n",
       "   tensor(0.1585)]}}"
      ]
     },
     "execution_count": 9,
     "metadata": {},
     "output_type": "execute_result"
    }
   ],
   "source": [
    "history"
   ]
  },
  {
   "cell_type": "code",
   "execution_count": 8,
   "id": "55c13406",
   "metadata": {},
   "outputs": [
    {
     "name": "stderr",
     "output_type": "stream",
     "text": [
      "INFO:matplotlib.font_manager:generated new fontManager\n"
     ]
    },
    {
     "data": {
      "image/png": "[encoded data removed]",
      "text/plain": [
       "<Figure size 640x480 with 1 Axes>"
      ]
     },
     "metadata": {},
     "output_type": "display_data"
    }
   ],
   "source": [
    "from matplotlib import pyplot as plt\n",
    "\n",
    "# Draw accuracy values for training & validation\n",
    "plt.plot(history[\"global_history\"]['multiclassaccuracy'])\n",
    "plt.plot(history[\"global_history\"]['val_multiclassaccuracy'])\n",
    "plt.title('FLModel accuracy')\n",
    "plt.ylabel('Accuracy')\n",
    "plt.xlabel('Epoch')\n",
    "plt.legend(['Train', 'Valid'], loc='upper left')\n",
    "plt.show()"
   ]
  }
 ],
 "metadata": {
  "kernelspec": {
   "display_name": "Python 3 (ipykernel)",
   "language": "python",
   "name": "python3"
  },
  "language_info": {
   "codemirror_mode": {
    "name": "ipython",
    "version": 3
   },
   "file_extension": ".py",
   "mimetype": "text/x-python",
   "name": "python",
   "nbconvert_exporter": "python",
   "pygments_lexer": "ipython3",
   "version": "3.10.14"
  },
  "vscode": {
   "interpreter": {
    "hash": "ae1fdd5fd034b7d694352220485921694ff89198520409089b4646721fce11ca"
   }
  }
 },
 "nbformat": 4,
 "nbformat_minor": 5
}
