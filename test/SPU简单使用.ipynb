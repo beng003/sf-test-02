{
 "cells": [
  {
   "cell_type": "markdown",
   "metadata": {},
   "source": [
    "# SPU的简单使用"
   ]
  },
  {
   "cell_type": "markdown",
   "metadata": {},
   "source": [
    "## 1.初始化"
   ]
  },
  {
   "cell_type": "code",
   "execution_count": 1,
   "metadata": {},
   "outputs": [
    {
     "name": "stdout",
     "output_type": "stream",
     "text": [
      "The version of SecretFlow: 1.8.0b0\n"
     ]
    },
    {
     "name": "stderr",
     "output_type": "stream",
     "text": [
      "/home/beng003/anaconda/envs/sf/lib/python3.10/subprocess.py:1796: RuntimeWarning: os.fork() was called. os.fork() is incompatible with multithreaded code, and JAX is multithreaded, so this will likely lead to a deadlock.\n",
      "  self.pid = _posixsubprocess.fork_exec(\n",
      "2024-07-28 20:08:23,123\tINFO worker.py:1724 -- Started a local Ray instance.\n"
     ]
    },
    {
     "name": "stderr",
     "output_type": "stream",
     "text": [
      "\u001b[36m(_run pid=685158)\u001b[0m INFO:jax._src.xla_bridge:Unable to initialize backend 'cuda': \n",
      "\u001b[36m(_run pid=685158)\u001b[0m INFO:jax._src.xla_bridge:Unable to initialize backend 'rocm': module 'jaxlib.xla_extension' has no attribute 'GpuAllocatorConfig'\n",
      "\u001b[36m(_run pid=685158)\u001b[0m INFO:jax._src.xla_bridge:Unable to initialize backend 'tpu': INTERNAL: Failed to open libtpu.so: libtpu.so: cannot open shared object file: No such file or directory\n"
     ]
    }
   ],
   "source": [
    "import secretflow as sf\n",
    "\n",
    "# Check the version of your SecretFlow\n",
    "print('The version of SecretFlow: {}'.format(sf.__version__))\n",
    "\n",
    "# In case you have a running secretflow runtime already.\n",
    "sf.shutdown()\n",
    "\n",
    "sf.init(['alice', 'bob', 'carol', 'dave'], address='local')\n",
    "aby3_config = sf.utils.testing.cluster_def(parties=['alice', 'bob', 'carol'])\n",
    "spu_device = sf.SPU(aby3_config)\n",
    "alice, bob = sf.PYU('alice'), sf.PYU('bob')"
   ]
  },
  {
   "cell_type": "markdown",
   "metadata": {},
   "source": [
    "## 2.某一个参与方执行指定函数"
   ]
  },
  {
   "cell_type": "markdown",
   "metadata": {},
   "source": [
    "执行结果为明文形式"
   ]
  },
  {
   "cell_type": "code",
   "execution_count": 2,
   "metadata": {},
   "outputs": [
    {
     "name": "stdout",
     "output_type": "stream",
     "text": [
      "<secretflow.device.device.pyu.PYUObject object at 0x7fb45dcb2e90>\n",
      "3\n"
     ]
    }
   ],
   "source": [
    "def debit_amount(x, y):\n",
    "    return x + y\n",
    "\n",
    "\n",
    "debit_amount_pyu = alice(debit_amount)(1,2)\n",
    "print(debit_amount_pyu)\n",
    "print(sf.reveal(debit_amount_pyu))"
   ]
  },
  {
   "cell_type": "markdown",
   "metadata": {},
   "source": [
    "## 3.某一参与方读取私有数据"
   ]
  },
  {
   "cell_type": "markdown",
   "metadata": {},
   "source": [
    "### 3.1 使用内置读取方法"
   ]
  },
  {
   "cell_type": "markdown",
   "metadata": {},
   "source": [
    "仅支持读取二进制序列化数据（如用pickle保存的数据）"
   ]
  },
  {
   "cell_type": "code",
   "execution_count": 3,
   "metadata": {},
   "outputs": [
    {
     "name": "stdout",
     "output_type": "stream",
     "text": [
      "数据已序列化并保存到文件。\n"
     ]
    }
   ],
   "source": [
    "import pickle\n",
    "\n",
    "# 创建一个示例字典\n",
    "data = {\n",
    "    'name': 'Alice',\n",
    "    'age': 30,\n",
    "    'city': 'New York'\n",
    "}\n",
    "\n",
    "# 将对象序列化并保存到文件\n",
    "with open('/home/beng003/python_project/sf-test/data/seri_alice.txt', 'wb') as f:\n",
    "    pickle.dump(data, f)\n",
    "\n",
    "print(\"数据已序列化并保存到文件。\")\n"
   ]
  },
  {
   "cell_type": "code",
   "execution_count": 4,
   "metadata": {},
   "outputs": [
    {
     "name": "stdout",
     "output_type": "stream",
     "text": [
      "<secretflow.device.device.pyu.PYUObject object at 0x7fb45dce7490>\n",
      "{'name': 'Alice', 'age': 30, 'city': 'New York'}\n"
     ]
    }
   ],
   "source": [
    "seri_alice=alice.load('/home/beng003/python_project/sf-test/data/seri_alice.txt')\n",
    "print(seri_alice)\n",
    "print(sf.reveal(seri_alice))"
   ]
  },
  {
   "cell_type": "markdown",
   "metadata": {},
   "source": [
    "### 3.2 搭配常用的数据读取函数读取数据 "
   ]
  },
  {
   "cell_type": "markdown",
   "metadata": {},
   "source": [
    "利用原理为让指定参与方执行指定函数"
   ]
  },
  {
   "cell_type": "code",
   "execution_count": 5,
   "metadata": {},
   "outputs": [
    {
     "name": "stdout",
     "output_type": "stream",
     "text": [
      "   age           job  marital  education default  balance housing loan    uid\n",
      "0   49  entrepreneur  married  secondary      no     1160     yes   no   2831\n",
      "1   30   blue-collar  married    primary      no     1480     yes   no   3102\n",
      "2   30    technician   single  secondary      no     1286      no   no  23752\n",
      "3   31        admin.  married  secondary      no       23      no   no  14479\n",
      "4   33    technician  married   tertiary      no     -258      no   no  13052\n",
      "<class 'pandas.core.frame.DataFrame'>\n"
     ]
    }
   ],
   "source": [
    "import pandas as pd\n",
    "\n",
    "m_v_alice = pd.read_csv('/home/beng003/python_project/sf-test/data/v_alice.csv')\n",
    "print(m_v_alice.head())\n",
    "print(type(m_v_alice))"
   ]
  },
  {
   "cell_type": "code",
   "execution_count": 6,
   "metadata": {},
   "outputs": [
    {
     "name": "stdout",
     "output_type": "stream",
     "text": [
      "<secretflow.device.device.pyu.PYUObject object at 0x7fb45dce7b80>\n",
      "   age           job  marital  education default  balance housing loan    uid\n",
      "0   49  entrepreneur  married  secondary      no     1160     yes   no   2831\n",
      "1   30   blue-collar  married    primary      no     1480     yes   no   3102\n",
      "2   30    technician   single  secondary      no     1286      no   no  23752\n",
      "3   31        admin.  married  secondary      no       23      no   no  14479\n",
      "4   33    technician  married   tertiary      no     -258      no   no  13052\n"
     ]
    }
   ],
   "source": [
    "v_alice=alice(pd.read_csv)('/home/beng003/python_project/sf-test/data/v_alice.csv')\n",
    "print(v_alice)\n",
    "print(sf.reveal(v_alice).head())"
   ]
  },
  {
   "cell_type": "markdown",
   "metadata": {},
   "source": [
    "### 3.3 直接将指定数据传给指定参与方"
   ]
  },
  {
   "cell_type": "code",
   "execution_count": 7,
   "metadata": {},
   "outputs": [
    {
     "name": "stderr",
     "output_type": "stream",
     "text": [
      "INFO:jax._src.xla_bridge:Unable to initialize backend 'cuda': \n",
      "INFO:jax._src.xla_bridge:Unable to initialize backend 'rocm': module 'jaxlib.xla_extension' has no attribute 'GpuAllocatorConfig'\n",
      "INFO:jax._src.xla_bridge:Unable to initialize backend 'tpu': INTERNAL: Failed to open libtpu.so: libtpu.so: cannot open shared object file: No such file or directory\n"
     ]
    },
    {
     "name": "stdout",
     "output_type": "stream",
     "text": [
      "<secretflow.device.device.pyu.PYUObject object at 0x7fb4455eead0>\n",
      "[0 1 2 3 4 5 6 7 8 9]\n"
     ]
    }
   ],
   "source": [
    "import jax.numpy as jnp\n",
    "\n",
    "\n",
    "alice_data = jnp.array([0, 1, 2, 3, 4, 5, 6, 7, 8, 9])\n",
    "alice_data_pyu = sf.to(alice, alice_data)\n",
    "\n",
    "print(alice_data_pyu)\n",
    "print(sf.reveal(alice_data_pyu))"
   ]
  },
  {
   "cell_type": "markdown",
   "metadata": {},
   "source": [
    "## 4. 将数据进行多方共享"
   ]
  },
  {
   "cell_type": "markdown",
   "metadata": {},
   "source": [
    "共享的数据类型必须是数值类型"
   ]
  },
  {
   "cell_type": "code",
   "execution_count": 8,
   "metadata": {},
   "outputs": [
    {
     "name": "stdout",
     "output_type": "stream",
     "text": [
      "<secretflow.device.device.spu.SPUObject object at 0x7fb45d446470>\n",
      "[0 1 2 3 4 5 6 7 8 9]\n"
     ]
    }
   ],
   "source": [
    "alice_data_spu=alice_data_pyu.to(spu_device)\n",
    "\n",
    "print(alice_data_spu)\n",
    "print(sf.reveal(alice_data_spu))"
   ]
  },
  {
   "cell_type": "markdown",
   "metadata": {},
   "source": [
    "## 5. 执行多方计算"
   ]
  },
  {
   "cell_type": "markdown",
   "metadata": {},
   "source": [
    "Value xxxxxx with dtype <U3 is not a valid JAX array type. Only arrays of numeric types are supported by JAX.\""
   ]
  },
  {
   "cell_type": "code",
   "execution_count": 9,
   "metadata": {},
   "outputs": [],
   "source": [
    "def apply_operator(a, b):\n",
    "    return a+b, a-b, a*b, a/b\n",
    "\n",
    "\n",
    "bob_data = jnp.array([0, 1, 2, 3, 4, 5, 6, 7, 8, 9])\n",
    "bob_data_pyu = sf.to(bob, bob_data)\n",
    "bob_data_spu = bob_data_pyu.to(spu_device)"
   ]
  },
  {
   "cell_type": "markdown",
   "metadata": {},
   "source": [
    "选项 1：将所有返回值视为单一返回值\n",
    "这是 SPU 的默认行为\n",
    "选项 2：即时决定返回值数量\n",
    "我们还可以指示 SPU 为我们决定返回值数量。\n",
    "选项 3：手动确定返回值数量\n",
    "如果可能，您还可以手动设置返回值数量。\n",
    "\n",
    "```python\n",
    "def __call__(\n",
    "    self,\n",
    "    func: Callable,\n",
    "    *,\n",
    "    static_argnames: Union[str, Iterable[str], None] = None,\n",
    "    num_returns_policy: SPUCompilerNumReturnsPolicy = SPUCompilerNumReturnsPolicy.SINGLE,\n",
    "    user_specified_num_returns: int = 1,\n",
    "    copts: spu_pb2.CompilerOptions = spu_pb2.CompilerOptions(),\n",
    "):\n",
    "```"
   ]
  },
  {
   "cell_type": "code",
   "execution_count": 10,
   "metadata": {},
   "outputs": [
    {
     "name": "stdout",
     "output_type": "stream",
     "text": [
      "<secretflow.device.device.spu.SPUObject object at 0x7fb4455ef610>\n",
      "[ 0  2  4  6  8 10 12 14 16 18]\n",
      "<secretflow.device.device.spu.SPUObject object at 0x7fb4455efee0>\n",
      "[0 0 0 0 0 0 0 0 0 0]\n",
      "<secretflow.device.device.spu.SPUObject object at 0x7fb4455efa30>\n",
      "[ 0  1  4  9 16 25 36 49 64 81]\n",
      "<secretflow.device.device.spu.SPUObject object at 0x7fb4455efdf0>\n",
      "[0.         0.99999666 0.9999966  0.99998647 0.9999966  0.9999974\n",
      " 0.99998647 0.9999999  0.9999966  1.        ]\n"
     ]
    }
   ],
   "source": [
    "from secretflow.device.device.spu import SPUCompilerNumReturnsPolicy\n",
    "alice_add_bob_data, alice_sub_bob_data, alice_mul_bob_data, alice_div_bob_data= (\n",
    "    spu_device(apply_operator, num_returns_policy=SPUCompilerNumReturnsPolicy.FROM_COMPILER)(alice_data_spu, bob_data_spu)\n",
    ")\n",
    "\n",
    "print(alice_add_bob_data)\n",
    "print(sf.reveal(alice_add_bob_data))\n",
    "print(alice_sub_bob_data)\n",
    "print(sf.reveal(alice_sub_bob_data))\n",
    "print(alice_mul_bob_data)\n",
    "print(sf.reveal(alice_mul_bob_data))\n",
    "print(alice_div_bob_data)\n",
    "print(sf.reveal(alice_div_bob_data))"
   ]
  }
 ],
 "metadata": {
  "kernelspec": {
   "display_name": "sf",
   "language": "python",
   "name": "python3"
  },
  "language_info": {
   "codemirror_mode": {
    "name": "ipython",
    "version": 3
   },
   "file_extension": ".py",
   "mimetype": "text/x-python",
   "name": "python",
   "nbconvert_exporter": "python",
   "pygments_lexer": "ipython3",
   "version": "3.10.14"
  }
 },
 "nbformat": 4,
 "nbformat_minor": 2
}
