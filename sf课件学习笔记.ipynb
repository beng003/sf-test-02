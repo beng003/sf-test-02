{
 "cells": [
  {
   "cell_type": "code",
   "execution_count": 1,
   "id": "initial_id",
   "metadata": {
    "collapsed": true,
    "ExecuteTime": {
     "end_time": "2024-04-09T13:23:38.602589Z",
     "start_time": "2024-04-09T13:23:31.538569Z"
    }
   },
   "outputs": [
    {
     "name": "stderr",
     "output_type": "stream",
     "text": [
      "2024-04-09 13:23:37,014\tINFO worker.py:1612 -- Started a local Ray instance. View the dashboard at \u001B[1m\u001B[32mhttp://127.0.0.1:8265 \u001B[39m\u001B[22m\n"
     ]
    },
    {
     "name": "stdout",
     "output_type": "stream",
     "text": [
      "<secretflow.device.device.pyu.PYUObject object at 0x7f1ead286730>\n",
      "<secretflow.device.device.pyu.PYUObject object at 0x7f1eac9762b0>\n"
     ]
    }
   ],
   "source": [
    "import secretflow as sf\n",
    "sf.shutdown()\n",
    "sf.init(parties=['alice', 'bob'], address='local')\n",
    "alice = sf.PYU('alice')\n",
    "bob = sf.PYU('bob')\n",
    "print(alice(lambda x : x + 1)(2))\n",
    "print(bob(lambda x : x - 1)(2))"
   ]
  },
  {
   "cell_type": "markdown",
   "source": [
    "ray start –-head \\\n",
    "--node-ip-address=\"{ip}\" --port=\"{port} \" \\\n",
    "--resources='{\"alice\": 16} ' \\\n",
    "--include-dashboard=False \\\n",
    "--disable-usage-stats"
   ],
   "metadata": {
    "collapsed": false
   },
   "id": "9afb5fc98a47241d"
  },
  {
   "cell_type": "markdown",
   "source": [
    "## 3.[SPU](https://so.csdn.net/so/search?q=SPU&spm=1001.2101.3001.7020) PSI调用架构\n",
    "\n",
    "![在这里插入图片描述](https://img-blog.csdnimg.cn/direct/e323cf501d30447d885f468e83f8db5f.png)\n",
    "\n",
    "### 3.1 启动ray集群"
   ],
   "metadata": {
    "collapsed": false
   },
   "id": "622993f0a49f72be"
  },
  {
   "cell_type": "markdown",
   "source": [
    "# Alice启动ray集群\n",
    "ray start --head --node-ip-address=127.0.0.1 --port=8888 --include-dashboard=False --disable-usage-stats\n",
    "# Bob启动ray集群\n",
    "ray start --head --node-ip-address=127.0.0.1 --port=8888 --include-dashboard=False --disable-usage-stats\n",
    "1234"
   ],
   "metadata": {
    "collapsed": false
   },
   "id": "9aea1c1e1dce83c2"
  },
  {
   "cell_type": "code",
   "outputs": [
    {
     "name": "stderr",
     "output_type": "stream",
     "text": [
      "2024-04-09 13:23:46,186\tINFO worker.py:1431 -- Connecting to existing Ray cluster at address: 211.87.232.46:6207...\n",
      "2024-04-09 13:23:51,207\tERROR utils.py:1395 -- Failed to connect to GCS. Please check `gcs_server.out` for more details.\n",
      "2024-04-09 13:23:51,209\tWARNING utils.py:1401 -- Unable to connect to GCS (ray head) at 211.87.232.46:6207. Check that (1) Ray with matching version started successfully at the specified address, (2) this node can reach the specified address, and (3) there is no firewall setting preventing access.\n",
      "2024-04-09 13:23:58,226\tERROR utils.py:1395 -- Failed to connect to GCS. Please check `gcs_server.out` for more details.\n",
      "2024-04-09 13:23:58,228\tWARNING utils.py:1401 -- Unable to connect to GCS (ray head) at 211.87.232.46:6207. Check that (1) Ray with matching version started successfully at the specified address, (2) this node can reach the specified address, and (3) there is no firewall setting preventing access.\n",
      "2024-04-09 13:24:05,246\tERROR utils.py:1395 -- Failed to connect to GCS. Please check `gcs_server.out` for more details.\n",
      "2024-04-09 13:24:05,248\tWARNING utils.py:1401 -- Unable to connect to GCS (ray head) at 211.87.232.46:6207. Check that (1) Ray with matching version started successfully at the specified address, (2) this node can reach the specified address, and (3) there is no firewall setting preventing access.\n",
      "2024-04-09 13:24:12,267\tERROR utils.py:1395 -- Failed to connect to GCS. Please check `gcs_server.out` for more details.\n",
      "2024-04-09 13:24:12,269\tWARNING utils.py:1401 -- Unable to connect to GCS (ray head) at 211.87.232.46:6207. Check that (1) Ray with matching version started successfully at the specified address, (2) this node can reach the specified address, and (3) there is no firewall setting preventing access.\n",
      "2024-04-09 13:24:19,286\tERROR utils.py:1395 -- Failed to connect to GCS. Please check `gcs_server.out` for more details.\n",
      "2024-04-09 13:24:19,288\tWARNING utils.py:1401 -- Unable to connect to GCS (ray head) at 211.87.232.46:6207. Check that (1) Ray with matching version started successfully at the specified address, (2) this node can reach the specified address, and (3) there is no firewall setting preventing access.\n",
      "2024-04-09 13:24:26,307\tERROR utils.py:1395 -- Failed to connect to GCS. Please check `gcs_server.out` for more details.\n",
      "2024-04-09 13:24:26,309\tWARNING utils.py:1401 -- Unable to connect to GCS (ray head) at 211.87.232.46:6207. Check that (1) Ray with matching version started successfully at the specified address, (2) this node can reach the specified address, and (3) there is no firewall setting preventing access.\n",
      "2024-04-09 13:24:33,327\tERROR utils.py:1395 -- Failed to connect to GCS. Please check `gcs_server.out` for more details.\n",
      "2024-04-09 13:24:33,329\tWARNING utils.py:1401 -- Unable to connect to GCS (ray head) at 211.87.232.46:6207. Check that (1) Ray with matching version started successfully at the specified address, (2) this node can reach the specified address, and (3) there is no firewall setting preventing access.\n",
      "2024-04-09 13:24:40,347\tERROR utils.py:1395 -- Failed to connect to GCS. Please check `gcs_server.out` for more details.\n",
      "2024-04-09 13:24:40,349\tWARNING utils.py:1401 -- Unable to connect to GCS (ray head) at 211.87.232.46:6207. Check that (1) Ray with matching version started successfully at the specified address, (2) this node can reach the specified address, and (3) there is no firewall setting preventing access.\n"
     ]
    },
    {
     "ename": "KeyboardInterrupt",
     "evalue": "",
     "output_type": "error",
     "traceback": [
      "\u001B[0;31m---------------------------------------------------------------------------\u001B[0m",
      "\u001B[0;31mRpcError\u001B[0m                                  Traceback (most recent call last)",
      "File \u001B[0;32mpython/ray/_raylet.pyx:2120\u001B[0m, in \u001B[0;36mray._raylet._auto_reconnect.wrapper\u001B[0;34m()\u001B[0m\n",
      "File \u001B[0;32mpython/ray/_raylet.pyx:2185\u001B[0m, in \u001B[0;36mray._raylet.GcsClient.internal_kv_get\u001B[0;34m()\u001B[0m\n",
      "File \u001B[0;32mpython/ray/_raylet.pyx:410\u001B[0m, in \u001B[0;36mray._raylet.check_status\u001B[0;34m()\u001B[0m\n",
      "\u001B[0;31mRpcError\u001B[0m: failed to connect to all addresses",
      "\nDuring handling of the above exception, another exception occurred:\n",
      "\u001B[0;31mKeyboardInterrupt\u001B[0m                         Traceback (most recent call last)",
      "Cell \u001B[0;32mIn[2], line 25\u001B[0m\n\u001B[1;32m     19\u001B[0m tls_config \u001B[38;5;241m=\u001B[39m {\n\u001B[1;32m     20\u001B[0m \t\u001B[38;5;124m\"\u001B[39m\u001B[38;5;124mca_cert\u001B[39m\u001B[38;5;124m\"\u001B[39m:\u001B[38;5;124m\"\u001B[39m\u001B[38;5;124mca root cert of other parties\u001B[39m\u001B[38;5;124m\"\u001B[39m,\n\u001B[1;32m     21\u001B[0m \t\u001B[38;5;124m\"\u001B[39m\u001B[38;5;124mcert\u001B[39m\u001B[38;5;124m\"\u001B[39m:\u001B[38;5;124m\"\u001B[39m\u001B[38;5;124mserver cert of alice in pem\u001B[39m\u001B[38;5;124m\"\u001B[39m,\n\u001B[1;32m     22\u001B[0m \t\u001B[38;5;124m\"\u001B[39m\u001B[38;5;124mkey\u001B[39m\u001B[38;5;124m\"\u001B[39m:\u001B[38;5;124m\"\u001B[39m\u001B[38;5;124mserver cert of alice in pem\u001B[39m\u001B[38;5;124m\"\u001B[39m,\n\u001B[1;32m     23\u001B[0m }\n\u001B[1;32m     24\u001B[0m \u001B[38;5;66;03m# sf.init(address='211.87.232.46:6207', cluster_config=cluster_config,tls_config=tls_config)\u001B[39;00m\n\u001B[0;32m---> 25\u001B[0m \u001B[43msf\u001B[49m\u001B[38;5;241;43m.\u001B[39;49m\u001B[43minit\u001B[49m\u001B[43m(\u001B[49m\u001B[43maddress\u001B[49m\u001B[38;5;241;43m=\u001B[39;49m\u001B[38;5;124;43m'\u001B[39;49m\u001B[38;5;124;43m211.87.232.46:6207\u001B[39;49m\u001B[38;5;124;43m'\u001B[39;49m\u001B[43m,\u001B[49m\u001B[43m \u001B[49m\u001B[43mcluster_config\u001B[49m\u001B[38;5;241;43m=\u001B[39;49m\u001B[43mcluster_config\u001B[49m\u001B[43m)\u001B[49m\n",
      "File \u001B[0;32m~/anaconda3/envs/sf/lib/python3.8/site-packages/secretflow/device/driver.py:554\u001B[0m, in \u001B[0;36minit\u001B[0;34m(parties, address, cluster_config, num_cpus, num_gpus, log_to_driver, omp_num_threads, logging_level, job_name, cross_silo_comm_backend, cross_silo_comm_options, enable_waiting_for_other_parties_ready, tls_config, auth_manager_config, party_key_pair, tee_simulation, debug_mode, **kwargs)\u001B[0m\n\u001B[1;32m    551\u001B[0m \u001B[38;5;28;01mif\u001B[39;00m tls_config:\n\u001B[1;32m    552\u001B[0m     _parse_tls_config(tls_config, self_party)\n\u001B[0;32m--> 554\u001B[0m \u001B[43mray\u001B[49m\u001B[38;5;241;43m.\u001B[39;49m\u001B[43minit\u001B[49m\u001B[43m(\u001B[49m\n\u001B[1;32m    555\u001B[0m \u001B[43m    \u001B[49m\u001B[43maddress\u001B[49m\u001B[43m,\u001B[49m\n\u001B[1;32m    556\u001B[0m \u001B[43m    \u001B[49m\u001B[43mnum_cpus\u001B[49m\u001B[38;5;241;43m=\u001B[39;49m\u001B[43mnum_cpus\u001B[49m\u001B[43m,\u001B[49m\n\u001B[1;32m    557\u001B[0m \u001B[43m    \u001B[49m\u001B[43mnum_gpus\u001B[49m\u001B[38;5;241;43m=\u001B[39;49m\u001B[43mnum_gpus\u001B[49m\u001B[43m,\u001B[49m\n\u001B[1;32m    558\u001B[0m \u001B[43m    \u001B[49m\u001B[43mlog_to_driver\u001B[49m\u001B[38;5;241;43m=\u001B[39;49m\u001B[43mlog_to_driver\u001B[49m\u001B[43m,\u001B[49m\n\u001B[1;32m    559\u001B[0m \u001B[43m    \u001B[49m\u001B[38;5;241;43m*\u001B[39;49m\u001B[38;5;241;43m*\u001B[39;49m\u001B[43mkwargs\u001B[49m\u001B[43m,\u001B[49m\n\u001B[1;32m    560\u001B[0m \u001B[43m\u001B[49m\u001B[43m)\u001B[49m\n\u001B[1;32m    561\u001B[0m cross_silo_comm_options \u001B[38;5;241m=\u001B[39m cross_silo_comm_options \u001B[38;5;129;01mor\u001B[39;00m {}\n\u001B[1;32m    562\u001B[0m \u001B[38;5;28;01mif\u001B[39;00m \u001B[38;5;124m'\u001B[39m\u001B[38;5;124mexit_on_sending_failure\u001B[39m\u001B[38;5;124m'\u001B[39m \u001B[38;5;129;01mnot\u001B[39;00m \u001B[38;5;129;01min\u001B[39;00m cross_silo_comm_options:\n",
      "File \u001B[0;32m~/anaconda3/envs/sf/lib/python3.8/site-packages/ray/_private/client_mode_hook.py:103\u001B[0m, in \u001B[0;36mclient_mode_hook.<locals>.wrapper\u001B[0;34m(*args, **kwargs)\u001B[0m\n\u001B[1;32m    101\u001B[0m     \u001B[38;5;28;01mif\u001B[39;00m func\u001B[38;5;241m.\u001B[39m\u001B[38;5;18m__name__\u001B[39m \u001B[38;5;241m!=\u001B[39m \u001B[38;5;124m\"\u001B[39m\u001B[38;5;124minit\u001B[39m\u001B[38;5;124m\"\u001B[39m \u001B[38;5;129;01mor\u001B[39;00m is_client_mode_enabled_by_default:\n\u001B[1;32m    102\u001B[0m         \u001B[38;5;28;01mreturn\u001B[39;00m \u001B[38;5;28mgetattr\u001B[39m(ray, func\u001B[38;5;241m.\u001B[39m\u001B[38;5;18m__name__\u001B[39m)(\u001B[38;5;241m*\u001B[39margs, \u001B[38;5;241m*\u001B[39m\u001B[38;5;241m*\u001B[39mkwargs)\n\u001B[0;32m--> 103\u001B[0m \u001B[38;5;28;01mreturn\u001B[39;00m \u001B[43mfunc\u001B[49m\u001B[43m(\u001B[49m\u001B[38;5;241;43m*\u001B[39;49m\u001B[43margs\u001B[49m\u001B[43m,\u001B[49m\u001B[43m \u001B[49m\u001B[38;5;241;43m*\u001B[39;49m\u001B[38;5;241;43m*\u001B[39;49m\u001B[43mkwargs\u001B[49m\u001B[43m)\u001B[49m\n",
      "File \u001B[0;32m~/anaconda3/envs/sf/lib/python3.8/site-packages/ray/_private/worker.py:1577\u001B[0m, in \u001B[0;36minit\u001B[0;34m(address, num_cpus, num_gpus, resources, labels, object_store_memory, local_mode, ignore_reinit_error, include_dashboard, dashboard_host, dashboard_port, job_config, configure_logging, logging_level, logging_format, log_to_driver, namespace, runtime_env, storage, **kwargs)\u001B[0m\n\u001B[1;32m   1564\u001B[0m ray_params \u001B[38;5;241m=\u001B[39m ray\u001B[38;5;241m.\u001B[39m_private\u001B[38;5;241m.\u001B[39mparameter\u001B[38;5;241m.\u001B[39mRayParams(\n\u001B[1;32m   1565\u001B[0m     node_ip_address\u001B[38;5;241m=\u001B[39mnode_ip_address,\n\u001B[1;32m   1566\u001B[0m     raylet_ip_address\u001B[38;5;241m=\u001B[39mraylet_ip_address,\n\u001B[0;32m   (...)\u001B[0m\n\u001B[1;32m   1574\u001B[0m     metrics_export_port\u001B[38;5;241m=\u001B[39m_metrics_export_port,\n\u001B[1;32m   1575\u001B[0m )\n\u001B[1;32m   1576\u001B[0m \u001B[38;5;28;01mtry\u001B[39;00m:\n\u001B[0;32m-> 1577\u001B[0m     _global_node \u001B[38;5;241m=\u001B[39m \u001B[43mray\u001B[49m\u001B[38;5;241;43m.\u001B[39;49m\u001B[43m_private\u001B[49m\u001B[38;5;241;43m.\u001B[39;49m\u001B[43mnode\u001B[49m\u001B[38;5;241;43m.\u001B[39;49m\u001B[43mNode\u001B[49m\u001B[43m(\u001B[49m\n\u001B[1;32m   1578\u001B[0m \u001B[43m        \u001B[49m\u001B[43mray_params\u001B[49m\u001B[43m,\u001B[49m\n\u001B[1;32m   1579\u001B[0m \u001B[43m        \u001B[49m\u001B[43mhead\u001B[49m\u001B[38;5;241;43m=\u001B[39;49m\u001B[38;5;28;43;01mFalse\u001B[39;49;00m\u001B[43m,\u001B[49m\n\u001B[1;32m   1580\u001B[0m \u001B[43m        \u001B[49m\u001B[43mshutdown_at_exit\u001B[49m\u001B[38;5;241;43m=\u001B[39;49m\u001B[38;5;28;43;01mFalse\u001B[39;49;00m\u001B[43m,\u001B[49m\n\u001B[1;32m   1581\u001B[0m \u001B[43m        \u001B[49m\u001B[43mspawn_reaper\u001B[49m\u001B[38;5;241;43m=\u001B[39;49m\u001B[38;5;28;43;01mFalse\u001B[39;49;00m\u001B[43m,\u001B[49m\n\u001B[1;32m   1582\u001B[0m \u001B[43m        \u001B[49m\u001B[43mconnect_only\u001B[49m\u001B[38;5;241;43m=\u001B[39;49m\u001B[38;5;28;43;01mTrue\u001B[39;49;00m\u001B[43m,\u001B[49m\n\u001B[1;32m   1583\u001B[0m \u001B[43m    \u001B[49m\u001B[43m)\u001B[49m\n\u001B[1;32m   1584\u001B[0m \u001B[38;5;28;01mexcept\u001B[39;00m \u001B[38;5;167;01mConnectionError\u001B[39;00m:\n\u001B[1;32m   1585\u001B[0m     \u001B[38;5;28;01mif\u001B[39;00m gcs_address \u001B[38;5;241m==\u001B[39m ray\u001B[38;5;241m.\u001B[39m_private\u001B[38;5;241m.\u001B[39mutils\u001B[38;5;241m.\u001B[39mread_ray_address(_temp_dir):\n",
      "File \u001B[0;32m~/anaconda3/envs/sf/lib/python3.8/site-packages/ray/_private/node.py:186\u001B[0m, in \u001B[0;36mNode.__init__\u001B[0;34m(self, ray_params, head, shutdown_at_exit, spawn_reaper, connect_only, default_worker)\u001B[0m\n\u001B[1;32m    184\u001B[0m \u001B[38;5;28;01mif\u001B[39;00m ray_params\u001B[38;5;241m.\u001B[39msession_name \u001B[38;5;129;01mis\u001B[39;00m \u001B[38;5;28;01mNone\u001B[39;00m:\n\u001B[1;32m    185\u001B[0m     \u001B[38;5;28;01massert\u001B[39;00m \u001B[38;5;129;01mnot\u001B[39;00m \u001B[38;5;28mself\u001B[39m\u001B[38;5;241m.\u001B[39m_default_worker\n\u001B[0;32m--> 186\u001B[0m     session_name \u001B[38;5;241m=\u001B[39m \u001B[43mray\u001B[49m\u001B[38;5;241;43m.\u001B[39;49m\u001B[43m_private\u001B[49m\u001B[38;5;241;43m.\u001B[39;49m\u001B[43mutils\u001B[49m\u001B[38;5;241;43m.\u001B[39;49m\u001B[43minternal_kv_get_with_retry\u001B[49m\u001B[43m(\u001B[49m\n\u001B[1;32m    187\u001B[0m \u001B[43m        \u001B[49m\u001B[38;5;28;43mself\u001B[39;49m\u001B[38;5;241;43m.\u001B[39;49m\u001B[43mget_gcs_client\u001B[49m\u001B[43m(\u001B[49m\u001B[43m)\u001B[49m\u001B[43m,\u001B[49m\n\u001B[1;32m    188\u001B[0m \u001B[43m        \u001B[49m\u001B[38;5;124;43m\"\u001B[39;49m\u001B[38;5;124;43msession_name\u001B[39;49m\u001B[38;5;124;43m\"\u001B[39;49m\u001B[43m,\u001B[49m\n\u001B[1;32m    189\u001B[0m \u001B[43m        \u001B[49m\u001B[43mray_constants\u001B[49m\u001B[38;5;241;43m.\u001B[39;49m\u001B[43mKV_NAMESPACE_SESSION\u001B[49m\u001B[43m,\u001B[49m\n\u001B[1;32m    190\u001B[0m \u001B[43m        \u001B[49m\u001B[43mnum_retries\u001B[49m\u001B[38;5;241;43m=\u001B[39;49m\u001B[43mray_constants\u001B[49m\u001B[38;5;241;43m.\u001B[39;49m\u001B[43mNUM_REDIS_GET_RETRIES\u001B[49m\u001B[43m,\u001B[49m\n\u001B[1;32m    191\u001B[0m \u001B[43m    \u001B[49m\u001B[43m)\u001B[49m\n\u001B[1;32m    192\u001B[0m     \u001B[38;5;28mself\u001B[39m\u001B[38;5;241m.\u001B[39m_session_name \u001B[38;5;241m=\u001B[39m ray\u001B[38;5;241m.\u001B[39m_private\u001B[38;5;241m.\u001B[39mutils\u001B[38;5;241m.\u001B[39mdecode(session_name)\n\u001B[1;32m    193\u001B[0m \u001B[38;5;28;01melse\u001B[39;00m:\n\u001B[1;32m    194\u001B[0m     \u001B[38;5;66;03m# worker mode\u001B[39;00m\n",
      "File \u001B[0;32m~/anaconda3/envs/sf/lib/python3.8/site-packages/ray/_private/utils.py:1395\u001B[0m, in \u001B[0;36minternal_kv_get_with_retry\u001B[0;34m(gcs_client, key, namespace, num_retries)\u001B[0m\n\u001B[1;32m   1393\u001B[0m \u001B[38;5;28;01mfor\u001B[39;00m _ \u001B[38;5;129;01min\u001B[39;00m \u001B[38;5;28mrange\u001B[39m(num_retries):\n\u001B[1;32m   1394\u001B[0m     \u001B[38;5;28;01mtry\u001B[39;00m:\n\u001B[0;32m-> 1395\u001B[0m         result \u001B[38;5;241m=\u001B[39m \u001B[43mgcs_client\u001B[49m\u001B[38;5;241;43m.\u001B[39;49m\u001B[43minternal_kv_get\u001B[49m\u001B[43m(\u001B[49m\u001B[43mkey\u001B[49m\u001B[43m,\u001B[49m\u001B[43m \u001B[49m\u001B[43mnamespace\u001B[49m\u001B[43m)\u001B[49m\n\u001B[1;32m   1396\u001B[0m     \u001B[38;5;28;01mexcept\u001B[39;00m \u001B[38;5;167;01mException\u001B[39;00m \u001B[38;5;28;01mas\u001B[39;00m e:\n\u001B[1;32m   1397\u001B[0m         \u001B[38;5;28;01mif\u001B[39;00m \u001B[38;5;28misinstance\u001B[39m(e, ray\u001B[38;5;241m.\u001B[39mexceptions\u001B[38;5;241m.\u001B[39mRpcError) \u001B[38;5;129;01mand\u001B[39;00m e\u001B[38;5;241m.\u001B[39mrpc_code \u001B[38;5;129;01min\u001B[39;00m (\n\u001B[1;32m   1398\u001B[0m             ray\u001B[38;5;241m.\u001B[39m_raylet\u001B[38;5;241m.\u001B[39mGRPC_STATUS_CODE_UNAVAILABLE,\n\u001B[1;32m   1399\u001B[0m             ray\u001B[38;5;241m.\u001B[39m_raylet\u001B[38;5;241m.\u001B[39mGRPC_STATUS_CODE_UNKNOWN,\n\u001B[1;32m   1400\u001B[0m         ):\n",
      "File \u001B[0;32mpython/ray/_raylet.pyx:2140\u001B[0m, in \u001B[0;36mray._raylet._auto_reconnect.wrapper\u001B[0;34m()\u001B[0m\n",
      "\u001B[0;31mKeyboardInterrupt\u001B[0m: "
     ]
    }
   ],
   "source": [
    "import secretflow as sf\n",
    "\n",
    "sf.shutdown()\n",
    "cluster_config ={\n",
    "    'parties': {\n",
    "        'alice': {\n",
    "            # replace with alice's real address.\n",
    "            'address': '211.87.232.46:6307',\n",
    "            'listen_addr': '211.87.232.46:6407'\n",
    "        },\n",
    "        'bob': {\n",
    "            # replace with bob's real address.\n",
    "            'address': '211.87.232.47:6307',\n",
    "            'listen_addr': '211.87.232.47:6407'\n",
    "        },\n",
    "    },\n",
    "    'self_party': 'alice'\n",
    "}\n",
    "tls_config = {\n",
    "\t\"ca_cert\":\"ca root cert of other parties\",\n",
    "\t\"cert\":\"server cert of alice in pem\",\n",
    "\t\"key\":\"server cert of alice in pem\",\n",
    "}\n",
    "# sf.init(address='211.87.232.46:6207', cluster_config=cluster_config,tls_config=tls_config)\n",
    "sf.init(address='211.87.232.46:6207', cluster_config=cluster_config)"
   ],
   "metadata": {
    "collapsed": false,
    "ExecuteTime": {
     "end_time": "2024-04-09T13:24:46.696821Z",
     "start_time": "2024-04-09T13:23:44.557667Z"
    }
   },
   "id": "aa6dbb1f0a9efbe9",
   "execution_count": 2
  },
  {
   "cell_type": "code",
   "outputs": [],
   "source": [
    "cluster_config ={\n",
    "    'parties': {\n",
    "        'alice': {\n",
    "            # replace with alice's real address.\n",
    "            'address': '211.87.232.46:6307',\n",
    "            'listen_addr': '211.87.232.46:6407'\n",
    "        },\n",
    "        'bob': {\n",
    "            # replace with bob's real address.\n",
    "            'address': '211.87.232.47:6307',\n",
    "            'listen_addr': '211.87.232.47:6407'\n",
    "        },\n",
    "    },\n",
    "    'self_party': 'bob'\n",
    "}\n",
    "tls_config = {\n",
    "\t\"ca_cert\":\"ca root cert of other parties\",\n",
    "\t\"cert\":\"server cert of alice in pem\",\n",
    "\t\"key\":\"server cert of alice in pem\",\n",
    "}\n",
    "sf.init(address='bob ray head node address', cluster_config=cluster_config,tls_config=tls_config)"
   ],
   "metadata": {
    "collapsed": false
   },
   "id": "53a5a8f36d73a043"
  }
 ],
 "metadata": {
  "kernelspec": {
   "display_name": "Python 3",
   "language": "python",
   "name": "python3"
  },
  "language_info": {
   "codemirror_mode": {
    "name": "ipython",
    "version": 2
   },
   "file_extension": ".py",
   "mimetype": "text/x-python",
   "name": "python",
   "nbconvert_exporter": "python",
   "pygments_lexer": "ipython2",
   "version": "2.7.6"
  }
 },
 "nbformat": 4,
 "nbformat_minor": 5
}
